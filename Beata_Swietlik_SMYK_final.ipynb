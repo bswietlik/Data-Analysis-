{
 "cells": [
  {
   "cell_type": "markdown",
   "metadata": {},
   "source": [
    "# Tworzenie listy wysyłkowej klientów\n",
    "CEL: Stworzenie listy wysyłkowej składającej się z maksymalnie 15 000 klientów. \n",
    "- Arkusz ze zgodami komunikacyjnymi: 1 – jeśli klient wyraził zgodę na komunikację, 0 – w przeciwnym przypadku\n",
    "- Arkusz ze sprzedażą: wartość sprzedaży dla klientów przez i po historycznych wysyłkach\n",
    "- Arkusz z listami wysyłkowymi: 1 – jeśli w ramach danej wysyłki klient otrzymał komunikację, 0 – w przeciwnym przypadku"
   ]
  },
  {
   "cell_type": "code",
   "execution_count": 1,
   "metadata": {},
   "outputs": [],
   "source": [
    "import pandas as pd\n",
    "import numpy as np"
   ]
  },
  {
   "cell_type": "markdown",
   "metadata": {},
   "source": [
    "### 1. DATA PROCESSING Opening files"
   ]
  },
  {
   "cell_type": "code",
   "execution_count": 2,
   "metadata": {},
   "outputs": [
    {
     "data": {
      "text/html": [
       "<div>\n",
       "<style scoped>\n",
       "    .dataframe tbody tr th:only-of-type {\n",
       "        vertical-align: middle;\n",
       "    }\n",
       "\n",
       "    .dataframe tbody tr th {\n",
       "        vertical-align: top;\n",
       "    }\n",
       "\n",
       "    .dataframe thead th {\n",
       "        text-align: right;\n",
       "    }\n",
       "</style>\n",
       "<table border=\"1\" class=\"dataframe\">\n",
       "  <thead>\n",
       "    <tr style=\"text-align: right;\">\n",
       "      <th></th>\n",
       "      <th>CUST_ID</th>\n",
       "      <th>CONSENT_COMMUNICATION</th>\n",
       "    </tr>\n",
       "  </thead>\n",
       "  <tbody>\n",
       "    <tr>\n",
       "      <th>0</th>\n",
       "      <td>1</td>\n",
       "      <td>1</td>\n",
       "    </tr>\n",
       "    <tr>\n",
       "      <th>1</th>\n",
       "      <td>2</td>\n",
       "      <td>0</td>\n",
       "    </tr>\n",
       "    <tr>\n",
       "      <th>2</th>\n",
       "      <td>3</td>\n",
       "      <td>0</td>\n",
       "    </tr>\n",
       "    <tr>\n",
       "      <th>3</th>\n",
       "      <td>4</td>\n",
       "      <td>1</td>\n",
       "    </tr>\n",
       "    <tr>\n",
       "      <th>4</th>\n",
       "      <td>5</td>\n",
       "      <td>0</td>\n",
       "    </tr>\n",
       "  </tbody>\n",
       "</table>\n",
       "</div>"
      ],
      "text/plain": [
       "   CUST_ID  CONSENT_COMMUNICATION\n",
       "0        1                      1\n",
       "1        2                      0\n",
       "2        3                      0\n",
       "3        4                      1\n",
       "4        5                      0"
      ]
     },
     "execution_count": 2,
     "metadata": {},
     "output_type": "execute_result"
    }
   ],
   "source": [
    "consent = pd.read_csv('consent.csv')\n",
    "consent.head()"
   ]
  },
  {
   "cell_type": "code",
   "execution_count": 3,
   "metadata": {},
   "outputs": [
    {
     "name": "stdout",
     "output_type": "stream",
     "text": [
      "<class 'pandas.core.frame.DataFrame'>\n",
      "RangeIndex: 50000 entries, 0 to 49999\n",
      "Data columns (total 2 columns):\n",
      " #   Column                 Non-Null Count  Dtype\n",
      "---  ------                 --------------  -----\n",
      " 0   CUST_ID                50000 non-null  int64\n",
      " 1   CONSENT_COMMUNICATION  50000 non-null  int64\n",
      "dtypes: int64(2)\n",
      "memory usage: 781.4 KB\n"
     ]
    }
   ],
   "source": [
    "consent.info()"
   ]
  },
  {
   "cell_type": "code",
   "execution_count": 4,
   "metadata": {},
   "outputs": [
    {
     "data": {
      "text/html": [
       "<div>\n",
       "<style scoped>\n",
       "    .dataframe tbody tr th:only-of-type {\n",
       "        vertical-align: middle;\n",
       "    }\n",
       "\n",
       "    .dataframe tbody tr th {\n",
       "        vertical-align: top;\n",
       "    }\n",
       "\n",
       "    .dataframe thead th {\n",
       "        text-align: right;\n",
       "    }\n",
       "</style>\n",
       "<table border=\"1\" class=\"dataframe\">\n",
       "  <thead>\n",
       "    <tr style=\"text-align: right;\">\n",
       "      <th></th>\n",
       "      <th>CUST_ID</th>\n",
       "      <th>TYPE</th>\n",
       "      <th>VALUE</th>\n",
       "    </tr>\n",
       "  </thead>\n",
       "  <tbody>\n",
       "    <tr>\n",
       "      <th>0</th>\n",
       "      <td>1</td>\n",
       "      <td>SALES_BEFORE_SENDOUT_1</td>\n",
       "      <td>0.000000</td>\n",
       "    </tr>\n",
       "    <tr>\n",
       "      <th>1</th>\n",
       "      <td>2</td>\n",
       "      <td>SALES_BEFORE_SENDOUT_1</td>\n",
       "      <td>0.000000</td>\n",
       "    </tr>\n",
       "    <tr>\n",
       "      <th>2</th>\n",
       "      <td>3</td>\n",
       "      <td>SALES_BEFORE_SENDOUT_1</td>\n",
       "      <td>0.000000</td>\n",
       "    </tr>\n",
       "    <tr>\n",
       "      <th>3</th>\n",
       "      <td>4</td>\n",
       "      <td>SALES_BEFORE_SENDOUT_1</td>\n",
       "      <td>161.812215</td>\n",
       "    </tr>\n",
       "    <tr>\n",
       "      <th>4</th>\n",
       "      <td>5</td>\n",
       "      <td>SALES_BEFORE_SENDOUT_1</td>\n",
       "      <td>0.000000</td>\n",
       "    </tr>\n",
       "  </tbody>\n",
       "</table>\n",
       "</div>"
      ],
      "text/plain": [
       "   CUST_ID                    TYPE       VALUE\n",
       "0        1  SALES_BEFORE_SENDOUT_1    0.000000\n",
       "1        2  SALES_BEFORE_SENDOUT_1    0.000000\n",
       "2        3  SALES_BEFORE_SENDOUT_1    0.000000\n",
       "3        4  SALES_BEFORE_SENDOUT_1  161.812215\n",
       "4        5  SALES_BEFORE_SENDOUT_1    0.000000"
      ]
     },
     "execution_count": 4,
     "metadata": {},
     "output_type": "execute_result"
    }
   ],
   "source": [
    "sales = pd.read_csv('sales.csv')\n",
    "sales.head()"
   ]
  },
  {
   "cell_type": "code",
   "execution_count": 5,
   "metadata": {},
   "outputs": [
    {
     "name": "stdout",
     "output_type": "stream",
     "text": [
      "<class 'pandas.core.frame.DataFrame'>\n",
      "RangeIndex: 300000 entries, 0 to 299999\n",
      "Data columns (total 3 columns):\n",
      " #   Column   Non-Null Count   Dtype  \n",
      "---  ------   --------------   -----  \n",
      " 0   CUST_ID  300000 non-null  int64  \n",
      " 1   TYPE     300000 non-null  object \n",
      " 2   VALUE    300000 non-null  float64\n",
      "dtypes: float64(1), int64(1), object(1)\n",
      "memory usage: 6.9+ MB\n"
     ]
    }
   ],
   "source": [
    "sales.info()"
   ]
  },
  {
   "cell_type": "code",
   "execution_count": 6,
   "metadata": {},
   "outputs": [
    {
     "data": {
      "text/html": [
       "<div>\n",
       "<style scoped>\n",
       "    .dataframe tbody tr th:only-of-type {\n",
       "        vertical-align: middle;\n",
       "    }\n",
       "\n",
       "    .dataframe tbody tr th {\n",
       "        vertical-align: top;\n",
       "    }\n",
       "\n",
       "    .dataframe thead th {\n",
       "        text-align: right;\n",
       "    }\n",
       "</style>\n",
       "<table border=\"1\" class=\"dataframe\">\n",
       "  <thead>\n",
       "    <tr style=\"text-align: right;\">\n",
       "      <th></th>\n",
       "      <th>CUST_ID</th>\n",
       "      <th>VALUE</th>\n",
       "    </tr>\n",
       "  </thead>\n",
       "  <tbody>\n",
       "    <tr>\n",
       "      <th>count</th>\n",
       "      <td>300000.000000</td>\n",
       "      <td>3.000000e+05</td>\n",
       "    </tr>\n",
       "    <tr>\n",
       "      <th>mean</th>\n",
       "      <td>25000.500000</td>\n",
       "      <td>3.336896e+04</td>\n",
       "    </tr>\n",
       "    <tr>\n",
       "      <th>std</th>\n",
       "      <td>14433.780783</td>\n",
       "      <td>3.162281e+07</td>\n",
       "    </tr>\n",
       "    <tr>\n",
       "      <th>min</th>\n",
       "      <td>1.000000</td>\n",
       "      <td>-1.000000e+10</td>\n",
       "    </tr>\n",
       "    <tr>\n",
       "      <th>25%</th>\n",
       "      <td>12500.750000</td>\n",
       "      <td>0.000000e+00</td>\n",
       "    </tr>\n",
       "    <tr>\n",
       "      <th>50%</th>\n",
       "      <td>25000.500000</td>\n",
       "      <td>0.000000e+00</td>\n",
       "    </tr>\n",
       "    <tr>\n",
       "      <th>75%</th>\n",
       "      <td>37500.250000</td>\n",
       "      <td>3.149486e+01</td>\n",
       "    </tr>\n",
       "    <tr>\n",
       "      <th>max</th>\n",
       "      <td>50000.000000</td>\n",
       "      <td>1.000000e+10</td>\n",
       "    </tr>\n",
       "  </tbody>\n",
       "</table>\n",
       "</div>"
      ],
      "text/plain": [
       "             CUST_ID         VALUE\n",
       "count  300000.000000  3.000000e+05\n",
       "mean    25000.500000  3.336896e+04\n",
       "std     14433.780783  3.162281e+07\n",
       "min         1.000000 -1.000000e+10\n",
       "25%     12500.750000  0.000000e+00\n",
       "50%     25000.500000  0.000000e+00\n",
       "75%     37500.250000  3.149486e+01\n",
       "max     50000.000000  1.000000e+10"
      ]
     },
     "execution_count": 6,
     "metadata": {},
     "output_type": "execute_result"
    }
   ],
   "source": [
    "sales.describe()"
   ]
  },
  {
   "cell_type": "code",
   "execution_count": 7,
   "metadata": {},
   "outputs": [
    {
     "data": {
      "text/html": [
       "<div>\n",
       "<style scoped>\n",
       "    .dataframe tbody tr th:only-of-type {\n",
       "        vertical-align: middle;\n",
       "    }\n",
       "\n",
       "    .dataframe tbody tr th {\n",
       "        vertical-align: top;\n",
       "    }\n",
       "\n",
       "    .dataframe thead th {\n",
       "        text-align: right;\n",
       "    }\n",
       "</style>\n",
       "<table border=\"1\" class=\"dataframe\">\n",
       "  <thead>\n",
       "    <tr style=\"text-align: right;\">\n",
       "      <th></th>\n",
       "      <th>CUST_ID</th>\n",
       "      <th>TYPE</th>\n",
       "      <th>VALUE</th>\n",
       "    </tr>\n",
       "  </thead>\n",
       "  <tbody>\n",
       "    <tr>\n",
       "      <th>9</th>\n",
       "      <td>10</td>\n",
       "      <td>SALES_BEFORE_SENDOUT_1</td>\n",
       "      <td>68.073858</td>\n",
       "    </tr>\n",
       "    <tr>\n",
       "      <th>50009</th>\n",
       "      <td>10</td>\n",
       "      <td>SALES_AFTER_SENDOUT_1</td>\n",
       "      <td>11.136352</td>\n",
       "    </tr>\n",
       "    <tr>\n",
       "      <th>100009</th>\n",
       "      <td>10</td>\n",
       "      <td>SALES_BEFORE_SENDOUT_2</td>\n",
       "      <td>0.000000</td>\n",
       "    </tr>\n",
       "    <tr>\n",
       "      <th>150009</th>\n",
       "      <td>10</td>\n",
       "      <td>SALES_AFTER_SENDOUT_2</td>\n",
       "      <td>0.000000</td>\n",
       "    </tr>\n",
       "    <tr>\n",
       "      <th>200009</th>\n",
       "      <td>10</td>\n",
       "      <td>SALES_BEFORE_SENDOUT_3</td>\n",
       "      <td>0.000000</td>\n",
       "    </tr>\n",
       "    <tr>\n",
       "      <th>250009</th>\n",
       "      <td>10</td>\n",
       "      <td>SALES_AFTER_SENDOUT_3</td>\n",
       "      <td>0.000000</td>\n",
       "    </tr>\n",
       "  </tbody>\n",
       "</table>\n",
       "</div>"
      ],
      "text/plain": [
       "        CUST_ID                    TYPE      VALUE\n",
       "9            10  SALES_BEFORE_SENDOUT_1  68.073858\n",
       "50009        10   SALES_AFTER_SENDOUT_1  11.136352\n",
       "100009       10  SALES_BEFORE_SENDOUT_2   0.000000\n",
       "150009       10   SALES_AFTER_SENDOUT_2   0.000000\n",
       "200009       10  SALES_BEFORE_SENDOUT_3   0.000000\n",
       "250009       10   SALES_AFTER_SENDOUT_3   0.000000"
      ]
     },
     "execution_count": 7,
     "metadata": {},
     "output_type": "execute_result"
    }
   ],
   "source": [
    "sales[sales['CUST_ID'] == 10]"
   ]
  },
  {
   "cell_type": "code",
   "execution_count": 8,
   "metadata": {},
   "outputs": [
    {
     "data": {
      "text/plain": [
       "SALES_BEFORE_SENDOUT_3    50000\n",
       "SALES_AFTER_SENDOUT_2     50000\n",
       "SALES_BEFORE_SENDOUT_1    50000\n",
       "SALES_AFTER_SENDOUT_3     50000\n",
       "SALES_BEFORE_SENDOUT_2    50000\n",
       "SALES_AFTER_SENDOUT_1     50000\n",
       "Name: TYPE, dtype: int64"
      ]
     },
     "execution_count": 8,
     "metadata": {},
     "output_type": "execute_result"
    }
   ],
   "source": [
    "sales['TYPE'].value_counts()"
   ]
  },
  {
   "cell_type": "code",
   "execution_count": 9,
   "metadata": {},
   "outputs": [
    {
     "data": {
      "text/html": [
       "<div>\n",
       "<style scoped>\n",
       "    .dataframe tbody tr th:only-of-type {\n",
       "        vertical-align: middle;\n",
       "    }\n",
       "\n",
       "    .dataframe tbody tr th {\n",
       "        vertical-align: top;\n",
       "    }\n",
       "\n",
       "    .dataframe thead th {\n",
       "        text-align: right;\n",
       "    }\n",
       "</style>\n",
       "<table border=\"1\" class=\"dataframe\">\n",
       "  <thead>\n",
       "    <tr style=\"text-align: right;\">\n",
       "      <th></th>\n",
       "      <th>CUST_ID</th>\n",
       "      <th>VALUE</th>\n",
       "    </tr>\n",
       "    <tr>\n",
       "      <th>TYPE</th>\n",
       "      <th></th>\n",
       "      <th></th>\n",
       "    </tr>\n",
       "  </thead>\n",
       "  <tbody>\n",
       "    <tr>\n",
       "      <th>SALES_AFTER_SENDOUT_1</th>\n",
       "      <td>25000.5</td>\n",
       "      <td>200036.075776</td>\n",
       "    </tr>\n",
       "    <tr>\n",
       "      <th>SALES_AFTER_SENDOUT_2</th>\n",
       "      <td>25000.5</td>\n",
       "      <td>-199944.284490</td>\n",
       "    </tr>\n",
       "    <tr>\n",
       "      <th>SALES_AFTER_SENDOUT_3</th>\n",
       "      <td>25000.5</td>\n",
       "      <td>34.026956</td>\n",
       "    </tr>\n",
       "    <tr>\n",
       "      <th>SALES_BEFORE_SENDOUT_1</th>\n",
       "      <td>25000.5</td>\n",
       "      <td>200022.021146</td>\n",
       "    </tr>\n",
       "    <tr>\n",
       "      <th>SALES_BEFORE_SENDOUT_2</th>\n",
       "      <td>25000.5</td>\n",
       "      <td>38.008010</td>\n",
       "    </tr>\n",
       "    <tr>\n",
       "      <th>SALES_BEFORE_SENDOUT_3</th>\n",
       "      <td>25000.5</td>\n",
       "      <td>27.911076</td>\n",
       "    </tr>\n",
       "  </tbody>\n",
       "</table>\n",
       "</div>"
      ],
      "text/plain": [
       "                        CUST_ID          VALUE\n",
       "TYPE                                          \n",
       "SALES_AFTER_SENDOUT_1   25000.5  200036.075776\n",
       "SALES_AFTER_SENDOUT_2   25000.5 -199944.284490\n",
       "SALES_AFTER_SENDOUT_3   25000.5      34.026956\n",
       "SALES_BEFORE_SENDOUT_1  25000.5  200022.021146\n",
       "SALES_BEFORE_SENDOUT_2  25000.5      38.008010\n",
       "SALES_BEFORE_SENDOUT_3  25000.5      27.911076"
      ]
     },
     "execution_count": 9,
     "metadata": {},
     "output_type": "execute_result"
    }
   ],
   "source": [
    "sales.groupby('TYPE').mean()"
   ]
  },
  {
   "cell_type": "code",
   "execution_count": 10,
   "metadata": {},
   "outputs": [
    {
     "data": {
      "text/html": [
       "<div>\n",
       "<style scoped>\n",
       "    .dataframe tbody tr th:only-of-type {\n",
       "        vertical-align: middle;\n",
       "    }\n",
       "\n",
       "    .dataframe tbody tr th {\n",
       "        vertical-align: top;\n",
       "    }\n",
       "\n",
       "    .dataframe thead th {\n",
       "        text-align: right;\n",
       "    }\n",
       "</style>\n",
       "<table border=\"1\" class=\"dataframe\">\n",
       "  <thead>\n",
       "    <tr style=\"text-align: right;\">\n",
       "      <th></th>\n",
       "      <th>CUST_ID</th>\n",
       "      <th>TYPE</th>\n",
       "      <th>VALUE</th>\n",
       "    </tr>\n",
       "  </thead>\n",
       "  <tbody>\n",
       "    <tr>\n",
       "      <th>0</th>\n",
       "      <td>1</td>\n",
       "      <td>SENDOUT_1</td>\n",
       "      <td>1</td>\n",
       "    </tr>\n",
       "    <tr>\n",
       "      <th>1</th>\n",
       "      <td>2</td>\n",
       "      <td>SENDOUT_1</td>\n",
       "      <td>0</td>\n",
       "    </tr>\n",
       "    <tr>\n",
       "      <th>2</th>\n",
       "      <td>3</td>\n",
       "      <td>SENDOUT_1</td>\n",
       "      <td>0</td>\n",
       "    </tr>\n",
       "    <tr>\n",
       "      <th>3</th>\n",
       "      <td>4</td>\n",
       "      <td>SENDOUT_1</td>\n",
       "      <td>1</td>\n",
       "    </tr>\n",
       "    <tr>\n",
       "      <th>4</th>\n",
       "      <td>5</td>\n",
       "      <td>SENDOUT_1</td>\n",
       "      <td>0</td>\n",
       "    </tr>\n",
       "  </tbody>\n",
       "</table>\n",
       "</div>"
      ],
      "text/plain": [
       "   CUST_ID       TYPE  VALUE\n",
       "0        1  SENDOUT_1      1\n",
       "1        2  SENDOUT_1      0\n",
       "2        3  SENDOUT_1      0\n",
       "3        4  SENDOUT_1      1\n",
       "4        5  SENDOUT_1      0"
      ]
     },
     "execution_count": 10,
     "metadata": {},
     "output_type": "execute_result"
    }
   ],
   "source": [
    "sendout= pd.read_csv('sendout.csv')\n",
    "sendout.head()"
   ]
  },
  {
   "cell_type": "code",
   "execution_count": 11,
   "metadata": {},
   "outputs": [
    {
     "name": "stdout",
     "output_type": "stream",
     "text": [
      "<class 'pandas.core.frame.DataFrame'>\n",
      "RangeIndex: 150000 entries, 0 to 149999\n",
      "Data columns (total 3 columns):\n",
      " #   Column   Non-Null Count   Dtype \n",
      "---  ------   --------------   ----- \n",
      " 0   CUST_ID  150000 non-null  int64 \n",
      " 1   TYPE     150000 non-null  object\n",
      " 2   VALUE    150000 non-null  int64 \n",
      "dtypes: int64(2), object(1)\n",
      "memory usage: 3.4+ MB\n"
     ]
    }
   ],
   "source": [
    "sendout.info()"
   ]
  },
  {
   "cell_type": "code",
   "execution_count": 12,
   "metadata": {},
   "outputs": [
    {
     "data": {
      "text/html": [
       "<div>\n",
       "<style scoped>\n",
       "    .dataframe tbody tr th:only-of-type {\n",
       "        vertical-align: middle;\n",
       "    }\n",
       "\n",
       "    .dataframe tbody tr th {\n",
       "        vertical-align: top;\n",
       "    }\n",
       "\n",
       "    .dataframe thead th {\n",
       "        text-align: right;\n",
       "    }\n",
       "</style>\n",
       "<table border=\"1\" class=\"dataframe\">\n",
       "  <thead>\n",
       "    <tr style=\"text-align: right;\">\n",
       "      <th></th>\n",
       "      <th>CUST_ID</th>\n",
       "      <th>VALUE</th>\n",
       "    </tr>\n",
       "  </thead>\n",
       "  <tbody>\n",
       "    <tr>\n",
       "      <th>count</th>\n",
       "      <td>150000.00000</td>\n",
       "      <td>150000.000000</td>\n",
       "    </tr>\n",
       "    <tr>\n",
       "      <th>mean</th>\n",
       "      <td>25000.50000</td>\n",
       "      <td>0.442067</td>\n",
       "    </tr>\n",
       "    <tr>\n",
       "      <th>std</th>\n",
       "      <td>14433.80484</td>\n",
       "      <td>0.496674</td>\n",
       "    </tr>\n",
       "    <tr>\n",
       "      <th>min</th>\n",
       "      <td>1.00000</td>\n",
       "      <td>-1.000000</td>\n",
       "    </tr>\n",
       "    <tr>\n",
       "      <th>25%</th>\n",
       "      <td>12500.75000</td>\n",
       "      <td>0.000000</td>\n",
       "    </tr>\n",
       "    <tr>\n",
       "      <th>50%</th>\n",
       "      <td>25000.50000</td>\n",
       "      <td>0.000000</td>\n",
       "    </tr>\n",
       "    <tr>\n",
       "      <th>75%</th>\n",
       "      <td>37500.25000</td>\n",
       "      <td>1.000000</td>\n",
       "    </tr>\n",
       "    <tr>\n",
       "      <th>max</th>\n",
       "      <td>50000.00000</td>\n",
       "      <td>2.000000</td>\n",
       "    </tr>\n",
       "  </tbody>\n",
       "</table>\n",
       "</div>"
      ],
      "text/plain": [
       "            CUST_ID          VALUE\n",
       "count  150000.00000  150000.000000\n",
       "mean    25000.50000       0.442067\n",
       "std     14433.80484       0.496674\n",
       "min         1.00000      -1.000000\n",
       "25%     12500.75000       0.000000\n",
       "50%     25000.50000       0.000000\n",
       "75%     37500.25000       1.000000\n",
       "max     50000.00000       2.000000"
      ]
     },
     "execution_count": 12,
     "metadata": {},
     "output_type": "execute_result"
    }
   ],
   "source": [
    "sendout.describe()"
   ]
  },
  {
   "cell_type": "code",
   "execution_count": 13,
   "metadata": {},
   "outputs": [
    {
     "data": {
      "text/html": [
       "<div>\n",
       "<style scoped>\n",
       "    .dataframe tbody tr th:only-of-type {\n",
       "        vertical-align: middle;\n",
       "    }\n",
       "\n",
       "    .dataframe tbody tr th {\n",
       "        vertical-align: top;\n",
       "    }\n",
       "\n",
       "    .dataframe thead th {\n",
       "        text-align: right;\n",
       "    }\n",
       "</style>\n",
       "<table border=\"1\" class=\"dataframe\">\n",
       "  <thead>\n",
       "    <tr style=\"text-align: right;\">\n",
       "      <th></th>\n",
       "      <th>TYPE</th>\n",
       "      <th>VALUE</th>\n",
       "    </tr>\n",
       "    <tr>\n",
       "      <th>CUST_ID</th>\n",
       "      <th></th>\n",
       "      <th></th>\n",
       "    </tr>\n",
       "  </thead>\n",
       "  <tbody>\n",
       "    <tr>\n",
       "      <th>1</th>\n",
       "      <td>3</td>\n",
       "      <td>3</td>\n",
       "    </tr>\n",
       "    <tr>\n",
       "      <th>2</th>\n",
       "      <td>3</td>\n",
       "      <td>3</td>\n",
       "    </tr>\n",
       "    <tr>\n",
       "      <th>3</th>\n",
       "      <td>3</td>\n",
       "      <td>3</td>\n",
       "    </tr>\n",
       "    <tr>\n",
       "      <th>4</th>\n",
       "      <td>3</td>\n",
       "      <td>3</td>\n",
       "    </tr>\n",
       "    <tr>\n",
       "      <th>5</th>\n",
       "      <td>3</td>\n",
       "      <td>3</td>\n",
       "    </tr>\n",
       "    <tr>\n",
       "      <th>...</th>\n",
       "      <td>...</td>\n",
       "      <td>...</td>\n",
       "    </tr>\n",
       "    <tr>\n",
       "      <th>49996</th>\n",
       "      <td>3</td>\n",
       "      <td>3</td>\n",
       "    </tr>\n",
       "    <tr>\n",
       "      <th>49997</th>\n",
       "      <td>3</td>\n",
       "      <td>3</td>\n",
       "    </tr>\n",
       "    <tr>\n",
       "      <th>49998</th>\n",
       "      <td>3</td>\n",
       "      <td>3</td>\n",
       "    </tr>\n",
       "    <tr>\n",
       "      <th>49999</th>\n",
       "      <td>3</td>\n",
       "      <td>3</td>\n",
       "    </tr>\n",
       "    <tr>\n",
       "      <th>50000</th>\n",
       "      <td>3</td>\n",
       "      <td>3</td>\n",
       "    </tr>\n",
       "  </tbody>\n",
       "</table>\n",
       "<p>50000 rows × 2 columns</p>\n",
       "</div>"
      ],
      "text/plain": [
       "         TYPE  VALUE\n",
       "CUST_ID             \n",
       "1           3      3\n",
       "2           3      3\n",
       "3           3      3\n",
       "4           3      3\n",
       "5           3      3\n",
       "...       ...    ...\n",
       "49996       3      3\n",
       "49997       3      3\n",
       "49998       3      3\n",
       "49999       3      3\n",
       "50000       3      3\n",
       "\n",
       "[50000 rows x 2 columns]"
      ]
     },
     "execution_count": 13,
     "metadata": {},
     "output_type": "execute_result"
    }
   ],
   "source": [
    "sout = sendout.groupby('CUST_ID').count()\n",
    "sout"
   ]
  },
  {
   "cell_type": "markdown",
   "metadata": {},
   "source": [
    "#### Zmiana ułożenia tabeli z \"długiej\" na \"krótką\""
   ]
  },
  {
   "cell_type": "code",
   "execution_count": 14,
   "metadata": {},
   "outputs": [
    {
     "data": {
      "text/html": [
       "<div>\n",
       "<style scoped>\n",
       "    .dataframe tbody tr th:only-of-type {\n",
       "        vertical-align: middle;\n",
       "    }\n",
       "\n",
       "    .dataframe tbody tr th {\n",
       "        vertical-align: top;\n",
       "    }\n",
       "\n",
       "    .dataframe thead th {\n",
       "        text-align: right;\n",
       "    }\n",
       "</style>\n",
       "<table border=\"1\" class=\"dataframe\">\n",
       "  <thead>\n",
       "    <tr style=\"text-align: right;\">\n",
       "      <th>TYPE</th>\n",
       "      <th>CUST_ID</th>\n",
       "      <th>SALES_AFTER_SENDOUT_1</th>\n",
       "      <th>SALES_AFTER_SENDOUT_2</th>\n",
       "      <th>SALES_AFTER_SENDOUT_3</th>\n",
       "      <th>SALES_BEFORE_SENDOUT_1</th>\n",
       "      <th>SALES_BEFORE_SENDOUT_2</th>\n",
       "      <th>SALES_BEFORE_SENDOUT_3</th>\n",
       "    </tr>\n",
       "  </thead>\n",
       "  <tbody>\n",
       "    <tr>\n",
       "      <th>0</th>\n",
       "      <td>1</td>\n",
       "      <td>46.256184</td>\n",
       "      <td>0.000000</td>\n",
       "      <td>0.000000</td>\n",
       "      <td>0.000000</td>\n",
       "      <td>0.000000</td>\n",
       "      <td>0.0</td>\n",
       "    </tr>\n",
       "    <tr>\n",
       "      <th>1</th>\n",
       "      <td>2</td>\n",
       "      <td>0.000000</td>\n",
       "      <td>59.874689</td>\n",
       "      <td>15.300242</td>\n",
       "      <td>0.000000</td>\n",
       "      <td>52.152643</td>\n",
       "      <td>0.0</td>\n",
       "    </tr>\n",
       "    <tr>\n",
       "      <th>2</th>\n",
       "      <td>3</td>\n",
       "      <td>0.000000</td>\n",
       "      <td>147.683701</td>\n",
       "      <td>0.000000</td>\n",
       "      <td>0.000000</td>\n",
       "      <td>0.000000</td>\n",
       "      <td>0.0</td>\n",
       "    </tr>\n",
       "    <tr>\n",
       "      <th>3</th>\n",
       "      <td>4</td>\n",
       "      <td>64.062829</td>\n",
       "      <td>0.000000</td>\n",
       "      <td>0.000000</td>\n",
       "      <td>161.812215</td>\n",
       "      <td>0.000000</td>\n",
       "      <td>0.0</td>\n",
       "    </tr>\n",
       "    <tr>\n",
       "      <th>4</th>\n",
       "      <td>5</td>\n",
       "      <td>0.000000</td>\n",
       "      <td>0.000000</td>\n",
       "      <td>0.000000</td>\n",
       "      <td>0.000000</td>\n",
       "      <td>176.227903</td>\n",
       "      <td>0.0</td>\n",
       "    </tr>\n",
       "  </tbody>\n",
       "</table>\n",
       "</div>"
      ],
      "text/plain": [
       "TYPE  CUST_ID  SALES_AFTER_SENDOUT_1  SALES_AFTER_SENDOUT_2  \\\n",
       "0           1              46.256184               0.000000   \n",
       "1           2               0.000000              59.874689   \n",
       "2           3               0.000000             147.683701   \n",
       "3           4              64.062829               0.000000   \n",
       "4           5               0.000000               0.000000   \n",
       "\n",
       "TYPE  SALES_AFTER_SENDOUT_3  SALES_BEFORE_SENDOUT_1  SALES_BEFORE_SENDOUT_2  \\\n",
       "0                  0.000000                0.000000                0.000000   \n",
       "1                 15.300242                0.000000               52.152643   \n",
       "2                  0.000000                0.000000                0.000000   \n",
       "3                  0.000000              161.812215                0.000000   \n",
       "4                  0.000000                0.000000              176.227903   \n",
       "\n",
       "TYPE  SALES_BEFORE_SENDOUT_3  \n",
       "0                        0.0  \n",
       "1                        0.0  \n",
       "2                        0.0  \n",
       "3                        0.0  \n",
       "4                        0.0  "
      ]
     },
     "execution_count": 14,
     "metadata": {},
     "output_type": "execute_result"
    }
   ],
   "source": [
    "sales_pivoted= sales.pivot(columns='TYPE', index='CUST_ID', values='VALUE').reset_index()\n",
    "sales_pivoted.head()"
   ]
  },
  {
   "cell_type": "code",
   "execution_count": 16,
   "metadata": {},
   "outputs": [
    {
     "data": {
      "text/html": [
       "<div>\n",
       "<style scoped>\n",
       "    .dataframe tbody tr th:only-of-type {\n",
       "        vertical-align: middle;\n",
       "    }\n",
       "\n",
       "    .dataframe tbody tr th {\n",
       "        vertical-align: top;\n",
       "    }\n",
       "\n",
       "    .dataframe thead th {\n",
       "        text-align: right;\n",
       "    }\n",
       "</style>\n",
       "<table border=\"1\" class=\"dataframe\">\n",
       "  <thead>\n",
       "    <tr style=\"text-align: right;\">\n",
       "      <th>TYPE</th>\n",
       "      <th>CUST_ID</th>\n",
       "      <th>SALES_AFTER_SENDOUT_1</th>\n",
       "      <th>SALES_AFTER_SENDOUT_2</th>\n",
       "      <th>SALES_AFTER_SENDOUT_3</th>\n",
       "      <th>SALES_BEFORE_SENDOUT_1</th>\n",
       "      <th>SALES_BEFORE_SENDOUT_2</th>\n",
       "      <th>SALES_BEFORE_SENDOUT_3</th>\n",
       "    </tr>\n",
       "  </thead>\n",
       "  <tbody>\n",
       "    <tr>\n",
       "      <th>0</th>\n",
       "      <td>1</td>\n",
       "      <td>46.26</td>\n",
       "      <td>0.00</td>\n",
       "      <td>0.00</td>\n",
       "      <td>0.00</td>\n",
       "      <td>0.00</td>\n",
       "      <td>0.00</td>\n",
       "    </tr>\n",
       "    <tr>\n",
       "      <th>1</th>\n",
       "      <td>2</td>\n",
       "      <td>0.00</td>\n",
       "      <td>59.87</td>\n",
       "      <td>15.30</td>\n",
       "      <td>0.00</td>\n",
       "      <td>52.15</td>\n",
       "      <td>0.00</td>\n",
       "    </tr>\n",
       "    <tr>\n",
       "      <th>2</th>\n",
       "      <td>3</td>\n",
       "      <td>0.00</td>\n",
       "      <td>147.68</td>\n",
       "      <td>0.00</td>\n",
       "      <td>0.00</td>\n",
       "      <td>0.00</td>\n",
       "      <td>0.00</td>\n",
       "    </tr>\n",
       "    <tr>\n",
       "      <th>3</th>\n",
       "      <td>4</td>\n",
       "      <td>64.06</td>\n",
       "      <td>0.00</td>\n",
       "      <td>0.00</td>\n",
       "      <td>161.81</td>\n",
       "      <td>0.00</td>\n",
       "      <td>0.00</td>\n",
       "    </tr>\n",
       "    <tr>\n",
       "      <th>4</th>\n",
       "      <td>5</td>\n",
       "      <td>0.00</td>\n",
       "      <td>0.00</td>\n",
       "      <td>0.00</td>\n",
       "      <td>0.00</td>\n",
       "      <td>176.23</td>\n",
       "      <td>0.00</td>\n",
       "    </tr>\n",
       "  </tbody>\n",
       "</table>\n",
       "</div>"
      ],
      "text/plain": [
       "TYPE  CUST_ID  SALES_AFTER_SENDOUT_1  SALES_AFTER_SENDOUT_2  \\\n",
       "0           1                  46.26                   0.00   \n",
       "1           2                   0.00                  59.87   \n",
       "2           3                   0.00                 147.68   \n",
       "3           4                  64.06                   0.00   \n",
       "4           5                   0.00                   0.00   \n",
       "\n",
       "TYPE  SALES_AFTER_SENDOUT_3  SALES_BEFORE_SENDOUT_1  SALES_BEFORE_SENDOUT_2  \\\n",
       "0                      0.00                    0.00                    0.00   \n",
       "1                     15.30                    0.00                   52.15   \n",
       "2                      0.00                    0.00                    0.00   \n",
       "3                      0.00                  161.81                    0.00   \n",
       "4                      0.00                    0.00                  176.23   \n",
       "\n",
       "TYPE  SALES_BEFORE_SENDOUT_3  \n",
       "0                       0.00  \n",
       "1                       0.00  \n",
       "2                       0.00  \n",
       "3                       0.00  \n",
       "4                       0.00  "
      ]
     },
     "execution_count": 16,
     "metadata": {},
     "output_type": "execute_result"
    }
   ],
   "source": [
    "pd.options.display.float_format = \"{:,.2f}\".format\n",
    "sales_pivoted.head()"
   ]
  },
  {
   "cell_type": "code",
   "execution_count": 17,
   "metadata": {},
   "outputs": [
    {
     "data": {
      "text/html": [
       "<div>\n",
       "<style scoped>\n",
       "    .dataframe tbody tr th:only-of-type {\n",
       "        vertical-align: middle;\n",
       "    }\n",
       "\n",
       "    .dataframe tbody tr th {\n",
       "        vertical-align: top;\n",
       "    }\n",
       "\n",
       "    .dataframe thead th {\n",
       "        text-align: right;\n",
       "    }\n",
       "</style>\n",
       "<table border=\"1\" class=\"dataframe\">\n",
       "  <thead>\n",
       "    <tr style=\"text-align: right;\">\n",
       "      <th>TYPE</th>\n",
       "      <th>CUST_ID</th>\n",
       "      <th>SENDOUT_1</th>\n",
       "      <th>SENDOUT_2</th>\n",
       "      <th>SENDOUT_3</th>\n",
       "    </tr>\n",
       "  </thead>\n",
       "  <tbody>\n",
       "    <tr>\n",
       "      <th>0</th>\n",
       "      <td>1</td>\n",
       "      <td>1</td>\n",
       "      <td>0</td>\n",
       "      <td>1</td>\n",
       "    </tr>\n",
       "    <tr>\n",
       "      <th>1</th>\n",
       "      <td>2</td>\n",
       "      <td>0</td>\n",
       "      <td>0</td>\n",
       "      <td>0</td>\n",
       "    </tr>\n",
       "    <tr>\n",
       "      <th>2</th>\n",
       "      <td>3</td>\n",
       "      <td>0</td>\n",
       "      <td>0</td>\n",
       "      <td>0</td>\n",
       "    </tr>\n",
       "    <tr>\n",
       "      <th>3</th>\n",
       "      <td>4</td>\n",
       "      <td>1</td>\n",
       "      <td>0</td>\n",
       "      <td>1</td>\n",
       "    </tr>\n",
       "    <tr>\n",
       "      <th>4</th>\n",
       "      <td>5</td>\n",
       "      <td>0</td>\n",
       "      <td>0</td>\n",
       "      <td>0</td>\n",
       "    </tr>\n",
       "  </tbody>\n",
       "</table>\n",
       "</div>"
      ],
      "text/plain": [
       "TYPE  CUST_ID  SENDOUT_1  SENDOUT_2  SENDOUT_3\n",
       "0           1          1          0          1\n",
       "1           2          0          0          0\n",
       "2           3          0          0          0\n",
       "3           4          1          0          1\n",
       "4           5          0          0          0"
      ]
     },
     "execution_count": 17,
     "metadata": {},
     "output_type": "execute_result"
    }
   ],
   "source": [
    "sendout_pivoted=sendout.pivot(columns='TYPE', index='CUST_ID', values='VALUE').reset_index()\n",
    "sendout_pivoted.head()"
   ]
  },
  {
   "cell_type": "markdown",
   "metadata": {},
   "source": [
    "#### Merguje tabele w jeden DataFrame"
   ]
  },
  {
   "cell_type": "code",
   "execution_count": 18,
   "metadata": {},
   "outputs": [
    {
     "data": {
      "text/html": [
       "<div>\n",
       "<style scoped>\n",
       "    .dataframe tbody tr th:only-of-type {\n",
       "        vertical-align: middle;\n",
       "    }\n",
       "\n",
       "    .dataframe tbody tr th {\n",
       "        vertical-align: top;\n",
       "    }\n",
       "\n",
       "    .dataframe thead th {\n",
       "        text-align: right;\n",
       "    }\n",
       "</style>\n",
       "<table border=\"1\" class=\"dataframe\">\n",
       "  <thead>\n",
       "    <tr style=\"text-align: right;\">\n",
       "      <th></th>\n",
       "      <th>CUST_ID</th>\n",
       "      <th>CONSENT_COMMUNICATION</th>\n",
       "      <th>SALES_AFTER_SENDOUT_1</th>\n",
       "      <th>SALES_AFTER_SENDOUT_2</th>\n",
       "      <th>SALES_AFTER_SENDOUT_3</th>\n",
       "      <th>SALES_BEFORE_SENDOUT_1</th>\n",
       "      <th>SALES_BEFORE_SENDOUT_2</th>\n",
       "      <th>SALES_BEFORE_SENDOUT_3</th>\n",
       "      <th>SENDOUT_1</th>\n",
       "      <th>SENDOUT_2</th>\n",
       "      <th>SENDOUT_3</th>\n",
       "    </tr>\n",
       "  </thead>\n",
       "  <tbody>\n",
       "    <tr>\n",
       "      <th>0</th>\n",
       "      <td>1</td>\n",
       "      <td>1</td>\n",
       "      <td>46.26</td>\n",
       "      <td>0.00</td>\n",
       "      <td>0.00</td>\n",
       "      <td>0.00</td>\n",
       "      <td>0.00</td>\n",
       "      <td>0.00</td>\n",
       "      <td>1</td>\n",
       "      <td>0</td>\n",
       "      <td>1</td>\n",
       "    </tr>\n",
       "    <tr>\n",
       "      <th>1</th>\n",
       "      <td>2</td>\n",
       "      <td>0</td>\n",
       "      <td>0.00</td>\n",
       "      <td>59.87</td>\n",
       "      <td>15.30</td>\n",
       "      <td>0.00</td>\n",
       "      <td>52.15</td>\n",
       "      <td>0.00</td>\n",
       "      <td>0</td>\n",
       "      <td>0</td>\n",
       "      <td>0</td>\n",
       "    </tr>\n",
       "    <tr>\n",
       "      <th>2</th>\n",
       "      <td>3</td>\n",
       "      <td>0</td>\n",
       "      <td>0.00</td>\n",
       "      <td>147.68</td>\n",
       "      <td>0.00</td>\n",
       "      <td>0.00</td>\n",
       "      <td>0.00</td>\n",
       "      <td>0.00</td>\n",
       "      <td>0</td>\n",
       "      <td>0</td>\n",
       "      <td>0</td>\n",
       "    </tr>\n",
       "    <tr>\n",
       "      <th>3</th>\n",
       "      <td>4</td>\n",
       "      <td>1</td>\n",
       "      <td>64.06</td>\n",
       "      <td>0.00</td>\n",
       "      <td>0.00</td>\n",
       "      <td>161.81</td>\n",
       "      <td>0.00</td>\n",
       "      <td>0.00</td>\n",
       "      <td>1</td>\n",
       "      <td>0</td>\n",
       "      <td>1</td>\n",
       "    </tr>\n",
       "    <tr>\n",
       "      <th>4</th>\n",
       "      <td>5</td>\n",
       "      <td>0</td>\n",
       "      <td>0.00</td>\n",
       "      <td>0.00</td>\n",
       "      <td>0.00</td>\n",
       "      <td>0.00</td>\n",
       "      <td>176.23</td>\n",
       "      <td>0.00</td>\n",
       "      <td>0</td>\n",
       "      <td>0</td>\n",
       "      <td>0</td>\n",
       "    </tr>\n",
       "  </tbody>\n",
       "</table>\n",
       "</div>"
      ],
      "text/plain": [
       "   CUST_ID  CONSENT_COMMUNICATION  SALES_AFTER_SENDOUT_1  \\\n",
       "0        1                      1                  46.26   \n",
       "1        2                      0                   0.00   \n",
       "2        3                      0                   0.00   \n",
       "3        4                      1                  64.06   \n",
       "4        5                      0                   0.00   \n",
       "\n",
       "   SALES_AFTER_SENDOUT_2  SALES_AFTER_SENDOUT_3  SALES_BEFORE_SENDOUT_1  \\\n",
       "0                   0.00                   0.00                    0.00   \n",
       "1                  59.87                  15.30                    0.00   \n",
       "2                 147.68                   0.00                    0.00   \n",
       "3                   0.00                   0.00                  161.81   \n",
       "4                   0.00                   0.00                    0.00   \n",
       "\n",
       "   SALES_BEFORE_SENDOUT_2  SALES_BEFORE_SENDOUT_3  SENDOUT_1  SENDOUT_2  \\\n",
       "0                    0.00                    0.00          1          0   \n",
       "1                   52.15                    0.00          0          0   \n",
       "2                    0.00                    0.00          0          0   \n",
       "3                    0.00                    0.00          1          0   \n",
       "4                  176.23                    0.00          0          0   \n",
       "\n",
       "   SENDOUT_3  \n",
       "0          1  \n",
       "1          0  \n",
       "2          0  \n",
       "3          1  \n",
       "4          0  "
      ]
     },
     "execution_count": 18,
     "metadata": {},
     "output_type": "execute_result"
    }
   ],
   "source": [
    "data= consent.merge(sales_pivoted).merge(sendout_pivoted)\n",
    "data.head()"
   ]
  },
  {
   "cell_type": "code",
   "execution_count": 19,
   "metadata": {},
   "outputs": [
    {
     "data": {
      "text/plain": [
       "['CUST_ID',\n",
       " 'CONSENT_COMMUNICATION',\n",
       " 'SALES_AFTER_SENDOUT_1',\n",
       " 'SALES_AFTER_SENDOUT_2',\n",
       " 'SALES_AFTER_SENDOUT_3',\n",
       " 'SALES_BEFORE_SENDOUT_1',\n",
       " 'SALES_BEFORE_SENDOUT_2',\n",
       " 'SALES_BEFORE_SENDOUT_3',\n",
       " 'SENDOUT_1',\n",
       " 'SENDOUT_2',\n",
       " 'SENDOUT_3']"
      ]
     },
     "execution_count": 19,
     "metadata": {},
     "output_type": "execute_result"
    }
   ],
   "source": [
    "data.columns.tolist()"
   ]
  },
  {
   "cell_type": "code",
   "execution_count": 20,
   "metadata": {},
   "outputs": [
    {
     "name": "stdout",
     "output_type": "stream",
     "text": [
      "<class 'pandas.core.frame.DataFrame'>\n",
      "Int64Index: 50000 entries, 0 to 49999\n",
      "Data columns (total 11 columns):\n",
      " #   Column                  Non-Null Count  Dtype  \n",
      "---  ------                  --------------  -----  \n",
      " 0   CUST_ID                 50000 non-null  int64  \n",
      " 1   CONSENT_COMMUNICATION   50000 non-null  int64  \n",
      " 2   SALES_AFTER_SENDOUT_1   50000 non-null  float64\n",
      " 3   SALES_AFTER_SENDOUT_2   50000 non-null  float64\n",
      " 4   SALES_AFTER_SENDOUT_3   50000 non-null  float64\n",
      " 5   SALES_BEFORE_SENDOUT_1  50000 non-null  float64\n",
      " 6   SALES_BEFORE_SENDOUT_2  50000 non-null  float64\n",
      " 7   SALES_BEFORE_SENDOUT_3  50000 non-null  float64\n",
      " 8   SENDOUT_1               50000 non-null  int64  \n",
      " 9   SENDOUT_2               50000 non-null  int64  \n",
      " 10  SENDOUT_3               50000 non-null  int64  \n",
      "dtypes: float64(6), int64(5)\n",
      "memory usage: 4.6 MB\n"
     ]
    }
   ],
   "source": [
    "data.info()"
   ]
  },
  {
   "cell_type": "code",
   "execution_count": 21,
   "metadata": {},
   "outputs": [
    {
     "data": {
      "text/plain": [
       "(50000, 11)"
      ]
     },
     "execution_count": 21,
     "metadata": {},
     "output_type": "execute_result"
    }
   ],
   "source": [
    "data.shape"
   ]
  },
  {
   "cell_type": "code",
   "execution_count": 22,
   "metadata": {},
   "outputs": [
    {
     "data": {
      "text/plain": [
       "False"
      ]
     },
     "execution_count": 22,
     "metadata": {},
     "output_type": "execute_result"
    }
   ],
   "source": [
    "#Czy mamy puste wartości? \n",
    "data.isnull().values.any()"
   ]
  },
  {
   "cell_type": "markdown",
   "metadata": {},
   "source": [
    "#### Sprawdzam, czy mamy wartości odstające/ nie pasujące do schematu danych"
   ]
  },
  {
   "cell_type": "code",
   "execution_count": 23,
   "metadata": {},
   "outputs": [
    {
     "data": {
      "text/plain": [
       "array([1, 0], dtype=int64)"
      ]
     },
     "execution_count": 23,
     "metadata": {},
     "output_type": "execute_result"
    }
   ],
   "source": [
    "data.CONSENT_COMMUNICATION.unique() # mamy wartości 0 i 1 - jest OK"
   ]
  },
  {
   "cell_type": "code",
   "execution_count": 24,
   "metadata": {},
   "outputs": [
    {
     "data": {
      "text/plain": [
       "1    45143\n",
       "0     4857\n",
       "Name: CONSENT_COMMUNICATION, dtype: int64"
      ]
     },
     "execution_count": 24,
     "metadata": {},
     "output_type": "execute_result"
    }
   ],
   "source": [
    "data['CONSENT_COMMUNICATION'].value_counts()  "
   ]
  },
  {
   "cell_type": "code",
   "execution_count": 25,
   "metadata": {},
   "outputs": [
    {
     "data": {
      "text/plain": [
       " 1    25298\n",
       " 0    24701\n",
       "-1        1\n",
       "Name: SENDOUT_1, dtype: int64"
      ]
     },
     "execution_count": 25,
     "metadata": {},
     "output_type": "execute_result"
    }
   ],
   "source": [
    "data['SENDOUT_1'].value_counts() #możemy mieć wartość  0 lub 1, wartość -1 jest błędem, zamienię to na wartość 1"
   ]
  },
  {
   "cell_type": "code",
   "execution_count": 26,
   "metadata": {},
   "outputs": [
    {
     "data": {
      "text/plain": [
       "0    48975\n",
       "1     1024\n",
       "2        1\n",
       "Name: SENDOUT_2, dtype: int64"
      ]
     },
     "execution_count": 26,
     "metadata": {},
     "output_type": "execute_result"
    }
   ],
   "source": [
    "data['SENDOUT_2'].value_counts() #możemy mieć wartość  0 lub 1, wartość 2 jest błędem, zamienię to na wartość 1"
   ]
  },
  {
   "cell_type": "code",
   "execution_count": 27,
   "metadata": {},
   "outputs": [
    {
     "data": {
      "text/plain": [
       "1    39985\n",
       "0    10014\n",
       "2        1\n",
       "Name: SENDOUT_3, dtype: int64"
      ]
     },
     "execution_count": 27,
     "metadata": {},
     "output_type": "execute_result"
    }
   ],
   "source": [
    "data['SENDOUT_3'].value_counts() #możemy mieć wartość  0 lub 1, wartość 2 jest błędem, zamienię to na wartość 1"
   ]
  },
  {
   "cell_type": "code",
   "execution_count": 28,
   "metadata": {},
   "outputs": [],
   "source": [
    "#zmiana błędnych wartości na 1\n",
    "data.replace([-1,2], 1, inplace=True)"
   ]
  },
  {
   "cell_type": "markdown",
   "metadata": {},
   "source": [
    "### 2. Feature Engineering"
   ]
  },
  {
   "cell_type": "markdown",
   "metadata": {},
   "source": [
    "#### Dodaje nowe kolumny, które będą określone jako zysk dla firmy po wysłaniu komunikacji  Będzie to można interpretować jako powodzenie danej kampanii. Na podstawie tych kolumn w dalszej części będę ustalała nową listę do wysyłki komunikacji."
   ]
  },
  {
   "cell_type": "code",
   "execution_count": 29,
   "metadata": {},
   "outputs": [],
   "source": [
    "data['PROFIT_1']=data.SALES_AFTER_SENDOUT_1-data.SALES_BEFORE_SENDOUT_1\n",
    "data['PROFIT_2']=data.SALES_AFTER_SENDOUT_2-data.SALES_BEFORE_SENDOUT_2\n",
    "data['PROFIT_3']=data.SALES_AFTER_SENDOUT_3-data.SALES_BEFORE_SENDOUT_3"
   ]
  },
  {
   "cell_type": "code",
   "execution_count": 30,
   "metadata": {},
   "outputs": [
    {
     "data": {
      "text/plain": [
       "(50000, 14)"
      ]
     },
     "execution_count": 30,
     "metadata": {},
     "output_type": "execute_result"
    }
   ],
   "source": [
    "data.shape"
   ]
  },
  {
   "cell_type": "code",
   "execution_count": 31,
   "metadata": {},
   "outputs": [
    {
     "data": {
      "text/html": [
       "<div>\n",
       "<style scoped>\n",
       "    .dataframe tbody tr th:only-of-type {\n",
       "        vertical-align: middle;\n",
       "    }\n",
       "\n",
       "    .dataframe tbody tr th {\n",
       "        vertical-align: top;\n",
       "    }\n",
       "\n",
       "    .dataframe thead th {\n",
       "        text-align: right;\n",
       "    }\n",
       "</style>\n",
       "<table border=\"1\" class=\"dataframe\">\n",
       "  <thead>\n",
       "    <tr style=\"text-align: right;\">\n",
       "      <th></th>\n",
       "      <th>CUST_ID</th>\n",
       "      <th>CONSENT_COMMUNICATION</th>\n",
       "      <th>SALES_AFTER_SENDOUT_1</th>\n",
       "      <th>SALES_AFTER_SENDOUT_2</th>\n",
       "      <th>SALES_AFTER_SENDOUT_3</th>\n",
       "      <th>SALES_BEFORE_SENDOUT_1</th>\n",
       "      <th>SALES_BEFORE_SENDOUT_2</th>\n",
       "      <th>SALES_BEFORE_SENDOUT_3</th>\n",
       "      <th>SENDOUT_1</th>\n",
       "      <th>SENDOUT_2</th>\n",
       "      <th>SENDOUT_3</th>\n",
       "      <th>PROFIT_1</th>\n",
       "      <th>PROFIT_2</th>\n",
       "      <th>PROFIT_3</th>\n",
       "    </tr>\n",
       "  </thead>\n",
       "  <tbody>\n",
       "    <tr>\n",
       "      <th>0</th>\n",
       "      <td>1</td>\n",
       "      <td>1</td>\n",
       "      <td>46.26</td>\n",
       "      <td>0.00</td>\n",
       "      <td>0.00</td>\n",
       "      <td>0.00</td>\n",
       "      <td>0.00</td>\n",
       "      <td>0.00</td>\n",
       "      <td>1</td>\n",
       "      <td>0</td>\n",
       "      <td>1</td>\n",
       "      <td>46.26</td>\n",
       "      <td>0.00</td>\n",
       "      <td>0.00</td>\n",
       "    </tr>\n",
       "    <tr>\n",
       "      <th>1</th>\n",
       "      <td>1</td>\n",
       "      <td>0</td>\n",
       "      <td>0.00</td>\n",
       "      <td>59.87</td>\n",
       "      <td>15.30</td>\n",
       "      <td>0.00</td>\n",
       "      <td>52.15</td>\n",
       "      <td>0.00</td>\n",
       "      <td>0</td>\n",
       "      <td>0</td>\n",
       "      <td>0</td>\n",
       "      <td>0.00</td>\n",
       "      <td>7.72</td>\n",
       "      <td>15.30</td>\n",
       "    </tr>\n",
       "    <tr>\n",
       "      <th>2</th>\n",
       "      <td>3</td>\n",
       "      <td>0</td>\n",
       "      <td>0.00</td>\n",
       "      <td>147.68</td>\n",
       "      <td>0.00</td>\n",
       "      <td>0.00</td>\n",
       "      <td>0.00</td>\n",
       "      <td>0.00</td>\n",
       "      <td>0</td>\n",
       "      <td>0</td>\n",
       "      <td>0</td>\n",
       "      <td>0.00</td>\n",
       "      <td>147.68</td>\n",
       "      <td>0.00</td>\n",
       "    </tr>\n",
       "    <tr>\n",
       "      <th>3</th>\n",
       "      <td>4</td>\n",
       "      <td>1</td>\n",
       "      <td>64.06</td>\n",
       "      <td>0.00</td>\n",
       "      <td>0.00</td>\n",
       "      <td>161.81</td>\n",
       "      <td>0.00</td>\n",
       "      <td>0.00</td>\n",
       "      <td>1</td>\n",
       "      <td>0</td>\n",
       "      <td>1</td>\n",
       "      <td>-97.75</td>\n",
       "      <td>0.00</td>\n",
       "      <td>0.00</td>\n",
       "    </tr>\n",
       "    <tr>\n",
       "      <th>4</th>\n",
       "      <td>5</td>\n",
       "      <td>0</td>\n",
       "      <td>0.00</td>\n",
       "      <td>0.00</td>\n",
       "      <td>0.00</td>\n",
       "      <td>0.00</td>\n",
       "      <td>176.23</td>\n",
       "      <td>0.00</td>\n",
       "      <td>0</td>\n",
       "      <td>0</td>\n",
       "      <td>0</td>\n",
       "      <td>0.00</td>\n",
       "      <td>-176.23</td>\n",
       "      <td>0.00</td>\n",
       "    </tr>\n",
       "    <tr>\n",
       "      <th>5</th>\n",
       "      <td>6</td>\n",
       "      <td>1</td>\n",
       "      <td>28.13</td>\n",
       "      <td>278.35</td>\n",
       "      <td>0.00</td>\n",
       "      <td>0.00</td>\n",
       "      <td>0.00</td>\n",
       "      <td>0.00</td>\n",
       "      <td>1</td>\n",
       "      <td>0</td>\n",
       "      <td>0</td>\n",
       "      <td>28.13</td>\n",
       "      <td>278.35</td>\n",
       "      <td>0.00</td>\n",
       "    </tr>\n",
       "    <tr>\n",
       "      <th>6</th>\n",
       "      <td>7</td>\n",
       "      <td>1</td>\n",
       "      <td>207.63</td>\n",
       "      <td>0.00</td>\n",
       "      <td>0.00</td>\n",
       "      <td>0.00</td>\n",
       "      <td>0.00</td>\n",
       "      <td>0.00</td>\n",
       "      <td>1</td>\n",
       "      <td>0</td>\n",
       "      <td>1</td>\n",
       "      <td>207.63</td>\n",
       "      <td>0.00</td>\n",
       "      <td>0.00</td>\n",
       "    </tr>\n",
       "    <tr>\n",
       "      <th>7</th>\n",
       "      <td>8</td>\n",
       "      <td>1</td>\n",
       "      <td>37.37</td>\n",
       "      <td>36.02</td>\n",
       "      <td>0.00</td>\n",
       "      <td>0.00</td>\n",
       "      <td>0.00</td>\n",
       "      <td>0.00</td>\n",
       "      <td>1</td>\n",
       "      <td>0</td>\n",
       "      <td>1</td>\n",
       "      <td>37.37</td>\n",
       "      <td>36.02</td>\n",
       "      <td>0.00</td>\n",
       "    </tr>\n",
       "    <tr>\n",
       "      <th>8</th>\n",
       "      <td>9</td>\n",
       "      <td>1</td>\n",
       "      <td>0.00</td>\n",
       "      <td>166.34</td>\n",
       "      <td>0.00</td>\n",
       "      <td>0.00</td>\n",
       "      <td>0.00</td>\n",
       "      <td>0.00</td>\n",
       "      <td>0</td>\n",
       "      <td>0</td>\n",
       "      <td>1</td>\n",
       "      <td>0.00</td>\n",
       "      <td>166.34</td>\n",
       "      <td>0.00</td>\n",
       "    </tr>\n",
       "    <tr>\n",
       "      <th>9</th>\n",
       "      <td>10</td>\n",
       "      <td>1</td>\n",
       "      <td>11.14</td>\n",
       "      <td>0.00</td>\n",
       "      <td>0.00</td>\n",
       "      <td>68.07</td>\n",
       "      <td>0.00</td>\n",
       "      <td>0.00</td>\n",
       "      <td>0</td>\n",
       "      <td>1</td>\n",
       "      <td>0</td>\n",
       "      <td>-56.94</td>\n",
       "      <td>0.00</td>\n",
       "      <td>0.00</td>\n",
       "    </tr>\n",
       "  </tbody>\n",
       "</table>\n",
       "</div>"
      ],
      "text/plain": [
       "   CUST_ID  CONSENT_COMMUNICATION  SALES_AFTER_SENDOUT_1  \\\n",
       "0        1                      1                  46.26   \n",
       "1        1                      0                   0.00   \n",
       "2        3                      0                   0.00   \n",
       "3        4                      1                  64.06   \n",
       "4        5                      0                   0.00   \n",
       "5        6                      1                  28.13   \n",
       "6        7                      1                 207.63   \n",
       "7        8                      1                  37.37   \n",
       "8        9                      1                   0.00   \n",
       "9       10                      1                  11.14   \n",
       "\n",
       "   SALES_AFTER_SENDOUT_2  SALES_AFTER_SENDOUT_3  SALES_BEFORE_SENDOUT_1  \\\n",
       "0                   0.00                   0.00                    0.00   \n",
       "1                  59.87                  15.30                    0.00   \n",
       "2                 147.68                   0.00                    0.00   \n",
       "3                   0.00                   0.00                  161.81   \n",
       "4                   0.00                   0.00                    0.00   \n",
       "5                 278.35                   0.00                    0.00   \n",
       "6                   0.00                   0.00                    0.00   \n",
       "7                  36.02                   0.00                    0.00   \n",
       "8                 166.34                   0.00                    0.00   \n",
       "9                   0.00                   0.00                   68.07   \n",
       "\n",
       "   SALES_BEFORE_SENDOUT_2  SALES_BEFORE_SENDOUT_3  SENDOUT_1  SENDOUT_2  \\\n",
       "0                    0.00                    0.00          1          0   \n",
       "1                   52.15                    0.00          0          0   \n",
       "2                    0.00                    0.00          0          0   \n",
       "3                    0.00                    0.00          1          0   \n",
       "4                  176.23                    0.00          0          0   \n",
       "5                    0.00                    0.00          1          0   \n",
       "6                    0.00                    0.00          1          0   \n",
       "7                    0.00                    0.00          1          0   \n",
       "8                    0.00                    0.00          0          0   \n",
       "9                    0.00                    0.00          0          1   \n",
       "\n",
       "   SENDOUT_3  PROFIT_1  PROFIT_2  PROFIT_3  \n",
       "0          1     46.26      0.00      0.00  \n",
       "1          0      0.00      7.72     15.30  \n",
       "2          0      0.00    147.68      0.00  \n",
       "3          1    -97.75      0.00      0.00  \n",
       "4          0      0.00   -176.23      0.00  \n",
       "5          0     28.13    278.35      0.00  \n",
       "6          1    207.63      0.00      0.00  \n",
       "7          1     37.37     36.02      0.00  \n",
       "8          1      0.00    166.34      0.00  \n",
       "9          0    -56.94      0.00      0.00  "
      ]
     },
     "execution_count": 31,
     "metadata": {},
     "output_type": "execute_result"
    }
   ],
   "source": [
    "data.head(10)"
   ]
  },
  {
   "cell_type": "markdown",
   "metadata": {},
   "source": [
    "### 3. EDA"
   ]
  },
  {
   "cell_type": "code",
   "execution_count": 32,
   "metadata": {},
   "outputs": [],
   "source": [
    "import matplotlib.pyplot as plt\n",
    "import seaborn as sns"
   ]
  },
  {
   "cell_type": "code",
   "execution_count": 33,
   "metadata": {},
   "outputs": [
    {
     "data": {
      "text/plain": [
       "(0, 50000)"
      ]
     },
     "execution_count": 33,
     "metadata": {},
     "output_type": "execute_result"
    },
    {
     "data": {
      "image/png": "[encoded data removed]",
      "text/plain": [
       "<Figure size 1440x504 with 3 Axes>"
      ]
     },
     "metadata": {
      "needs_background": "light"
     },
     "output_type": "display_data"
    }
   ],
   "source": [
    "plt.figure(figsize=(20,7)) \n",
    "plt.subplot(1,3,1)\n",
    "sns.countplot(data['SENDOUT_1'])\n",
    "plt.ylim(0,50000, 5000)\n",
    "plt.subplot(1,3,2)\n",
    "sns.countplot(data['SENDOUT_2'])\n",
    "plt.ylim(0,50000, 5000)\n",
    "plt.subplot(1,3,3)\n",
    "sns.countplot(data['SENDOUT_3'])\n",
    "plt.ylim(0,50000, 5000)"
   ]
  },
  {
   "cell_type": "markdown",
   "metadata": {},
   "source": [
    "Widzimy, że firma za 1 razem wysłała komunikację do ok. 25 000, czyli do połowy kllientów. Podczas drugiej wysyłki, komunikację otrzymało nieco ponad 1000 klientów (2%). POdczas trzeciej wysyłki, komunikację otrzymało prawie 40 000 klientów (80%) POniżej sprawdzę jak wygląda zysk po każej kampanii. "
   ]
  },
  {
   "cell_type": "code",
   "execution_count": 34,
   "metadata": {},
   "outputs": [
    {
     "name": "stdout",
     "output_type": "stream",
     "text": [
      "Całkowity zysk otrzymany po 1 wysyłce komunikacji to : 702731.4972554274\n",
      "Całkowity zysk otrzymany po 2 wysyłce komunikacji to : -9999114624.98663\n",
      "Całkowity zysk otrzymany po 3 wysyłce komunikacji to : 305794.009792774\n"
     ]
    }
   ],
   "source": [
    "print(f'Całkowity zysk otrzymany po 1 wysyłce komunikacji to : {data[\"PROFIT_1\"].sum()}')\n",
    "print(f'Całkowity zysk otrzymany po 2 wysyłce komunikacji to : {data[\"PROFIT_2\"].sum()}')\n",
    "print(f'Całkowity zysk otrzymany po 3 wysyłce komunikacji to : {data[\"PROFIT_3\"].sum()}')"
   ]
  },
  {
   "cell_type": "code",
   "execution_count": 35,
   "metadata": {},
   "outputs": [
    {
     "data": {
      "text/html": [
       "<div>\n",
       "<style scoped>\n",
       "    .dataframe tbody tr th:only-of-type {\n",
       "        vertical-align: middle;\n",
       "    }\n",
       "\n",
       "    .dataframe tbody tr th {\n",
       "        vertical-align: top;\n",
       "    }\n",
       "\n",
       "    .dataframe thead th {\n",
       "        text-align: right;\n",
       "    }\n",
       "</style>\n",
       "<table border=\"1\" class=\"dataframe\">\n",
       "  <thead>\n",
       "    <tr style=\"text-align: right;\">\n",
       "      <th></th>\n",
       "      <th>CUST_ID</th>\n",
       "      <th>CONSENT_COMMUNICATION</th>\n",
       "      <th>SALES_AFTER_SENDOUT_1</th>\n",
       "      <th>SALES_AFTER_SENDOUT_2</th>\n",
       "      <th>SALES_AFTER_SENDOUT_3</th>\n",
       "      <th>SALES_BEFORE_SENDOUT_1</th>\n",
       "      <th>SALES_BEFORE_SENDOUT_2</th>\n",
       "      <th>SALES_BEFORE_SENDOUT_3</th>\n",
       "      <th>SENDOUT_1</th>\n",
       "      <th>SENDOUT_2</th>\n",
       "      <th>SENDOUT_3</th>\n",
       "      <th>PROFIT_1</th>\n",
       "      <th>PROFIT_2</th>\n",
       "      <th>PROFIT_3</th>\n",
       "    </tr>\n",
       "  </thead>\n",
       "  <tbody>\n",
       "    <tr>\n",
       "      <th>count</th>\n",
       "      <td>50,000.00</td>\n",
       "      <td>50,000.00</td>\n",
       "      <td>50,000.00</td>\n",
       "      <td>50,000.00</td>\n",
       "      <td>50,000.00</td>\n",
       "      <td>50,000.00</td>\n",
       "      <td>50,000.00</td>\n",
       "      <td>50,000.00</td>\n",
       "      <td>50,000.00</td>\n",
       "      <td>50,000.00</td>\n",
       "      <td>50,000.00</td>\n",
       "      <td>50,000.00</td>\n",
       "      <td>50,000.00</td>\n",
       "      <td>50,000.00</td>\n",
       "    </tr>\n",
       "    <tr>\n",
       "      <th>mean</th>\n",
       "      <td>25,000.50</td>\n",
       "      <td>0.90</td>\n",
       "      <td>200,036.08</td>\n",
       "      <td>-199,944.28</td>\n",
       "      <td>34.03</td>\n",
       "      <td>200,022.02</td>\n",
       "      <td>38.01</td>\n",
       "      <td>27.91</td>\n",
       "      <td>0.51</td>\n",
       "      <td>0.02</td>\n",
       "      <td>0.80</td>\n",
       "      <td>14.05</td>\n",
       "      <td>-199,982.29</td>\n",
       "      <td>6.12</td>\n",
       "    </tr>\n",
       "    <tr>\n",
       "      <th>std</th>\n",
       "      <td>14,433.90</td>\n",
       "      <td>0.30</td>\n",
       "      <td>44,721,359.39</td>\n",
       "      <td>44,721,359.80</td>\n",
       "      <td>77.49</td>\n",
       "      <td>44,721,359.45</td>\n",
       "      <td>99.05</td>\n",
       "      <td>97.54</td>\n",
       "      <td>0.50</td>\n",
       "      <td>0.14</td>\n",
       "      <td>0.40</td>\n",
       "      <td>63,246,185.67</td>\n",
       "      <td>44,721,359.63</td>\n",
       "      <td>111.87</td>\n",
       "    </tr>\n",
       "    <tr>\n",
       "      <th>min</th>\n",
       "      <td>1.00</td>\n",
       "      <td>0.00</td>\n",
       "      <td>-44.15</td>\n",
       "      <td>-10,000,000,000.00</td>\n",
       "      <td>0.00</td>\n",
       "      <td>0.00</td>\n",
       "      <td>0.00</td>\n",
       "      <td>0.00</td>\n",
       "      <td>0.00</td>\n",
       "      <td>0.00</td>\n",
       "      <td>0.00</td>\n",
       "      <td>-10,000,000,000.00</td>\n",
       "      <td>-10,000,000,000.00</td>\n",
       "      <td>-11,173.77</td>\n",
       "    </tr>\n",
       "    <tr>\n",
       "      <th>25%</th>\n",
       "      <td>12,500.75</td>\n",
       "      <td>1.00</td>\n",
       "      <td>0.00</td>\n",
       "      <td>0.00</td>\n",
       "      <td>0.00</td>\n",
       "      <td>0.00</td>\n",
       "      <td>0.00</td>\n",
       "      <td>0.00</td>\n",
       "      <td>0.00</td>\n",
       "      <td>0.00</td>\n",
       "      <td>1.00</td>\n",
       "      <td>0.00</td>\n",
       "      <td>0.00</td>\n",
       "      <td>0.00</td>\n",
       "    </tr>\n",
       "    <tr>\n",
       "      <th>50%</th>\n",
       "      <td>25,000.50</td>\n",
       "      <td>1.00</td>\n",
       "      <td>4.15</td>\n",
       "      <td>0.00</td>\n",
       "      <td>0.00</td>\n",
       "      <td>0.00</td>\n",
       "      <td>0.00</td>\n",
       "      <td>0.00</td>\n",
       "      <td>1.00</td>\n",
       "      <td>0.00</td>\n",
       "      <td>1.00</td>\n",
       "      <td>0.00</td>\n",
       "      <td>0.00</td>\n",
       "      <td>0.00</td>\n",
       "    </tr>\n",
       "    <tr>\n",
       "      <th>75%</th>\n",
       "      <td>37,500.25</td>\n",
       "      <td>1.00</td>\n",
       "      <td>42.02</td>\n",
       "      <td>68.89</td>\n",
       "      <td>27.95</td>\n",
       "      <td>0.00</td>\n",
       "      <td>27.64</td>\n",
       "      <td>0.00</td>\n",
       "      <td>1.00</td>\n",
       "      <td>0.00</td>\n",
       "      <td>1.00</td>\n",
       "      <td>35.13</td>\n",
       "      <td>39.11</td>\n",
       "      <td>0.00</td>\n",
       "    </tr>\n",
       "    <tr>\n",
       "      <th>max</th>\n",
       "      <td>50,000.00</td>\n",
       "      <td>1.00</td>\n",
       "      <td>10,000,000,000.00</td>\n",
       "      <td>11,505.13</td>\n",
       "      <td>3,760.85</td>\n",
       "      <td>10,000,000,000.00</td>\n",
       "      <td>5,224.27</td>\n",
       "      <td>12,135.69</td>\n",
       "      <td>1.00</td>\n",
       "      <td>1.00</td>\n",
       "      <td>1.00</td>\n",
       "      <td>10,000,000,000.00</td>\n",
       "      <td>6,280.86</td>\n",
       "      <td>1,894.02</td>\n",
       "    </tr>\n",
       "  </tbody>\n",
       "</table>\n",
       "</div>"
      ],
      "text/plain": [
       "        CUST_ID  CONSENT_COMMUNICATION  SALES_AFTER_SENDOUT_1  \\\n",
       "count 50,000.00              50,000.00              50,000.00   \n",
       "mean  25,000.50                   0.90             200,036.08   \n",
       "std   14,433.90                   0.30          44,721,359.39   \n",
       "min        1.00                   0.00                 -44.15   \n",
       "25%   12,500.75                   1.00                   0.00   \n",
       "50%   25,000.50                   1.00                   4.15   \n",
       "75%   37,500.25                   1.00                  42.02   \n",
       "max   50,000.00                   1.00      10,000,000,000.00   \n",
       "\n",
       "       SALES_AFTER_SENDOUT_2  SALES_AFTER_SENDOUT_3  SALES_BEFORE_SENDOUT_1  \\\n",
       "count              50,000.00              50,000.00               50,000.00   \n",
       "mean             -199,944.28                  34.03              200,022.02   \n",
       "std            44,721,359.80                  77.49           44,721,359.45   \n",
       "min       -10,000,000,000.00                   0.00                    0.00   \n",
       "25%                     0.00                   0.00                    0.00   \n",
       "50%                     0.00                   0.00                    0.00   \n",
       "75%                    68.89                  27.95                    0.00   \n",
       "max                11,505.13               3,760.85       10,000,000,000.00   \n",
       "\n",
       "       SALES_BEFORE_SENDOUT_2  SALES_BEFORE_SENDOUT_3  SENDOUT_1  SENDOUT_2  \\\n",
       "count               50,000.00               50,000.00  50,000.00  50,000.00   \n",
       "mean                    38.01                   27.91       0.51       0.02   \n",
       "std                     99.05                   97.54       0.50       0.14   \n",
       "min                      0.00                    0.00       0.00       0.00   \n",
       "25%                      0.00                    0.00       0.00       0.00   \n",
       "50%                      0.00                    0.00       1.00       0.00   \n",
       "75%                     27.64                    0.00       1.00       0.00   \n",
       "max                  5,224.27               12,135.69       1.00       1.00   \n",
       "\n",
       "       SENDOUT_3           PROFIT_1           PROFIT_2   PROFIT_3  \n",
       "count  50,000.00          50,000.00          50,000.00  50,000.00  \n",
       "mean        0.80              14.05        -199,982.29       6.12  \n",
       "std         0.40      63,246,185.67      44,721,359.63     111.87  \n",
       "min         0.00 -10,000,000,000.00 -10,000,000,000.00 -11,173.77  \n",
       "25%         1.00               0.00               0.00       0.00  \n",
       "50%         1.00               0.00               0.00       0.00  \n",
       "75%         1.00              35.13              39.11       0.00  \n",
       "max         1.00  10,000,000,000.00           6,280.86   1,894.02  "
      ]
     },
     "execution_count": 35,
     "metadata": {},
     "output_type": "execute_result"
    }
   ],
   "source": [
    "data.describe()"
   ]
  },
  {
   "cell_type": "markdown",
   "metadata": {},
   "source": [
    "Podczas analizy znalazłam 3 klientów, którzy mają ogromne, wręcz nierealne, wartości sprzedaży- jeden 10 mld na minusie, dwóch klientów 10 mld na plusie . Postanawiam usunąć ich z datasetu. "
   ]
  },
  {
   "cell_type": "code",
   "execution_count": 36,
   "metadata": {},
   "outputs": [
    {
     "data": {
      "text/plain": [
       "10768    10769\n",
       "Name: CUST_ID, dtype: int64"
      ]
     },
     "execution_count": 36,
     "metadata": {},
     "output_type": "execute_result"
    }
   ],
   "source": [
    "data[data.SALES_AFTER_SENDOUT_1 == data.SALES_AFTER_SENDOUT_1.max()].CUST_ID"
   ]
  },
  {
   "cell_type": "code",
   "execution_count": 37,
   "metadata": {},
   "outputs": [
    {
     "data": {
      "text/html": [
       "<div>\n",
       "<style scoped>\n",
       "    .dataframe tbody tr th:only-of-type {\n",
       "        vertical-align: middle;\n",
       "    }\n",
       "\n",
       "    .dataframe tbody tr th {\n",
       "        vertical-align: top;\n",
       "    }\n",
       "\n",
       "    .dataframe thead th {\n",
       "        text-align: right;\n",
       "    }\n",
       "</style>\n",
       "<table border=\"1\" class=\"dataframe\">\n",
       "  <thead>\n",
       "    <tr style=\"text-align: right;\">\n",
       "      <th></th>\n",
       "      <th>CUST_ID</th>\n",
       "      <th>CONSENT_COMMUNICATION</th>\n",
       "      <th>SALES_AFTER_SENDOUT_1</th>\n",
       "      <th>SALES_AFTER_SENDOUT_2</th>\n",
       "      <th>SALES_AFTER_SENDOUT_3</th>\n",
       "      <th>SALES_BEFORE_SENDOUT_1</th>\n",
       "      <th>SALES_BEFORE_SENDOUT_2</th>\n",
       "      <th>SALES_BEFORE_SENDOUT_3</th>\n",
       "      <th>SENDOUT_1</th>\n",
       "      <th>SENDOUT_2</th>\n",
       "      <th>SENDOUT_3</th>\n",
       "      <th>PROFIT_1</th>\n",
       "      <th>PROFIT_2</th>\n",
       "      <th>PROFIT_3</th>\n",
       "    </tr>\n",
       "  </thead>\n",
       "  <tbody>\n",
       "    <tr>\n",
       "      <th>10768</th>\n",
       "      <td>10769</td>\n",
       "      <td>1</td>\n",
       "      <td>10,000,000,000.00</td>\n",
       "      <td>0.00</td>\n",
       "      <td>0.00</td>\n",
       "      <td>0.00</td>\n",
       "      <td>0.00</td>\n",
       "      <td>0.00</td>\n",
       "      <td>0</td>\n",
       "      <td>0</td>\n",
       "      <td>1</td>\n",
       "      <td>10,000,000,000.00</td>\n",
       "      <td>0.00</td>\n",
       "      <td>0.00</td>\n",
       "    </tr>\n",
       "  </tbody>\n",
       "</table>\n",
       "</div>"
      ],
      "text/plain": [
       "       CUST_ID  CONSENT_COMMUNICATION  SALES_AFTER_SENDOUT_1  \\\n",
       "10768    10769                      1      10,000,000,000.00   \n",
       "\n",
       "       SALES_AFTER_SENDOUT_2  SALES_AFTER_SENDOUT_3  SALES_BEFORE_SENDOUT_1  \\\n",
       "10768                   0.00                   0.00                    0.00   \n",
       "\n",
       "       SALES_BEFORE_SENDOUT_2  SALES_BEFORE_SENDOUT_3  SENDOUT_1  SENDOUT_2  \\\n",
       "10768                    0.00                    0.00          0          0   \n",
       "\n",
       "       SENDOUT_3          PROFIT_1  PROFIT_2  PROFIT_3  \n",
       "10768          1 10,000,000,000.00      0.00      0.00  "
      ]
     },
     "execution_count": 37,
     "metadata": {},
     "output_type": "execute_result"
    }
   ],
   "source": [
    "data[data.CUST_ID== 10769]"
   ]
  },
  {
   "cell_type": "code",
   "execution_count": 38,
   "metadata": {},
   "outputs": [
    {
     "data": {
      "text/plain": [
       "200    201\n",
       "Name: CUST_ID, dtype: int64"
      ]
     },
     "execution_count": 38,
     "metadata": {},
     "output_type": "execute_result"
    }
   ],
   "source": [
    "data[data.SALES_BEFORE_SENDOUT_1 == data.SALES_BEFORE_SENDOUT_1.max()].CUST_ID"
   ]
  },
  {
   "cell_type": "code",
   "execution_count": 39,
   "metadata": {},
   "outputs": [
    {
     "data": {
      "text/html": [
       "<div>\n",
       "<style scoped>\n",
       "    .dataframe tbody tr th:only-of-type {\n",
       "        vertical-align: middle;\n",
       "    }\n",
       "\n",
       "    .dataframe tbody tr th {\n",
       "        vertical-align: top;\n",
       "    }\n",
       "\n",
       "    .dataframe thead th {\n",
       "        text-align: right;\n",
       "    }\n",
       "</style>\n",
       "<table border=\"1\" class=\"dataframe\">\n",
       "  <thead>\n",
       "    <tr style=\"text-align: right;\">\n",
       "      <th></th>\n",
       "      <th>CUST_ID</th>\n",
       "      <th>CONSENT_COMMUNICATION</th>\n",
       "      <th>SALES_AFTER_SENDOUT_1</th>\n",
       "      <th>SALES_AFTER_SENDOUT_2</th>\n",
       "      <th>SALES_AFTER_SENDOUT_3</th>\n",
       "      <th>SALES_BEFORE_SENDOUT_1</th>\n",
       "      <th>SALES_BEFORE_SENDOUT_2</th>\n",
       "      <th>SALES_BEFORE_SENDOUT_3</th>\n",
       "      <th>SENDOUT_1</th>\n",
       "      <th>SENDOUT_2</th>\n",
       "      <th>SENDOUT_3</th>\n",
       "      <th>PROFIT_1</th>\n",
       "      <th>PROFIT_2</th>\n",
       "      <th>PROFIT_3</th>\n",
       "    </tr>\n",
       "  </thead>\n",
       "  <tbody>\n",
       "    <tr>\n",
       "      <th>200</th>\n",
       "      <td>201</td>\n",
       "      <td>1</td>\n",
       "      <td>0.00</td>\n",
       "      <td>0.00</td>\n",
       "      <td>0.00</td>\n",
       "      <td>10,000,000,000.00</td>\n",
       "      <td>0.00</td>\n",
       "      <td>0.00</td>\n",
       "      <td>1</td>\n",
       "      <td>0</td>\n",
       "      <td>0</td>\n",
       "      <td>-10,000,000,000.00</td>\n",
       "      <td>0.00</td>\n",
       "      <td>0.00</td>\n",
       "    </tr>\n",
       "  </tbody>\n",
       "</table>\n",
       "</div>"
      ],
      "text/plain": [
       "     CUST_ID  CONSENT_COMMUNICATION  SALES_AFTER_SENDOUT_1  \\\n",
       "200      201                      1                   0.00   \n",
       "\n",
       "     SALES_AFTER_SENDOUT_2  SALES_AFTER_SENDOUT_3  SALES_BEFORE_SENDOUT_1  \\\n",
       "200                   0.00                   0.00       10,000,000,000.00   \n",
       "\n",
       "     SALES_BEFORE_SENDOUT_2  SALES_BEFORE_SENDOUT_3  SENDOUT_1  SENDOUT_2  \\\n",
       "200                    0.00                    0.00          1          0   \n",
       "\n",
       "     SENDOUT_3           PROFIT_1  PROFIT_2  PROFIT_3  \n",
       "200          0 -10,000,000,000.00      0.00      0.00  "
      ]
     },
     "execution_count": 39,
     "metadata": {},
     "output_type": "execute_result"
    }
   ],
   "source": [
    "data[data.CUST_ID== 201]"
   ]
  },
  {
   "cell_type": "code",
   "execution_count": 40,
   "metadata": {},
   "outputs": [
    {
     "data": {
      "text/plain": [
       "21239    21240\n",
       "Name: CUST_ID, dtype: int64"
      ]
     },
     "execution_count": 40,
     "metadata": {},
     "output_type": "execute_result"
    }
   ],
   "source": [
    "data[data.SALES_AFTER_SENDOUT_2 == data.SALES_AFTER_SENDOUT_2.min()].CUST_ID"
   ]
  },
  {
   "cell_type": "code",
   "execution_count": 41,
   "metadata": {},
   "outputs": [
    {
     "data": {
      "text/html": [
       "<div>\n",
       "<style scoped>\n",
       "    .dataframe tbody tr th:only-of-type {\n",
       "        vertical-align: middle;\n",
       "    }\n",
       "\n",
       "    .dataframe tbody tr th {\n",
       "        vertical-align: top;\n",
       "    }\n",
       "\n",
       "    .dataframe thead th {\n",
       "        text-align: right;\n",
       "    }\n",
       "</style>\n",
       "<table border=\"1\" class=\"dataframe\">\n",
       "  <thead>\n",
       "    <tr style=\"text-align: right;\">\n",
       "      <th></th>\n",
       "      <th>CUST_ID</th>\n",
       "      <th>CONSENT_COMMUNICATION</th>\n",
       "      <th>SALES_AFTER_SENDOUT_1</th>\n",
       "      <th>SALES_AFTER_SENDOUT_2</th>\n",
       "      <th>SALES_AFTER_SENDOUT_3</th>\n",
       "      <th>SALES_BEFORE_SENDOUT_1</th>\n",
       "      <th>SALES_BEFORE_SENDOUT_2</th>\n",
       "      <th>SALES_BEFORE_SENDOUT_3</th>\n",
       "      <th>SENDOUT_1</th>\n",
       "      <th>SENDOUT_2</th>\n",
       "      <th>SENDOUT_3</th>\n",
       "      <th>PROFIT_1</th>\n",
       "      <th>PROFIT_2</th>\n",
       "      <th>PROFIT_3</th>\n",
       "    </tr>\n",
       "  </thead>\n",
       "  <tbody>\n",
       "    <tr>\n",
       "      <th>21239</th>\n",
       "      <td>21240</td>\n",
       "      <td>1</td>\n",
       "      <td>0.00</td>\n",
       "      <td>-10,000,000,000.00</td>\n",
       "      <td>19.89</td>\n",
       "      <td>0.00</td>\n",
       "      <td>0.00</td>\n",
       "      <td>0.00</td>\n",
       "      <td>1</td>\n",
       "      <td>0</td>\n",
       "      <td>0</td>\n",
       "      <td>0.00</td>\n",
       "      <td>-10,000,000,000.00</td>\n",
       "      <td>19.89</td>\n",
       "    </tr>\n",
       "  </tbody>\n",
       "</table>\n",
       "</div>"
      ],
      "text/plain": [
       "       CUST_ID  CONSENT_COMMUNICATION  SALES_AFTER_SENDOUT_1  \\\n",
       "21239    21240                      1                   0.00   \n",
       "\n",
       "       SALES_AFTER_SENDOUT_2  SALES_AFTER_SENDOUT_3  SALES_BEFORE_SENDOUT_1  \\\n",
       "21239     -10,000,000,000.00                  19.89                    0.00   \n",
       "\n",
       "       SALES_BEFORE_SENDOUT_2  SALES_BEFORE_SENDOUT_3  SENDOUT_1  SENDOUT_2  \\\n",
       "21239                    0.00                    0.00          1          0   \n",
       "\n",
       "       SENDOUT_3  PROFIT_1           PROFIT_2  PROFIT_3  \n",
       "21239          0      0.00 -10,000,000,000.00     19.89  "
      ]
     },
     "execution_count": 41,
     "metadata": {},
     "output_type": "execute_result"
    }
   ],
   "source": [
    "data[data.CUST_ID== 21240]"
   ]
  },
  {
   "cell_type": "code",
   "execution_count": 42,
   "metadata": {},
   "outputs": [],
   "source": [
    "#usuwam powyższe wiersze\n",
    "data.drop([data.index[21239], data.index[10768], data.index[200]],  axis=0, inplace=True)"
   ]
  },
  {
   "cell_type": "markdown",
   "metadata": {},
   "source": [
    "Jeszcze raz przeliczam wartości zysku po wysyłce komunikacji"
   ]
  },
  {
   "cell_type": "code",
   "execution_count": 43,
   "metadata": {},
   "outputs": [
    {
     "name": "stdout",
     "output_type": "stream",
     "text": [
      "Całkowity zysk otrzymany po 1 wysyłce komunikacji to : 702731.497257051\n",
      "Całkowity zysk otrzymany po 2 wysyłce komunikacji to : 885375.0133704059\n",
      "Całkowity zysk otrzymany po 3 wysyłce komunikacji to : 305774.118753774\n"
     ]
    }
   ],
   "source": [
    "print(f'Całkowity zysk otrzymany po 1 wysyłce komunikacji to : {data[\"PROFIT_1\"].sum()}')\n",
    "print(f'Całkowity zysk otrzymany po 2 wysyłce komunikacji to : {data[\"PROFIT_2\"].sum()}')\n",
    "print(f'Całkowity zysk otrzymany po 3 wysyłce komunikacji to : {data[\"PROFIT_3\"].sum()}')"
   ]
  },
  {
   "cell_type": "markdown",
   "metadata": {},
   "source": [
    "Po wyliczeniu całkowitego zysku widać, że firma odnotowała największy zysk ze sprzedaży po wysłaniu 2 komunikacji. Zysk wyniósł ponad 885 tys złotych. Komunikacja została wysłana tylko do 2% klientów, jednak nie wpłynęło to negatywnie na sprzedaż. Po 1 wysyłce komunikacji zysk wyniósł ok. 702 tys zł, a po trzeciej ok. 305 tys. Najmniejszy zysk jest po trzeciej komunikacji, gdzie wysłano ulotki do 80% klientów. Myślę, że największy zysk po drugiej wysyłce może być spowodowany rozpoznawalnością marki , klienci kupują towary pomimo, że nie dostali ulotki zachęcającej do sprzedaży. Najniższy zysk po 3 wysyłce komunikacji może być spowodowany tym, że klienci zrobili duże zakupy wcześniej i już nie byli zainteresowani kupnem nowych towarów. "
   ]
  },
  {
   "cell_type": "code",
   "execution_count": 45,
   "metadata": {},
   "outputs": [
    {
     "data": {
      "text/plain": [
       "array([<matplotlib.axes._subplots.AxesSubplot object at 0x0000019EAB103D48>],\n",
       "      dtype=object)"
      ]
     },
     "execution_count": 45,
     "metadata": {},
     "output_type": "execute_result"
    },
    {
     "data": {
      "image/png": "[encoded data removed]",
      "text/plain": [
       "<Figure size 432x288 with 1 Axes>"
      ]
     },
     "metadata": {},
     "output_type": "display_data"
    }
   ],
   "source": [
    "df = pd.DataFrame([data['PROFIT_1'].sum(), data['PROFIT_2'].sum(),data['PROFIT_3'].sum() ], index=['PROFIT_1', 'PROFIT_2', 'PROFIT_3'], columns=['PROFIT'])        \n",
    "df.plot.pie(subplots=True)\n"
   ]
  },
  {
   "cell_type": "markdown",
   "metadata": {},
   "source": [
    "#### Ad.1 . Analiza klientów w okresie pierwszej wysyłki komunikacji"
   ]
  },
  {
   "cell_type": "code",
   "execution_count": 46,
   "metadata": {},
   "outputs": [],
   "source": [
    "a= data[(data.SALES_BEFORE_SENDOUT_1 > 0.0) & (data.SENDOUT_1 == 1)].CUST_ID.count()"
   ]
  },
  {
   "cell_type": "code",
   "execution_count": 47,
   "metadata": {},
   "outputs": [],
   "source": [
    "b= data[(data.SALES_AFTER_SENDOUT_1 > 0.0) & (data.SENDOUT_1 == 1)].CUST_ID.count()"
   ]
  },
  {
   "cell_type": "code",
   "execution_count": 48,
   "metadata": {},
   "outputs": [],
   "source": [
    "c= data[(data.SALES_BEFORE_SENDOUT_1 > 0.0) & (data.SENDOUT_1 == 0)].CUST_ID.count()"
   ]
  },
  {
   "cell_type": "code",
   "execution_count": 49,
   "metadata": {},
   "outputs": [],
   "source": [
    "d= data[(data.SALES_AFTER_SENDOUT_1 > 0.0) & (data.SENDOUT_1 == 0)].CUST_ID.count()"
   ]
  },
  {
   "cell_type": "code",
   "execution_count": 50,
   "metadata": {},
   "outputs": [],
   "source": [
    "#ile klientów zwróciło towar po sprzedaży\n",
    "e= data[(data.SALES_AFTER_SENDOUT_1 < 0.0)].CUST_ID.count()"
   ]
  },
  {
   "cell_type": "code",
   "execution_count": 51,
   "metadata": {},
   "outputs": [],
   "source": [
    "#na jaką wartość zwrócono towary\n",
    "f= data[(data.SALES_AFTER_SENDOUT_1 < 0.0)].SALES_AFTER_SENDOUT_1.sum()"
   ]
  },
  {
   "cell_type": "code",
   "execution_count": 52,
   "metadata": {},
   "outputs": [],
   "source": [
    "#zobaczmy ile klientów \"straciliśmy\" - u tych klientów profit jest wartością ujemną\n",
    "g= data[(data.SALES_BEFORE_SENDOUT_1 > 0.0) & (data.SALES_AFTER_SENDOUT_1 == 0.0) & (data.SENDOUT_1 == 1)].CUST_ID.count()"
   ]
  },
  {
   "cell_type": "code",
   "execution_count": 53,
   "metadata": {},
   "outputs": [],
   "source": [
    "# zobaczmy ile klientów zyskaliśmy dzięki wysyłce komunikacji\n",
    "h= data[(data.SALES_BEFORE_SENDOUT_1 == 0.0) & (data.SALES_AFTER_SENDOUT_1 > 0.0) & (data.SENDOUT_1 == 1)].CUST_ID.count()"
   ]
  },
  {
   "cell_type": "code",
   "execution_count": 54,
   "metadata": {},
   "outputs": [],
   "source": [
    "# zobaczmy ile klientów nie miała sprzedaży a po otrzymaniu komunikacji też nic nie kupili\n",
    "i = data[(data.SALES_BEFORE_SENDOUT_1 == 0.0) & (data.SALES_AFTER_SENDOUT_1 == 0.0) & (data.SENDOUT_1 == 1)].CUST_ID.count()"
   ]
  },
  {
   "cell_type": "code",
   "execution_count": 55,
   "metadata": {},
   "outputs": [
    {
     "name": "stdout",
     "output_type": "stream",
     "text": [
      "Ilość klietów, którzy zakupili produkty przed wysyłką 1 komunikacji to: 5136\n",
      "Ilość klietów, którzy zakupili produkty po wysłaniu 1 komunikacji to: 20178\n",
      "Ilość klietów, którzy zakupili produkty przed uruchomieniem 1 wysyłki,  ale NIE mieli otrzymać komunikacji to: 5178\n",
      "Ilość klietów, którzy zakupili produkty po uruchomieniu 1 wysyłki, ale NIE otrzymali komunikacji to: 5410\n",
      "Ilość klietów, którzy zwrócili towar po zakupie to: 1123\n",
      "Łączna kwota zwróconych towarów to: -9747.748133522\n",
      "Ilość klietów, którzy zakupili produkty przed wysyłką 1 komunikacji, a po otrzymaniu 1 komunikacji już nie to: 690\n",
      "Ilość klietów, którzy nie mieli zakupów przed 1 wysyłką, a po otrzymaniu 1 komunikacji odnotowaliśmy zakup to  : 15923\n",
      "Ilość klietów, którzy nie zakupili towarów przed i po otrzymaniu 1  komunikacji to : 3306\n"
     ]
    }
   ],
   "source": [
    "print(f\"Ilość klietów, którzy zakupili produkty przed wysyłką 1 komunikacji to: {a}\")\n",
    "print(f\"Ilość klietów, którzy zakupili produkty po wysłaniu 1 komunikacji to: {b}\")\n",
    "print(f\"Ilość klietów, którzy zakupili produkty przed uruchomieniem 1 wysyłki,  ale NIE mieli otrzymać komunikacji to: {c}\")\n",
    "print(f\"Ilość klietów, którzy zakupili produkty po uruchomieniu 1 wysyłki, ale NIE otrzymali komunikacji to: {d}\")\n",
    "print(f\"Ilość klietów, którzy zwrócili towar po zakupie to: {e}\")\n",
    "print(f\"Łączna kwota zwróconych towarów to: {f}\")\n",
    "print(f\"Ilość klietów, którzy zakupili produkty przed wysyłką 1 komunikacji, a po otrzymaniu 1 komunikacji już nie to: {g}\")\n",
    "print(f\"Ilość klietów, którzy nie mieli zakupów przed 1 wysyłką, a po otrzymaniu 1 komunikacji odnotowaliśmy zakup to  : {h}\")\n",
    "print(f\"Ilość klietów, którzy nie zakupili towarów przed i po otrzymaniu 1  komunikacji to : {i}\")"
   ]
  },
  {
   "cell_type": "markdown",
   "metadata": {},
   "source": [
    "Widzimy, że cztero krotnie wzrosła ilość klientów, którzy zrobili zakupy po otrzymaniu komunikacji. Ilość klientów, którzy nie otrzymali komunikacji a dokonują zakupów jest praktycznie stała- wynosi nieco ponad 5 tys. Ilość nowych klientów, tzn. tych którzy kupili produkty po otrzymaniu komunikacji, a wcześniej nie dokonali zakupów,  to prawie 16 000.  Niestety tutaj 1123 klientów zwróciło towary na sumę prawie 10 tys zł. Dodatkowo 690 klientów zrobiło zakupy przed wysyłką komunikacji, ale po otrzymaniu komunikacji już nic nie zakupili. 3306 klientów nie odnotowało w ogóle sprzedaży przed i po wysyłce komunikacji."
   ]
  },
  {
   "cell_type": "markdown",
   "metadata": {},
   "source": [
    "#### Ad2. Analiza klientów w okresie drugiej wysyłki komunikacji"
   ]
  },
  {
   "cell_type": "code",
   "execution_count": 56,
   "metadata": {},
   "outputs": [],
   "source": [
    "aa= data[(data.SALES_BEFORE_SENDOUT_2 > 0.0) & (data.SENDOUT_2 == 1)].CUST_ID.count()"
   ]
  },
  {
   "cell_type": "code",
   "execution_count": 57,
   "metadata": {},
   "outputs": [],
   "source": [
    "bb= data[(data.SALES_AFTER_SENDOUT_2 > 0.0) & (data.SENDOUT_2 == 1)].CUST_ID.count()"
   ]
  },
  {
   "cell_type": "code",
   "execution_count": 58,
   "metadata": {},
   "outputs": [],
   "source": [
    "cc= data[(data.SALES_BEFORE_SENDOUT_2 > 0.0) & (data.SENDOUT_2 == 0)].CUST_ID.count()"
   ]
  },
  {
   "cell_type": "code",
   "execution_count": 59,
   "metadata": {},
   "outputs": [],
   "source": [
    "dd= data[(data.SALES_AFTER_SENDOUT_2 > 0.0 ) & (data.SENDOUT_2 == 0)].CUST_ID.count()"
   ]
  },
  {
   "cell_type": "code",
   "execution_count": 60,
   "metadata": {},
   "outputs": [],
   "source": [
    "#ile jest zwrotów po sprzedaży\n",
    "ee= data[(data.SALES_AFTER_SENDOUT_2 < 0.0)].CUST_ID.count()"
   ]
  },
  {
   "cell_type": "code",
   "execution_count": 61,
   "metadata": {},
   "outputs": [],
   "source": [
    "#zobaczmy ile klientów straciliśmy- tzn zrobili zakupy przed wysyłką komunikacji, ale po wysyłce już nie\n",
    "ff= data[(data.SALES_BEFORE_SENDOUT_2 > 0.0) & (data.SALES_AFTER_SENDOUT_2 == 0.0) & (data.SENDOUT_2 == 1)].CUST_ID.count()"
   ]
  },
  {
   "cell_type": "code",
   "execution_count": 62,
   "metadata": {},
   "outputs": [],
   "source": [
    "# zobaczmy ile klientów zyskaliśmy dzięki wysyłce komunikacji\n",
    "gg= data[(data.SALES_BEFORE_SENDOUT_2 == 0.0) & (data.SALES_AFTER_SENDOUT_2 > 0.0) & (data.SENDOUT_2 == 1)].CUST_ID.count()"
   ]
  },
  {
   "cell_type": "code",
   "execution_count": 63,
   "metadata": {},
   "outputs": [],
   "source": [
    "# zobaczmy ile klientów nie miała sprzedaży a po otrzymaniu komunikacji też nic nie kupili\n",
    "hh= data[(data.SALES_BEFORE_SENDOUT_2 == 0.0) & (data.SALES_AFTER_SENDOUT_2 == 0.0) & (data.SENDOUT_2 == 1)].CUST_ID.count()"
   ]
  },
  {
   "cell_type": "code",
   "execution_count": 64,
   "metadata": {},
   "outputs": [
    {
     "name": "stdout",
     "output_type": "stream",
     "text": [
      "Ilość klietów, którzy zakupili produkty przed wysyłką 2 komunikacji to: 269\n",
      "Ilość klietów, którzy zakupili produkty po wysłaniu 2 komunikacji to: 375\n",
      "Ilość klietów, którzy zakupili produkty przed uruchomieniem 2 wysyłki,  ale NIE mieli otrzymać komunikacji to: 14175\n",
      "Ilość klietów, którzy zakupili produkty po uruchomieniu 2 wysyłki, ale NIE otrzymali komunikacji to: 18250\n",
      "Ilość klietów, którzy zwrócili towar po zakupie to: 0\n",
      "Ilość klietów, którzy zakupili produkty przed wysyłką 2 komunikacji, a po otrzymaniu 2 komunikacji już nie to: 152\n",
      "Ilość klietów, którzy nie mieli zakupów przed 2 wysyłką, a po otrzymaniu 2 komunikacji odnotowaliśmy zakup to  : 258\n",
      "Ilość klietów, którzy nie zakupili towarów przed i po otrzymaniu 2 komunikacji to : 498\n"
     ]
    }
   ],
   "source": [
    "print(f\"Ilość klietów, którzy zakupili produkty przed wysyłką 2 komunikacji to: {aa}\")\n",
    "print(f\"Ilość klietów, którzy zakupili produkty po wysłaniu 2 komunikacji to: {bb}\")\n",
    "print(f\"Ilość klietów, którzy zakupili produkty przed uruchomieniem 2 wysyłki,  ale NIE mieli otrzymać komunikacji to: {cc}\")\n",
    "print(f\"Ilość klietów, którzy zakupili produkty po uruchomieniu 2 wysyłki, ale NIE otrzymali komunikacji to: {dd}\")\n",
    "print(f\"Ilość klietów, którzy zwrócili towar po zakupie to: {ee}\")\n",
    "print(f\"Ilość klietów, którzy zakupili produkty przed wysyłką 2 komunikacji, a po otrzymaniu 2 komunikacji już nie to: {ff}\")\n",
    "print(f\"Ilość klietów, którzy nie mieli zakupów przed 2 wysyłką, a po otrzymaniu 2 komunikacji odnotowaliśmy zakup to  : {gg}\")\n",
    "print(f\"Ilość klietów, którzy nie zakupili towarów przed i po otrzymaniu 2 komunikacji to : {hh}\")"
   ]
  },
  {
   "cell_type": "markdown",
   "metadata": {},
   "source": [
    "0 94 klientów więcej dokonało zakupu po wysyłce drugiej komunikacji. Bez otrzymania komunikacji zakupów dokonało ponad 4 tys. klientów więcej niż przed uruchomieniem kampanii, czyli 18250. Tutaj mniej klientów dokonało zakupów niż po 1 wysyłce, jednak średnia wartośc zamówień była wyższa. Nie odnotowano zwrotów po zakupach. Dodatkowo 152 klientów zrobiło zakupy przed wysyłką ulotek, ale po otrzymaniu komunikacji już nic nie zakupili. U tych klientów zysk będzie wartością ujemną. Dzieki wysyłce komunikacji pozyskano 258 klientów.  498 klientow nie dokonało zakupów zarówno przed jak i po otrzymaniu komunikacji."
   ]
  },
  {
   "cell_type": "markdown",
   "metadata": {},
   "source": [
    "#### Ad3 . Analiza klientów w okresie trzeciej wysyłki komunikacji"
   ]
  },
  {
   "cell_type": "code",
   "execution_count": 65,
   "metadata": {},
   "outputs": [],
   "source": [
    "aaa= data[(data.SALES_BEFORE_SENDOUT_3 > 0.0) & (data.SENDOUT_3 == 1)].CUST_ID.count()"
   ]
  },
  {
   "cell_type": "code",
   "execution_count": 66,
   "metadata": {},
   "outputs": [],
   "source": [
    "bbb= data[(data.SALES_AFTER_SENDOUT_3 > 0.0) & (data.SENDOUT_3 == 1)].CUST_ID.count()"
   ]
  },
  {
   "cell_type": "code",
   "execution_count": 67,
   "metadata": {},
   "outputs": [],
   "source": [
    "ccc= data[(data.SALES_BEFORE_SENDOUT_3 > 0.0) & (data.SENDOUT_3 == 0)].CUST_ID.count()"
   ]
  },
  {
   "cell_type": "code",
   "execution_count": 68,
   "metadata": {},
   "outputs": [],
   "source": [
    "ddd= data[(data.SALES_AFTER_SENDOUT_3 > 0.0 ) & (data.SENDOUT_3 == 0)].CUST_ID.count()"
   ]
  },
  {
   "cell_type": "code",
   "execution_count": 69,
   "metadata": {},
   "outputs": [],
   "source": [
    "#ile jest zwrotów po sprzedaży\n",
    "eee= data[(data.SALES_AFTER_SENDOUT_3 < 0.0)].CUST_ID.count()"
   ]
  },
  {
   "cell_type": "code",
   "execution_count": 70,
   "metadata": {},
   "outputs": [],
   "source": [
    "#zobaczmy ile klientów straciliśmy- tzn zrobili zakupy przed wysyłką komunikacji, ale po wysyłce już nie\n",
    "fff= data[(data.SALES_BEFORE_SENDOUT_3 > 0.0) & (data.SALES_AFTER_SENDOUT_3 == 0.0) & (data.SENDOUT_3 == 1)].CUST_ID.count()"
   ]
  },
  {
   "cell_type": "code",
   "execution_count": 71,
   "metadata": {},
   "outputs": [],
   "source": [
    "# zobaczmy ile klientów zyskaliśmy dzięki wysyłce komunikacji\n",
    "ggg= data[(data.SALES_BEFORE_SENDOUT_3 == 0.0) & (data.SALES_AFTER_SENDOUT_3 > 0.0) & (data.SENDOUT_3 == 1)].CUST_ID.count()"
   ]
  },
  {
   "cell_type": "code",
   "execution_count": 72,
   "metadata": {},
   "outputs": [],
   "source": [
    "# zobaczmy ile klientów nie miała sprzedaży a po otrzymaniu komunikacji też nic nie kupili\n",
    "hhh= data[(data.SALES_BEFORE_SENDOUT_3 == 0.0) & (data.SALES_AFTER_SENDOUT_3 == 0.0) & (data.SENDOUT_3 == 1)].CUST_ID.count()"
   ]
  },
  {
   "cell_type": "code",
   "execution_count": 73,
   "metadata": {},
   "outputs": [
    {
     "name": "stdout",
     "output_type": "stream",
     "text": [
      "Ilość klietów, którzy zakupili produkty przed wysyłką 3 komunikacji to: 9901\n",
      "Ilość klietów, którzy zakupili produkty po wysłaniu 3 komunikacji to: 12107\n",
      "Ilość klietów, którzy zakupili produkty przed uruchomieniem 3 wysyłki,  ale NIE mieli otrzymać komunikacji to: 2429\n",
      "Ilość klietów, którzy zakupili produkty po uruchomieniu 3 wysyłki, ale NIE otrzymali komunikacji to: 2309\n",
      "Ilość klietów, którzy zwrócili towar po zakupie to: 0\n",
      "Ilość klietów, którzy zakupili produkty przed wysyłką 3 komunikacji, a po otrzymaniu 3 komunikacji już nie to: 5777\n",
      "Ilość klietów, którzy nie mieli zakupów przed 3 wysyłką, a po otrzymaniu 3 komunikacji odnotowaliśmy zakup to  : 7983\n",
      "Ilość klietów, którzy nie zakupili towarów przed i po otrzymaniu 3 komunikacji to : 22101\n"
     ]
    }
   ],
   "source": [
    "print(f\"Ilość klietów, którzy zakupili produkty przed wysyłką 3 komunikacji to: {aaa}\")\n",
    "print(f\"Ilość klietów, którzy zakupili produkty po wysłaniu 3 komunikacji to: {bbb}\")\n",
    "print(f\"Ilość klietów, którzy zakupili produkty przed uruchomieniem 3 wysyłki,  ale NIE mieli otrzymać komunikacji to: {ccc}\")\n",
    "print(f\"Ilość klietów, którzy zakupili produkty po uruchomieniu 3 wysyłki, ale NIE otrzymali komunikacji to: {ddd}\")\n",
    "print(f\"Ilość klietów, którzy zwrócili towar po zakupie to: {eee}\")\n",
    "print(f\"Ilość klietów, którzy zakupili produkty przed wysyłką 3 komunikacji, a po otrzymaniu 3 komunikacji już nie to: {fff}\")\n",
    "print(f\"Ilość klietów, którzy nie mieli zakupów przed 3 wysyłką, a po otrzymaniu 3 komunikacji odnotowaliśmy zakup to  : {ggg}\")\n",
    "print(f\"Ilość klietów, którzy nie zakupili towarów przed i po otrzymaniu 3 komunikacji to : {hhh}\")"
   ]
  },
  {
   "cell_type": "markdown",
   "metadata": {},
   "source": [
    "Po otrzymaniu ulotek z trzeciej komunikacji, zakupów dokonało ok.2200 osób więcej. O 119 osób mniej zrobiło zakupy bez otrzymania komunikacji. \n",
    "Porównując ilość wszystkich historycznych zakupów, najmniej klientów kupiło towary w okolicy trzeciej wysyłki. \n",
    "Nie odnotowano zwrotów po zakupach. Dodatkowo aż 5777 klientów zrobiło zakupy przed wysyłką ulotek, ale po otrzymaniu komunikacji już nic nie zakupili. Zyskaliśmy prawie 8000 nowych klientów, u nich zysk będzie wartością dodatnią.  Można wnioskować, że promocja zachęcająca do kupna podczas 3 wysyłki była najgorsza w historii. aż 22 tysiące klientów nie zakupiło produktów zarówno przed jak i po wysłaniu komunikacji. "
   ]
  },
  {
   "cell_type": "markdown",
   "metadata": {},
   "source": [
    "#### Ad. 4 Wizualizacja profit vs. sendout"
   ]
  },
  {
   "cell_type": "code",
   "execution_count": 74,
   "metadata": {},
   "outputs": [],
   "source": [
    "#tworzę kopie datasetu tylko z kolumnami Sendout i Profit, wybieram tylko wiersze, gdzie profit jest różny od 0. Dzięki temu oszczędzam miejsce w pamięci\n",
    "data_to_viz_1 = data[data.PROFIT_1 != 0.0]\n",
    "data_to_viz_2=data[data.PROFIT_2 != 0.0]\n",
    "data_to_viz_3 = data[data.PROFIT_3 != 0.0]"
   ]
  },
  {
   "cell_type": "code",
   "execution_count": 75,
   "metadata": {},
   "outputs": [
    {
     "data": {
      "text/plain": [
       "(-500.0, 500)"
      ]
     },
     "execution_count": 75,
     "metadata": {},
     "output_type": "execute_result"
    },
    {
     "data": {
      "image/png": "[encoded data removed]",
      "text/plain": [
       "<Figure size 1080x504 with 3 Axes>"
      ]
     },
     "metadata": {
      "needs_background": "light"
     },
     "output_type": "display_data"
    }
   ],
   "source": [
    "plt.figure(figsize=(15, 7))\n",
    "plt.subplot(1,3,1)\n",
    "sns.boxplot(data=data_to_viz_1, x='SENDOUT_1', y='PROFIT_1')\n",
    "plt.ylim(-500.0, 500, 50.0)\n",
    "plt.subplot(1,3,2)\n",
    "sns.boxplot(data=data_to_viz_2, x='SENDOUT_2', y='PROFIT_2')\n",
    "plt.ylim(-500.0, 500, 50.0)\n",
    "plt.subplot(1,3,3)\n",
    "sns.boxplot(data=data_to_viz_3, x='SENDOUT_3', y='PROFIT_3')\n",
    "plt.ylim(-500.0, 500,)"
   ]
  },
  {
   "cell_type": "markdown",
   "metadata": {},
   "source": [
    "Na każdym wykresie możemy zauważyć sporą ilość outlierów. Te outliery, które mają wartośc dodatnią są dla nas najbardziej porządane, bo właśnie oni przynoszą zysk i im opłaca się wysłać komunikację. Outliery z wartościami na minusie to klienci, którzy nie kupują towarów po wysyłce komunikacji, kupują je wcześniej.  Można ich określić jako \"stałych klientów\", kórzy nie potrzebują , aby przypominać im o robieniu zakupów. \n",
    "Z wykresów wynika, że w każdym przypadku średnia wartość zysku oscyluje w okolicy 0-40 zł. \n",
    "Na prawie wszystkich wykresach widać, że wartości minimalne, wartości w 1 kwartylu i wartości w 3 kwartylu są na zbliżonym poziomie. Na uwagę zasługuje wykres porównujący PROFIT_1 vs. SENDOUT_1 == 1. Tutaj widzimy najmniejszy rozstęp międzykwartylowy. Można wywnioskować, że wartość zysku u większości klientów, jest podobny. \n",
    "Z uwagi, że będę wykonywać Klasteryzację, to nie chcę usuwać outlierów, bo dzięki nim, algorytm  może stworzyć fajne klastry."
   ]
  },
  {
   "cell_type": "markdown",
   "metadata": {},
   "source": [
    "### 4. Wybór 15 000 klientów, do których wyślemy komunikację w przyszłości"
   ]
  },
  {
   "cell_type": "markdown",
   "metadata": {},
   "source": [
    "#### Ad.1 Prosty wybór metodą wyfiltrowania 15 000  klientów z najwyższym średnim zyskiem"
   ]
  },
  {
   "cell_type": "code",
   "execution_count": 76,
   "metadata": {},
   "outputs": [],
   "source": [
    "#tworzę kolumnę ze średnim zyskiem\n",
    "data['AVG_PROFIT']= data[['PROFIT_1', 'PROFIT_2', 'PROFIT_3']].mean(axis=1)"
   ]
  },
  {
   "cell_type": "code",
   "execution_count": 77,
   "metadata": {},
   "outputs": [],
   "source": [
    "#usuwam klientów, którzy nie wyrazili zgody na otrzymywanie komunikacji \n",
    "data_final= data.drop(data[data.CONSENT_COMMUNICATION == 0].index, axis=0)"
   ]
  },
  {
   "cell_type": "code",
   "execution_count": 78,
   "metadata": {},
   "outputs": [
    {
     "data": {
      "text/plain": [
       "(45140, 15)"
      ]
     },
     "execution_count": 78,
     "metadata": {},
     "output_type": "execute_result"
    }
   ],
   "source": [
    "data_final.shape"
   ]
  },
  {
   "cell_type": "code",
   "execution_count": 79,
   "metadata": {},
   "outputs": [
    {
     "data": {
      "text/html": [
       "<div>\n",
       "<style scoped>\n",
       "    .dataframe tbody tr th:only-of-type {\n",
       "        vertical-align: middle;\n",
       "    }\n",
       "\n",
       "    .dataframe tbody tr th {\n",
       "        vertical-align: top;\n",
       "    }\n",
       "\n",
       "    .dataframe thead th {\n",
       "        text-align: right;\n",
       "    }\n",
       "</style>\n",
       "<table border=\"1\" class=\"dataframe\">\n",
       "  <thead>\n",
       "    <tr style=\"text-align: right;\">\n",
       "      <th></th>\n",
       "      <th>CUST_ID</th>\n",
       "      <th>CONSENT_COMMUNICATION</th>\n",
       "      <th>SALES_AFTER_SENDOUT_1</th>\n",
       "      <th>SALES_AFTER_SENDOUT_2</th>\n",
       "      <th>SALES_AFTER_SENDOUT_3</th>\n",
       "      <th>SALES_BEFORE_SENDOUT_1</th>\n",
       "      <th>SALES_BEFORE_SENDOUT_2</th>\n",
       "      <th>SALES_BEFORE_SENDOUT_3</th>\n",
       "      <th>SENDOUT_1</th>\n",
       "      <th>SENDOUT_2</th>\n",
       "      <th>SENDOUT_3</th>\n",
       "      <th>PROFIT_1</th>\n",
       "      <th>PROFIT_2</th>\n",
       "      <th>PROFIT_3</th>\n",
       "      <th>AVG_PROFIT</th>\n",
       "    </tr>\n",
       "  </thead>\n",
       "  <tbody>\n",
       "    <tr>\n",
       "      <th>0</th>\n",
       "      <td>1</td>\n",
       "      <td>1</td>\n",
       "      <td>46.26</td>\n",
       "      <td>0.00</td>\n",
       "      <td>0.00</td>\n",
       "      <td>0.00</td>\n",
       "      <td>0.00</td>\n",
       "      <td>0.00</td>\n",
       "      <td>1</td>\n",
       "      <td>0</td>\n",
       "      <td>1</td>\n",
       "      <td>46.26</td>\n",
       "      <td>0.00</td>\n",
       "      <td>0.00</td>\n",
       "      <td>15.42</td>\n",
       "    </tr>\n",
       "    <tr>\n",
       "      <th>3</th>\n",
       "      <td>4</td>\n",
       "      <td>1</td>\n",
       "      <td>64.06</td>\n",
       "      <td>0.00</td>\n",
       "      <td>0.00</td>\n",
       "      <td>161.81</td>\n",
       "      <td>0.00</td>\n",
       "      <td>0.00</td>\n",
       "      <td>1</td>\n",
       "      <td>0</td>\n",
       "      <td>1</td>\n",
       "      <td>-97.75</td>\n",
       "      <td>0.00</td>\n",
       "      <td>0.00</td>\n",
       "      <td>-32.58</td>\n",
       "    </tr>\n",
       "    <tr>\n",
       "      <th>5</th>\n",
       "      <td>6</td>\n",
       "      <td>1</td>\n",
       "      <td>28.13</td>\n",
       "      <td>278.35</td>\n",
       "      <td>0.00</td>\n",
       "      <td>0.00</td>\n",
       "      <td>0.00</td>\n",
       "      <td>0.00</td>\n",
       "      <td>1</td>\n",
       "      <td>0</td>\n",
       "      <td>0</td>\n",
       "      <td>28.13</td>\n",
       "      <td>278.35</td>\n",
       "      <td>0.00</td>\n",
       "      <td>102.16</td>\n",
       "    </tr>\n",
       "    <tr>\n",
       "      <th>6</th>\n",
       "      <td>7</td>\n",
       "      <td>1</td>\n",
       "      <td>207.63</td>\n",
       "      <td>0.00</td>\n",
       "      <td>0.00</td>\n",
       "      <td>0.00</td>\n",
       "      <td>0.00</td>\n",
       "      <td>0.00</td>\n",
       "      <td>1</td>\n",
       "      <td>0</td>\n",
       "      <td>1</td>\n",
       "      <td>207.63</td>\n",
       "      <td>0.00</td>\n",
       "      <td>0.00</td>\n",
       "      <td>69.21</td>\n",
       "    </tr>\n",
       "    <tr>\n",
       "      <th>7</th>\n",
       "      <td>8</td>\n",
       "      <td>1</td>\n",
       "      <td>37.37</td>\n",
       "      <td>36.02</td>\n",
       "      <td>0.00</td>\n",
       "      <td>0.00</td>\n",
       "      <td>0.00</td>\n",
       "      <td>0.00</td>\n",
       "      <td>1</td>\n",
       "      <td>0</td>\n",
       "      <td>1</td>\n",
       "      <td>37.37</td>\n",
       "      <td>36.02</td>\n",
       "      <td>0.00</td>\n",
       "      <td>24.47</td>\n",
       "    </tr>\n",
       "  </tbody>\n",
       "</table>\n",
       "</div>"
      ],
      "text/plain": [
       "   CUST_ID  CONSENT_COMMUNICATION  SALES_AFTER_SENDOUT_1  \\\n",
       "0        1                      1                  46.26   \n",
       "3        4                      1                  64.06   \n",
       "5        6                      1                  28.13   \n",
       "6        7                      1                 207.63   \n",
       "7        8                      1                  37.37   \n",
       "\n",
       "   SALES_AFTER_SENDOUT_2  SALES_AFTER_SENDOUT_3  SALES_BEFORE_SENDOUT_1  \\\n",
       "0                   0.00                   0.00                    0.00   \n",
       "3                   0.00                   0.00                  161.81   \n",
       "5                 278.35                   0.00                    0.00   \n",
       "6                   0.00                   0.00                    0.00   \n",
       "7                  36.02                   0.00                    0.00   \n",
       "\n",
       "   SALES_BEFORE_SENDOUT_2  SALES_BEFORE_SENDOUT_3  SENDOUT_1  SENDOUT_2  \\\n",
       "0                    0.00                    0.00          1          0   \n",
       "3                    0.00                    0.00          1          0   \n",
       "5                    0.00                    0.00          1          0   \n",
       "6                    0.00                    0.00          1          0   \n",
       "7                    0.00                    0.00          1          0   \n",
       "\n",
       "   SENDOUT_3  PROFIT_1  PROFIT_2  PROFIT_3  AVG_PROFIT  \n",
       "0          1     46.26      0.00      0.00       15.42  \n",
       "3          1    -97.75      0.00      0.00      -32.58  \n",
       "5          0     28.13    278.35      0.00      102.16  \n",
       "6          1    207.63      0.00      0.00       69.21  \n",
       "7          1     37.37     36.02      0.00       24.47  "
      ]
     },
     "execution_count": 79,
     "metadata": {},
     "output_type": "execute_result"
    }
   ],
   "source": [
    "data_final.head()"
   ]
  },
  {
   "cell_type": "code",
   "execution_count": 80,
   "metadata": {},
   "outputs": [
    {
     "data": {
      "text/html": [
       "<div>\n",
       "<style scoped>\n",
       "    .dataframe tbody tr th:only-of-type {\n",
       "        vertical-align: middle;\n",
       "    }\n",
       "\n",
       "    .dataframe tbody tr th {\n",
       "        vertical-align: top;\n",
       "    }\n",
       "\n",
       "    .dataframe thead th {\n",
       "        text-align: right;\n",
       "    }\n",
       "</style>\n",
       "<table border=\"1\" class=\"dataframe\">\n",
       "  <thead>\n",
       "    <tr style=\"text-align: right;\">\n",
       "      <th></th>\n",
       "      <th>CUST_ID</th>\n",
       "      <th>CONSENT_COMMUNICATION</th>\n",
       "      <th>SALES_AFTER_SENDOUT_1</th>\n",
       "      <th>SALES_AFTER_SENDOUT_2</th>\n",
       "      <th>SALES_AFTER_SENDOUT_3</th>\n",
       "      <th>SALES_BEFORE_SENDOUT_1</th>\n",
       "      <th>SALES_BEFORE_SENDOUT_2</th>\n",
       "      <th>SALES_BEFORE_SENDOUT_3</th>\n",
       "      <th>SENDOUT_1</th>\n",
       "      <th>SENDOUT_2</th>\n",
       "      <th>SENDOUT_3</th>\n",
       "      <th>PROFIT_1</th>\n",
       "      <th>PROFIT_2</th>\n",
       "      <th>PROFIT_3</th>\n",
       "      <th>AVG_PROFIT</th>\n",
       "    </tr>\n",
       "  </thead>\n",
       "  <tbody>\n",
       "    <tr>\n",
       "      <th>15583</th>\n",
       "      <td>15584</td>\n",
       "      <td>1</td>\n",
       "      <td>548.45</td>\n",
       "      <td>4,495.70</td>\n",
       "      <td>0.00</td>\n",
       "      <td>0.00</td>\n",
       "      <td>60.57</td>\n",
       "      <td>958.12</td>\n",
       "      <td>0</td>\n",
       "      <td>0</td>\n",
       "      <td>1</td>\n",
       "      <td>548.45</td>\n",
       "      <td>4,435.13</td>\n",
       "      <td>-958.12</td>\n",
       "      <td>1,341.82</td>\n",
       "    </tr>\n",
       "    <tr>\n",
       "      <th>46113</th>\n",
       "      <td>46114</td>\n",
       "      <td>1</td>\n",
       "      <td>3,041.69</td>\n",
       "      <td>490.24</td>\n",
       "      <td>0.00</td>\n",
       "      <td>0.00</td>\n",
       "      <td>0.00</td>\n",
       "      <td>0.00</td>\n",
       "      <td>1</td>\n",
       "      <td>0</td>\n",
       "      <td>1</td>\n",
       "      <td>3,041.69</td>\n",
       "      <td>490.24</td>\n",
       "      <td>0.00</td>\n",
       "      <td>1,177.31</td>\n",
       "    </tr>\n",
       "    <tr>\n",
       "      <th>28253</th>\n",
       "      <td>28254</td>\n",
       "      <td>1</td>\n",
       "      <td>9.56</td>\n",
       "      <td>2,845.37</td>\n",
       "      <td>0.00</td>\n",
       "      <td>0.00</td>\n",
       "      <td>0.00</td>\n",
       "      <td>0.00</td>\n",
       "      <td>1</td>\n",
       "      <td>0</td>\n",
       "      <td>1</td>\n",
       "      <td>9.56</td>\n",
       "      <td>2,845.37</td>\n",
       "      <td>0.00</td>\n",
       "      <td>951.64</td>\n",
       "    </tr>\n",
       "    <tr>\n",
       "      <th>11619</th>\n",
       "      <td>11620</td>\n",
       "      <td>1</td>\n",
       "      <td>841.11</td>\n",
       "      <td>1,265.30</td>\n",
       "      <td>520.47</td>\n",
       "      <td>39.83</td>\n",
       "      <td>0.00</td>\n",
       "      <td>152.72</td>\n",
       "      <td>0</td>\n",
       "      <td>0</td>\n",
       "      <td>1</td>\n",
       "      <td>801.28</td>\n",
       "      <td>1,265.30</td>\n",
       "      <td>367.75</td>\n",
       "      <td>811.44</td>\n",
       "    </tr>\n",
       "    <tr>\n",
       "      <th>9455</th>\n",
       "      <td>9456</td>\n",
       "      <td>1</td>\n",
       "      <td>2,329.02</td>\n",
       "      <td>0.00</td>\n",
       "      <td>0.00</td>\n",
       "      <td>0.00</td>\n",
       "      <td>0.00</td>\n",
       "      <td>0.00</td>\n",
       "      <td>0</td>\n",
       "      <td>0</td>\n",
       "      <td>1</td>\n",
       "      <td>2,329.02</td>\n",
       "      <td>0.00</td>\n",
       "      <td>0.00</td>\n",
       "      <td>776.34</td>\n",
       "    </tr>\n",
       "    <tr>\n",
       "      <th>...</th>\n",
       "      <td>...</td>\n",
       "      <td>...</td>\n",
       "      <td>...</td>\n",
       "      <td>...</td>\n",
       "      <td>...</td>\n",
       "      <td>...</td>\n",
       "      <td>...</td>\n",
       "      <td>...</td>\n",
       "      <td>...</td>\n",
       "      <td>...</td>\n",
       "      <td>...</td>\n",
       "      <td>...</td>\n",
       "      <td>...</td>\n",
       "      <td>...</td>\n",
       "      <td>...</td>\n",
       "    </tr>\n",
       "    <tr>\n",
       "      <th>37117</th>\n",
       "      <td>37118</td>\n",
       "      <td>1</td>\n",
       "      <td>0.00</td>\n",
       "      <td>0.00</td>\n",
       "      <td>395.87</td>\n",
       "      <td>0.00</td>\n",
       "      <td>0.00</td>\n",
       "      <td>2,609.93</td>\n",
       "      <td>0</td>\n",
       "      <td>0</td>\n",
       "      <td>1</td>\n",
       "      <td>0.00</td>\n",
       "      <td>0.00</td>\n",
       "      <td>-2,214.06</td>\n",
       "      <td>-738.02</td>\n",
       "    </tr>\n",
       "    <tr>\n",
       "      <th>32253</th>\n",
       "      <td>32254</td>\n",
       "      <td>1</td>\n",
       "      <td>0.00</td>\n",
       "      <td>16.98</td>\n",
       "      <td>0.00</td>\n",
       "      <td>817.08</td>\n",
       "      <td>1,268.78</td>\n",
       "      <td>831.46</td>\n",
       "      <td>0</td>\n",
       "      <td>0</td>\n",
       "      <td>1</td>\n",
       "      <td>-817.08</td>\n",
       "      <td>-1,251.80</td>\n",
       "      <td>-831.46</td>\n",
       "      <td>-966.78</td>\n",
       "    </tr>\n",
       "    <tr>\n",
       "      <th>16115</th>\n",
       "      <td>16116</td>\n",
       "      <td>1</td>\n",
       "      <td>0.00</td>\n",
       "      <td>319.79</td>\n",
       "      <td>741.52</td>\n",
       "      <td>0.00</td>\n",
       "      <td>551.99</td>\n",
       "      <td>4,181.45</td>\n",
       "      <td>1</td>\n",
       "      <td>0</td>\n",
       "      <td>0</td>\n",
       "      <td>0.00</td>\n",
       "      <td>-232.20</td>\n",
       "      <td>-3,439.93</td>\n",
       "      <td>-1,224.04</td>\n",
       "    </tr>\n",
       "    <tr>\n",
       "      <th>39808</th>\n",
       "      <td>39809</td>\n",
       "      <td>1</td>\n",
       "      <td>471.24</td>\n",
       "      <td>11,505.13</td>\n",
       "      <td>759.90</td>\n",
       "      <td>14,345.02</td>\n",
       "      <td>5,224.27</td>\n",
       "      <td>2,414.45</td>\n",
       "      <td>1</td>\n",
       "      <td>0</td>\n",
       "      <td>1</td>\n",
       "      <td>-13,873.78</td>\n",
       "      <td>6,280.86</td>\n",
       "      <td>-1,654.55</td>\n",
       "      <td>-3,082.49</td>\n",
       "    </tr>\n",
       "    <tr>\n",
       "      <th>4264</th>\n",
       "      <td>4265</td>\n",
       "      <td>1</td>\n",
       "      <td>0.00</td>\n",
       "      <td>265.17</td>\n",
       "      <td>961.92</td>\n",
       "      <td>0.00</td>\n",
       "      <td>0.00</td>\n",
       "      <td>12,135.69</td>\n",
       "      <td>0</td>\n",
       "      <td>0</td>\n",
       "      <td>1</td>\n",
       "      <td>0.00</td>\n",
       "      <td>265.17</td>\n",
       "      <td>-11,173.77</td>\n",
       "      <td>-3,636.20</td>\n",
       "    </tr>\n",
       "  </tbody>\n",
       "</table>\n",
       "<p>45140 rows × 15 columns</p>\n",
       "</div>"
      ],
      "text/plain": [
       "       CUST_ID  CONSENT_COMMUNICATION  SALES_AFTER_SENDOUT_1  \\\n",
       "15583    15584                      1                 548.45   \n",
       "46113    46114                      1               3,041.69   \n",
       "28253    28254                      1                   9.56   \n",
       "11619    11620                      1                 841.11   \n",
       "9455      9456                      1               2,329.02   \n",
       "...        ...                    ...                    ...   \n",
       "37117    37118                      1                   0.00   \n",
       "32253    32254                      1                   0.00   \n",
       "16115    16116                      1                   0.00   \n",
       "39808    39809                      1                 471.24   \n",
       "4264      4265                      1                   0.00   \n",
       "\n",
       "       SALES_AFTER_SENDOUT_2  SALES_AFTER_SENDOUT_3  SALES_BEFORE_SENDOUT_1  \\\n",
       "15583               4,495.70                   0.00                    0.00   \n",
       "46113                 490.24                   0.00                    0.00   \n",
       "28253               2,845.37                   0.00                    0.00   \n",
       "11619               1,265.30                 520.47                   39.83   \n",
       "9455                    0.00                   0.00                    0.00   \n",
       "...                      ...                    ...                     ...   \n",
       "37117                   0.00                 395.87                    0.00   \n",
       "32253                  16.98                   0.00                  817.08   \n",
       "16115                 319.79                 741.52                    0.00   \n",
       "39808              11,505.13                 759.90               14,345.02   \n",
       "4264                  265.17                 961.92                    0.00   \n",
       "\n",
       "       SALES_BEFORE_SENDOUT_2  SALES_BEFORE_SENDOUT_3  SENDOUT_1  SENDOUT_2  \\\n",
       "15583                   60.57                  958.12          0          0   \n",
       "46113                    0.00                    0.00          1          0   \n",
       "28253                    0.00                    0.00          1          0   \n",
       "11619                    0.00                  152.72          0          0   \n",
       "9455                     0.00                    0.00          0          0   \n",
       "...                       ...                     ...        ...        ...   \n",
       "37117                    0.00                2,609.93          0          0   \n",
       "32253                1,268.78                  831.46          0          0   \n",
       "16115                  551.99                4,181.45          1          0   \n",
       "39808                5,224.27                2,414.45          1          0   \n",
       "4264                     0.00               12,135.69          0          0   \n",
       "\n",
       "       SENDOUT_3   PROFIT_1  PROFIT_2   PROFIT_3  AVG_PROFIT  \n",
       "15583          1     548.45  4,435.13    -958.12    1,341.82  \n",
       "46113          1   3,041.69    490.24       0.00    1,177.31  \n",
       "28253          1       9.56  2,845.37       0.00      951.64  \n",
       "11619          1     801.28  1,265.30     367.75      811.44  \n",
       "9455           1   2,329.02      0.00       0.00      776.34  \n",
       "...          ...        ...       ...        ...         ...  \n",
       "37117          1       0.00      0.00  -2,214.06     -738.02  \n",
       "32253          1    -817.08 -1,251.80    -831.46     -966.78  \n",
       "16115          0       0.00   -232.20  -3,439.93   -1,224.04  \n",
       "39808          1 -13,873.78  6,280.86  -1,654.55   -3,082.49  \n",
       "4264           1       0.00    265.17 -11,173.77   -3,636.20  \n",
       "\n",
       "[45140 rows x 15 columns]"
      ]
     },
     "execution_count": 80,
     "metadata": {},
     "output_type": "execute_result"
    }
   ],
   "source": [
    "data_to_sendout= data_final.sort_values(by=\"AVG_PROFIT\", ascending=False)\n",
    "data_to_sendout"
   ]
  },
  {
   "cell_type": "code",
   "execution_count": 81,
   "metadata": {},
   "outputs": [
    {
     "data": {
      "text/plain": [
       "15583    15584\n",
       "46113    46114\n",
       "28253    28254\n",
       "11619    11620\n",
       "9455      9456\n",
       "         ...  \n",
       "16404    16405\n",
       "28716    28717\n",
       "10967    10968\n",
       "22110    22111\n",
       "16977    16978\n",
       "Name: CUST_ID, Length: 15000, dtype: int64"
      ]
     },
     "execution_count": 81,
     "metadata": {},
     "output_type": "execute_result"
    }
   ],
   "source": [
    "final_list_1= data_to_sendout.head(15000).CUST_ID\n",
    "final_list_1"
   ]
  },
  {
   "cell_type": "markdown",
   "metadata": {},
   "source": [
    "#### Ad.2 Clustering"
   ]
  },
  {
   "cell_type": "markdown",
   "metadata": {},
   "source": [
    "a) K-Means Clustering"
   ]
  },
  {
   "cell_type": "code",
   "execution_count": 82,
   "metadata": {},
   "outputs": [],
   "source": [
    "from sklearn.cluster import KMeans\n",
    "from sklearn.metrics import silhouette_score\n",
    "\n",
    "from scipy.cluster.hierarchy import linkage\n",
    "from scipy.cluster.hierarchy import dendrogram\n",
    "from scipy.cluster.hierarchy import cut_tree"
   ]
  },
  {
   "cell_type": "code",
   "execution_count": 83,
   "metadata": {},
   "outputs": [
    {
     "data": {
      "text/plain": [
       "Index(['SALES_AFTER_SENDOUT_1', 'SALES_AFTER_SENDOUT_2',\n",
       "       'SALES_AFTER_SENDOUT_3', 'SALES_BEFORE_SENDOUT_1',\n",
       "       'SALES_BEFORE_SENDOUT_2', 'SALES_BEFORE_SENDOUT_3', 'SENDOUT_1',\n",
       "       'SENDOUT_2', 'SENDOUT_3', 'PROFIT_1', 'PROFIT_2', 'PROFIT_3',\n",
       "       'AVG_PROFIT'],\n",
       "      dtype='object')"
      ]
     },
     "execution_count": 83,
     "metadata": {},
     "output_type": "execute_result"
    }
   ],
   "source": [
    "data_to_clustering= data_final.iloc[:, 2:]\n",
    "data_to_clustering.columns"
   ]
  },
  {
   "cell_type": "code",
   "execution_count": 84,
   "metadata": {},
   "outputs": [],
   "source": [
    "from sklearn.preprocessing import StandardScaler\n",
    "scaler = StandardScaler()\n",
    "data_final_scaled = scaler.fit_transform(data_to_clustering)"
   ]
  },
  {
   "cell_type": "code",
   "execution_count": 85,
   "metadata": {},
   "outputs": [
    {
     "data": {
      "text/plain": [
       "KMeans(algorithm='auto', copy_x=True, init='k-means++', max_iter=1000,\n",
       "       n_clusters=10, n_init=10, n_jobs=None, precompute_distances='auto',\n",
       "       random_state=42, tol=0.0001, verbose=0)"
      ]
     },
     "execution_count": 85,
     "metadata": {},
     "output_type": "execute_result"
    }
   ],
   "source": [
    "kmeans = KMeans(n_clusters= 10, max_iter=1000, random_state=42) \n",
    "kmeans.fit(data_final_scaled)"
   ]
  },
  {
   "cell_type": "code",
   "execution_count": 86,
   "metadata": {},
   "outputs": [
    {
     "data": {
      "text/plain": [
       "array([9, 9, 4, ..., 2, 2, 2])"
      ]
     },
     "execution_count": 86,
     "metadata": {},
     "output_type": "execute_result"
    }
   ],
   "source": [
    "kmeans.labels_"
   ]
  },
  {
   "cell_type": "code",
   "execution_count": 87,
   "metadata": {},
   "outputs": [
    {
     "data": {
      "text/plain": [
       "(0, 15)"
      ]
     },
     "execution_count": 87,
     "metadata": {},
     "output_type": "execute_result"
    },
    {
     "data": {
      "image/png": "[encoded data removed]",
      "text/plain": [
       "<Figure size 432x288 with 1 Axes>"
      ]
     },
     "metadata": {
      "needs_background": "light"
     },
     "output_type": "display_data"
    }
   ],
   "source": [
    "# metoda łokcia - elbow-curve\n",
    "ssd = [] # Sum of squared distances\n",
    "range_n_clusters = [2, 3, 4, 5, 6, 7, 8, 9, 10, 11, 12, 13, 14, 15, 16, 17, 18, 19, 20] #sprawdzamy dla danej ilosci klastrów\n",
    "for num_clusters in range_n_clusters:\n",
    "    kmeans = KMeans(n_clusters=num_clusters, max_iter=100, random_state=42)\n",
    "    kmeans.fit(data_final_scaled )\n",
    "    \n",
    "    ssd.append(kmeans.inertia_) #Sum of squared distances\n",
    "\n",
    "plt.plot(ssd)\n",
    "plt.xlim(0,15)"
   ]
  },
  {
   "cell_type": "code",
   "execution_count": 88,
   "metadata": {},
   "outputs": [
    {
     "name": "stdout",
     "output_type": "stream",
     "text": [
      "For n_clusters=2, the silhouette score is 0.2878296570006323\n",
      "For n_clusters=3, the silhouette score is 0.28555796946736534\n",
      "For n_clusters=4, the silhouette score is 0.20897576227857623\n",
      "For n_clusters=5, the silhouette score is 0.31646453937077773\n",
      "For n_clusters=6, the silhouette score is 0.3374295051958085\n",
      "For n_clusters=7, the silhouette score is 0.33465318031821906\n",
      "For n_clusters=8, the silhouette score is 0.31238570451817704\n",
      "For n_clusters=9, the silhouette score is 0.3128782836947723\n",
      "For n_clusters=10, the silhouette score is 0.32889063693785875\n",
      "For n_clusters=11, the silhouette score is 0.34035561810059445\n",
      "For n_clusters=12, the silhouette score is 0.35031046125166776\n",
      "For n_clusters=13, the silhouette score is 0.35380386471825304\n",
      "For n_clusters=14, the silhouette score is 0.35892223672275847\n",
      "For n_clusters=15, the silhouette score is 0.3625698602031526\n",
      "For n_clusters=16, the silhouette score is 0.3629995407191516\n",
      "For n_clusters=17, the silhouette score is 0.365415457125829\n",
      "For n_clusters=18, the silhouette score is 0.3764673172813918\n",
      "For n_clusters=19, the silhouette score is 0.378240412020117\n",
      "For n_clusters=20, the silhouette score is 0.37503367211839694\n"
     ]
    }
   ],
   "source": [
    "# Miara wewnętrzna - wskaźnik sylwetkowy\n",
    "\n",
    "range_n_clusters = [2, 3, 4, 5, 6, 7, 8, 9, 10, 11, 12, 13, 14, 15, 16, 17, 18, 19, 20]\n",
    "\n",
    "for num_clusters in range_n_clusters:\n",
    "    \n",
    "    # intialise kmeans\n",
    "    kmeans = KMeans(n_clusters=num_clusters, max_iter=100, random_state=42)\n",
    "    kmeans.fit(data_final_scaled )\n",
    "    \n",
    "    cluster_labels = kmeans.labels_\n",
    "    \n",
    "    # silhouette score\n",
    "    silhouette_avg = silhouette_score(data_final_scaled, cluster_labels)\n",
    "    print(\"For n_clusters={0}, the silhouette score is {1}\".format(num_clusters, silhouette_avg))"
   ]
  },
  {
   "cell_type": "code",
   "execution_count": 89,
   "metadata": {},
   "outputs": [
    {
     "data": {
      "text/plain": [
       "KMeans(algorithm='auto', copy_x=True, init='k-means++', max_iter=1000,\n",
       "       n_clusters=10, n_init=10, n_jobs=None, precompute_distances='auto',\n",
       "       random_state=42, tol=0.0001, verbose=0)"
      ]
     },
     "execution_count": 89,
     "metadata": {},
     "output_type": "execute_result"
    }
   ],
   "source": [
    "# patrząc na oba wskaźniki wybieram 10 klastrów\n",
    "kmeans = KMeans(n_clusters=10, max_iter=1000, random_state=42)\n",
    "kmeans.fit(data_final_scaled)"
   ]
  },
  {
   "cell_type": "code",
   "execution_count": 90,
   "metadata": {},
   "outputs": [
    {
     "data": {
      "text/plain": [
       "array([9, 9, 4, ..., 2, 2, 2])"
      ]
     },
     "execution_count": 90,
     "metadata": {},
     "output_type": "execute_result"
    }
   ],
   "source": [
    "kmeans.labels_"
   ]
  },
  {
   "cell_type": "code",
   "execution_count": 91,
   "metadata": {},
   "outputs": [],
   "source": [
    "#kolumnę z Cluster_ID dodaję do datasetu data_final, bo będzie mi potrzebna kolumna z id klienta\n",
    "data_final['Cluster_ID'] = kmeans.labels_"
   ]
  },
  {
   "cell_type": "code",
   "execution_count": 92,
   "metadata": {},
   "outputs": [
    {
     "data": {
      "text/plain": [
       "(-250, 250)"
      ]
     },
     "execution_count": 92,
     "metadata": {},
     "output_type": "execute_result"
    },
    {
     "data": {
      "image/png": "[encoded data removed]",
      "text/plain": [
       "<Figure size 576x576 with 1 Axes>"
      ]
     },
     "metadata": {
      "needs_background": "light"
     },
     "output_type": "display_data"
    }
   ],
   "source": [
    "plt.figure(figsize=(8,8))  \n",
    "\n",
    "sns.boxplot(x='Cluster_ID', y='AVG_PROFIT', data=data_final)\n",
    "plt.ylim(-250, 250)"
   ]
  },
  {
   "cell_type": "code",
   "execution_count": 93,
   "metadata": {},
   "outputs": [
    {
     "data": {
      "text/plain": [
       "Cluster_ID\n",
       "0     -115.28\n",
       "1      125.48\n",
       "2       -1.80\n",
       "3       65.63\n",
       "4        8.01\n",
       "5   -3,082.49\n",
       "6   -3,636.20\n",
       "7       13.99\n",
       "8      112.03\n",
       "9        5.28\n",
       "Name: AVG_PROFIT, dtype: float64"
      ]
     },
     "execution_count": 93,
     "metadata": {},
     "output_type": "execute_result"
    }
   ],
   "source": [
    "clustering_choice= data_final.groupby(['Cluster_ID']).AVG_PROFIT.mean()\n",
    "clustering_choice"
   ]
  },
  {
   "cell_type": "markdown",
   "metadata": {},
   "source": [
    "Szukam ilu klientow znajduje się w klastrach"
   ]
  },
  {
   "cell_type": "code",
   "execution_count": 94,
   "metadata": {},
   "outputs": [
    {
     "data": {
      "text/plain": [
       "14147"
      ]
     },
     "execution_count": 94,
     "metadata": {},
     "output_type": "execute_result"
    }
   ],
   "source": [
    "#klienci z największym średnim zyskiem\n",
    "data_final[(data_final.Cluster_ID == 1) | (data_final.Cluster_ID == 3) | (data_final.Cluster_ID == 8) |\n",
    "        (data_final.Cluster_ID == 7) | (data_final.Cluster_ID == 4)].CUST_ID.count()"
   ]
  },
  {
   "cell_type": "code",
   "execution_count": 95,
   "metadata": {},
   "outputs": [
    {
     "data": {
      "text/plain": [
       "14325"
      ]
     },
     "execution_count": 95,
     "metadata": {},
     "output_type": "execute_result"
    }
   ],
   "source": [
    "#klienci z dodatnim zyskiem na poziomie 5 \n",
    "data_final[(data_final.Cluster_ID == 9)].CUST_ID.count()"
   ]
  },
  {
   "cell_type": "markdown",
   "metadata": {},
   "source": [
    "Wybieram klientów z klastrów 1, 3, 4, 7 i 8 - mają średni zysk na plusie, są najlepszą docelową grupą, aby otrzymać kolejną komunikację."
   ]
  },
  {
   "cell_type": "code",
   "execution_count": 96,
   "metadata": {},
   "outputs": [
    {
     "data": {
      "text/plain": [
       "5            6\n",
       "6            7\n",
       "9           10\n",
       "12          13\n",
       "17          18\n",
       "         ...  \n",
       "49978    49979\n",
       "49979    49980\n",
       "49984    49985\n",
       "49993    49994\n",
       "49996    49997\n",
       "Name: CUST_ID, Length: 14147, dtype: int64"
      ]
     },
     "execution_count": 96,
     "metadata": {},
     "output_type": "execute_result"
    }
   ],
   "source": [
    "final_list2 = data_final[(data_final.Cluster_ID == 1) | (data_final.Cluster_ID == 3) | (data_final.Cluster_ID == 8) |\n",
    "        (data_final.Cluster_ID == 7) | (data_final.Cluster_ID == 4)].CUST_ID\n",
    "final_list2"
   ]
  },
  {
   "cell_type": "markdown",
   "metadata": {},
   "source": [
    "### 5. Next Steps"
   ]
  },
  {
   "cell_type": "markdown",
   "metadata": {},
   "source": [
    "a) można wykonać klasteryzację DBSCAN. Ciekawe jak w tym przypadku algoryytm pogrupowałby zbiór na klastry"
   ]
  },
  {
   "cell_type": "markdown",
   "metadata": {},
   "source": [
    "b) może udałoby się zebrać więcej danych do tabeli- fajnie byłoby mieć ilość sprzedanych sztuk. Gdybyśmy posiadlai takie dane, można to byłaby lepsza miara oceny , do kogo powinniśmy wysłać komunikację. "
   ]
  },
  {
   "cell_type": "markdown",
   "metadata": {},
   "source": [
    "c) można pomyśleć o modelowaniu w metodach uczenia nadzorowanego, ale dobrze byłoby mieć więcej danych o klientach. "
   ]
  },
  {
   "cell_type": "code",
   "execution_count": null,
   "metadata": {},
   "outputs": [],
   "source": []
  }
 ],
 "metadata": {
  "kernelspec": {
   "display_name": "Python 3",
   "language": "python",
   "name": "python3"
  },
  "language_info": {
   "codemirror_mode": {
    "name": "ipython",
    "version": 3
   },
   "file_extension": ".py",
   "mimetype": "text/x-python",
   "name": "python",
   "nbconvert_exporter": "python",
   "pygments_lexer": "ipython3",
   "version": "3.7.6"
  }
 },
 "nbformat": 4,
 "nbformat_minor": 4
}
