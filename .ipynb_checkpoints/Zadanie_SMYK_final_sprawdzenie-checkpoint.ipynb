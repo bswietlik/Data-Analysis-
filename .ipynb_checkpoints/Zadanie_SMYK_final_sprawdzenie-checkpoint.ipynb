{
 "cells": [
  {
   "cell_type": "code",
   "execution_count": 3,
   "metadata": {},
   "outputs": [],
   "source": [
    "import pandas as pd\n",
    "import numpy as np"
   ]
  },
  {
   "cell_type": "markdown",
   "metadata": {},
   "source": [
    "# Data Preprocessing"
   ]
  },
  {
   "cell_type": "markdown",
   "metadata": {},
   "source": [
    "### Load Datasets"
   ]
  },
  {
   "cell_type": "code",
   "execution_count": 4,
   "metadata": {},
   "outputs": [
    {
     "data": {
      "text/html": [
       "<div>\n",
       "<style scoped>\n",
       "    .dataframe tbody tr th:only-of-type {\n",
       "        vertical-align: middle;\n",
       "    }\n",
       "\n",
       "    .dataframe tbody tr th {\n",
       "        vertical-align: top;\n",
       "    }\n",
       "\n",
       "    .dataframe thead th {\n",
       "        text-align: right;\n",
       "    }\n",
       "</style>\n",
       "<table border=\"1\" class=\"dataframe\">\n",
       "  <thead>\n",
       "    <tr style=\"text-align: right;\">\n",
       "      <th></th>\n",
       "      <th>CUST_ID</th>\n",
       "      <th>CONSENT_COMMUNICATION</th>\n",
       "    </tr>\n",
       "  </thead>\n",
       "  <tbody>\n",
       "    <tr>\n",
       "      <th>0</th>\n",
       "      <td>1</td>\n",
       "      <td>1</td>\n",
       "    </tr>\n",
       "    <tr>\n",
       "      <th>1</th>\n",
       "      <td>2</td>\n",
       "      <td>0</td>\n",
       "    </tr>\n",
       "    <tr>\n",
       "      <th>2</th>\n",
       "      <td>3</td>\n",
       "      <td>0</td>\n",
       "    </tr>\n",
       "    <tr>\n",
       "      <th>3</th>\n",
       "      <td>4</td>\n",
       "      <td>1</td>\n",
       "    </tr>\n",
       "    <tr>\n",
       "      <th>4</th>\n",
       "      <td>5</td>\n",
       "      <td>0</td>\n",
       "    </tr>\n",
       "  </tbody>\n",
       "</table>\n",
       "</div>"
      ],
      "text/plain": [
       "   CUST_ID  CONSENT_COMMUNICATION\n",
       "0        1                      1\n",
       "1        2                      0\n",
       "2        3                      0\n",
       "3        4                      1\n",
       "4        5                      0"
      ]
     },
     "execution_count": 4,
     "metadata": {},
     "output_type": "execute_result"
    }
   ],
   "source": [
    "consent = pd.read_csv('consent.csv')\n",
    "consent.head()"
   ]
  },
  {
   "cell_type": "code",
   "execution_count": 5,
   "metadata": {},
   "outputs": [
    {
     "data": {
      "text/html": [
       "<div>\n",
       "<style scoped>\n",
       "    .dataframe tbody tr th:only-of-type {\n",
       "        vertical-align: middle;\n",
       "    }\n",
       "\n",
       "    .dataframe tbody tr th {\n",
       "        vertical-align: top;\n",
       "    }\n",
       "\n",
       "    .dataframe thead th {\n",
       "        text-align: right;\n",
       "    }\n",
       "</style>\n",
       "<table border=\"1\" class=\"dataframe\">\n",
       "  <thead>\n",
       "    <tr style=\"text-align: right;\">\n",
       "      <th></th>\n",
       "      <th>CUST_ID</th>\n",
       "      <th>TYPE</th>\n",
       "      <th>VALUE</th>\n",
       "    </tr>\n",
       "  </thead>\n",
       "  <tbody>\n",
       "    <tr>\n",
       "      <th>0</th>\n",
       "      <td>1</td>\n",
       "      <td>SALES_BEFORE_SENDOUT_1</td>\n",
       "      <td>0.000000</td>\n",
       "    </tr>\n",
       "    <tr>\n",
       "      <th>1</th>\n",
       "      <td>2</td>\n",
       "      <td>SALES_BEFORE_SENDOUT_1</td>\n",
       "      <td>0.000000</td>\n",
       "    </tr>\n",
       "    <tr>\n",
       "      <th>2</th>\n",
       "      <td>3</td>\n",
       "      <td>SALES_BEFORE_SENDOUT_1</td>\n",
       "      <td>0.000000</td>\n",
       "    </tr>\n",
       "    <tr>\n",
       "      <th>3</th>\n",
       "      <td>4</td>\n",
       "      <td>SALES_BEFORE_SENDOUT_1</td>\n",
       "      <td>161.812215</td>\n",
       "    </tr>\n",
       "    <tr>\n",
       "      <th>4</th>\n",
       "      <td>5</td>\n",
       "      <td>SALES_BEFORE_SENDOUT_1</td>\n",
       "      <td>0.000000</td>\n",
       "    </tr>\n",
       "  </tbody>\n",
       "</table>\n",
       "</div>"
      ],
      "text/plain": [
       "   CUST_ID                    TYPE       VALUE\n",
       "0        1  SALES_BEFORE_SENDOUT_1    0.000000\n",
       "1        2  SALES_BEFORE_SENDOUT_1    0.000000\n",
       "2        3  SALES_BEFORE_SENDOUT_1    0.000000\n",
       "3        4  SALES_BEFORE_SENDOUT_1  161.812215\n",
       "4        5  SALES_BEFORE_SENDOUT_1    0.000000"
      ]
     },
     "execution_count": 5,
     "metadata": {},
     "output_type": "execute_result"
    }
   ],
   "source": [
    "sales = pd.read_csv('sales.csv')\n",
    "sales.head()"
   ]
  },
  {
   "cell_type": "code",
   "execution_count": 6,
   "metadata": {},
   "outputs": [
    {
     "data": {
      "text/html": [
       "<div>\n",
       "<style scoped>\n",
       "    .dataframe tbody tr th:only-of-type {\n",
       "        vertical-align: middle;\n",
       "    }\n",
       "\n",
       "    .dataframe tbody tr th {\n",
       "        vertical-align: top;\n",
       "    }\n",
       "\n",
       "    .dataframe thead th {\n",
       "        text-align: right;\n",
       "    }\n",
       "</style>\n",
       "<table border=\"1\" class=\"dataframe\">\n",
       "  <thead>\n",
       "    <tr style=\"text-align: right;\">\n",
       "      <th></th>\n",
       "      <th>CUST_ID</th>\n",
       "      <th>TYPE</th>\n",
       "      <th>VALUE</th>\n",
       "    </tr>\n",
       "  </thead>\n",
       "  <tbody>\n",
       "    <tr>\n",
       "      <th>0</th>\n",
       "      <td>1</td>\n",
       "      <td>SENDOUT_1</td>\n",
       "      <td>1</td>\n",
       "    </tr>\n",
       "    <tr>\n",
       "      <th>1</th>\n",
       "      <td>2</td>\n",
       "      <td>SENDOUT_1</td>\n",
       "      <td>0</td>\n",
       "    </tr>\n",
       "    <tr>\n",
       "      <th>2</th>\n",
       "      <td>3</td>\n",
       "      <td>SENDOUT_1</td>\n",
       "      <td>0</td>\n",
       "    </tr>\n",
       "    <tr>\n",
       "      <th>3</th>\n",
       "      <td>4</td>\n",
       "      <td>SENDOUT_1</td>\n",
       "      <td>1</td>\n",
       "    </tr>\n",
       "    <tr>\n",
       "      <th>4</th>\n",
       "      <td>5</td>\n",
       "      <td>SENDOUT_1</td>\n",
       "      <td>0</td>\n",
       "    </tr>\n",
       "  </tbody>\n",
       "</table>\n",
       "</div>"
      ],
      "text/plain": [
       "   CUST_ID       TYPE  VALUE\n",
       "0        1  SENDOUT_1      1\n",
       "1        2  SENDOUT_1      0\n",
       "2        3  SENDOUT_1      0\n",
       "3        4  SENDOUT_1      1\n",
       "4        5  SENDOUT_1      0"
      ]
     },
     "execution_count": 6,
     "metadata": {},
     "output_type": "execute_result"
    }
   ],
   "source": [
    "sendout= pd.read_csv('sendout.csv')\n",
    "sendout.head()"
   ]
  },
  {
   "cell_type": "markdown",
   "metadata": {
    "tags": []
   },
   "source": [
    "### Check Data"
   ]
  },
  {
   "cell_type": "markdown",
   "metadata": {},
   "source": [
    "- moja propozycja jak to ładnie ułozyć\n",
    "- `.info()` - zwraca informację o datasecie, jaki rozdzja danych etc.\n",
    "- `.describe()` - zwraca statystyki z datasetu"
   ]
  },
  {
   "cell_type": "code",
   "execution_count": 7,
   "metadata": {},
   "outputs": [
    {
     "name": "stdout",
     "output_type": "stream",
     "text": [
      "<class 'pandas.core.frame.DataFrame'>\n",
      "RangeIndex: 50000 entries, 0 to 49999\n",
      "Data columns (total 2 columns):\n",
      " #   Column                 Non-Null Count  Dtype\n",
      "---  ------                 --------------  -----\n",
      " 0   CUST_ID                50000 non-null  int64\n",
      " 1   CONSENT_COMMUNICATION  50000 non-null  int64\n",
      "dtypes: int64(2)\n",
      "memory usage: 781.4 KB\n"
     ]
    }
   ],
   "source": [
    "consent.info()"
   ]
  },
  {
   "cell_type": "code",
   "execution_count": 8,
   "metadata": {},
   "outputs": [
    {
     "data": {
      "text/html": [
       "<div>\n",
       "<style scoped>\n",
       "    .dataframe tbody tr th:only-of-type {\n",
       "        vertical-align: middle;\n",
       "    }\n",
       "\n",
       "    .dataframe tbody tr th {\n",
       "        vertical-align: top;\n",
       "    }\n",
       "\n",
       "    .dataframe thead th {\n",
       "        text-align: right;\n",
       "    }\n",
       "</style>\n",
       "<table border=\"1\" class=\"dataframe\">\n",
       "  <thead>\n",
       "    <tr style=\"text-align: right;\">\n",
       "      <th></th>\n",
       "      <th>CUST_ID</th>\n",
       "      <th>CONSENT_COMMUNICATION</th>\n",
       "    </tr>\n",
       "  </thead>\n",
       "  <tbody>\n",
       "    <tr>\n",
       "      <th>count</th>\n",
       "      <td>50000.000000</td>\n",
       "      <td>50000.000000</td>\n",
       "    </tr>\n",
       "    <tr>\n",
       "      <th>mean</th>\n",
       "      <td>25000.500000</td>\n",
       "      <td>0.902860</td>\n",
       "    </tr>\n",
       "    <tr>\n",
       "      <th>std</th>\n",
       "      <td>14433.901067</td>\n",
       "      <td>0.296151</td>\n",
       "    </tr>\n",
       "    <tr>\n",
       "      <th>min</th>\n",
       "      <td>1.000000</td>\n",
       "      <td>0.000000</td>\n",
       "    </tr>\n",
       "    <tr>\n",
       "      <th>25%</th>\n",
       "      <td>12500.750000</td>\n",
       "      <td>1.000000</td>\n",
       "    </tr>\n",
       "    <tr>\n",
       "      <th>50%</th>\n",
       "      <td>25000.500000</td>\n",
       "      <td>1.000000</td>\n",
       "    </tr>\n",
       "    <tr>\n",
       "      <th>75%</th>\n",
       "      <td>37500.250000</td>\n",
       "      <td>1.000000</td>\n",
       "    </tr>\n",
       "    <tr>\n",
       "      <th>max</th>\n",
       "      <td>50000.000000</td>\n",
       "      <td>1.000000</td>\n",
       "    </tr>\n",
       "  </tbody>\n",
       "</table>\n",
       "</div>"
      ],
      "text/plain": [
       "            CUST_ID  CONSENT_COMMUNICATION\n",
       "count  50000.000000           50000.000000\n",
       "mean   25000.500000               0.902860\n",
       "std    14433.901067               0.296151\n",
       "min        1.000000               0.000000\n",
       "25%    12500.750000               1.000000\n",
       "50%    25000.500000               1.000000\n",
       "75%    37500.250000               1.000000\n",
       "max    50000.000000               1.000000"
      ]
     },
     "execution_count": 8,
     "metadata": {},
     "output_type": "execute_result"
    }
   ],
   "source": [
    "consent.describe()"
   ]
  },
  {
   "cell_type": "markdown",
   "metadata": {},
   "source": [
    "### etc...."
   ]
  },
  {
   "cell_type": "markdown",
   "metadata": {},
   "source": [
    "### Changing table type from \"long\" to \"wide\" "
   ]
  },
  {
   "cell_type": "code",
   "execution_count": 9,
   "metadata": {},
   "outputs": [
    {
     "data": {
      "text/html": [
       "<div>\n",
       "<style scoped>\n",
       "    .dataframe tbody tr th:only-of-type {\n",
       "        vertical-align: middle;\n",
       "    }\n",
       "\n",
       "    .dataframe tbody tr th {\n",
       "        vertical-align: top;\n",
       "    }\n",
       "\n",
       "    .dataframe thead th {\n",
       "        text-align: right;\n",
       "    }\n",
       "</style>\n",
       "<table border=\"1\" class=\"dataframe\">\n",
       "  <thead>\n",
       "    <tr style=\"text-align: right;\">\n",
       "      <th>TYPE</th>\n",
       "      <th>CUST_ID</th>\n",
       "      <th>SALES_AFTER_SENDOUT_1</th>\n",
       "      <th>SALES_AFTER_SENDOUT_2</th>\n",
       "      <th>SALES_AFTER_SENDOUT_3</th>\n",
       "      <th>SALES_BEFORE_SENDOUT_1</th>\n",
       "      <th>SALES_BEFORE_SENDOUT_2</th>\n",
       "      <th>SALES_BEFORE_SENDOUT_3</th>\n",
       "    </tr>\n",
       "  </thead>\n",
       "  <tbody>\n",
       "    <tr>\n",
       "      <th>0</th>\n",
       "      <td>1</td>\n",
       "      <td>46.256184</td>\n",
       "      <td>0.000000</td>\n",
       "      <td>0.000000</td>\n",
       "      <td>0.000000</td>\n",
       "      <td>0.000000</td>\n",
       "      <td>0.0</td>\n",
       "    </tr>\n",
       "    <tr>\n",
       "      <th>1</th>\n",
       "      <td>2</td>\n",
       "      <td>0.000000</td>\n",
       "      <td>59.874689</td>\n",
       "      <td>15.300242</td>\n",
       "      <td>0.000000</td>\n",
       "      <td>52.152643</td>\n",
       "      <td>0.0</td>\n",
       "    </tr>\n",
       "    <tr>\n",
       "      <th>2</th>\n",
       "      <td>3</td>\n",
       "      <td>0.000000</td>\n",
       "      <td>147.683701</td>\n",
       "      <td>0.000000</td>\n",
       "      <td>0.000000</td>\n",
       "      <td>0.000000</td>\n",
       "      <td>0.0</td>\n",
       "    </tr>\n",
       "    <tr>\n",
       "      <th>3</th>\n",
       "      <td>4</td>\n",
       "      <td>64.062829</td>\n",
       "      <td>0.000000</td>\n",
       "      <td>0.000000</td>\n",
       "      <td>161.812215</td>\n",
       "      <td>0.000000</td>\n",
       "      <td>0.0</td>\n",
       "    </tr>\n",
       "    <tr>\n",
       "      <th>4</th>\n",
       "      <td>5</td>\n",
       "      <td>0.000000</td>\n",
       "      <td>0.000000</td>\n",
       "      <td>0.000000</td>\n",
       "      <td>0.000000</td>\n",
       "      <td>176.227903</td>\n",
       "      <td>0.0</td>\n",
       "    </tr>\n",
       "  </tbody>\n",
       "</table>\n",
       "</div>"
      ],
      "text/plain": [
       "TYPE  CUST_ID  SALES_AFTER_SENDOUT_1  SALES_AFTER_SENDOUT_2  \\\n",
       "0           1              46.256184               0.000000   \n",
       "1           2               0.000000              59.874689   \n",
       "2           3               0.000000             147.683701   \n",
       "3           4              64.062829               0.000000   \n",
       "4           5               0.000000               0.000000   \n",
       "\n",
       "TYPE  SALES_AFTER_SENDOUT_3  SALES_BEFORE_SENDOUT_1  SALES_BEFORE_SENDOUT_2  \\\n",
       "0                  0.000000                0.000000                0.000000   \n",
       "1                 15.300242                0.000000               52.152643   \n",
       "2                  0.000000                0.000000                0.000000   \n",
       "3                  0.000000              161.812215                0.000000   \n",
       "4                  0.000000                0.000000              176.227903   \n",
       "\n",
       "TYPE  SALES_BEFORE_SENDOUT_3  \n",
       "0                        0.0  \n",
       "1                        0.0  \n",
       "2                        0.0  \n",
       "3                        0.0  \n",
       "4                        0.0  "
      ]
     },
     "execution_count": 9,
     "metadata": {},
     "output_type": "execute_result"
    }
   ],
   "source": [
    "sales_pivoted= sales.pivot(columns='TYPE', index='CUST_ID', values='VALUE').reset_index()\n",
    "sales_pivoted.head()"
   ]
  },
  {
   "cell_type": "markdown",
   "metadata": {},
   "source": [
    "- tego raczej nie robimy bo tracimy informację\n",
    "- jak chcesz wyświetlać tylko 2 liczby po praecinku to mozesz uzyc tej opcji (uruchom ja gdzieś na początku):\n",
    "```Python\n",
    "pd.options.display.float_format = \"{:,.2f}\".format\n",
    "```"
   ]
  },
  {
   "cell_type": "code",
   "execution_count": 10,
   "metadata": {},
   "outputs": [
    {
     "data": {
      "text/html": [
       "<div>\n",
       "<style scoped>\n",
       "    .dataframe tbody tr th:only-of-type {\n",
       "        vertical-align: middle;\n",
       "    }\n",
       "\n",
       "    .dataframe tbody tr th {\n",
       "        vertical-align: top;\n",
       "    }\n",
       "\n",
       "    .dataframe thead th {\n",
       "        text-align: right;\n",
       "    }\n",
       "</style>\n",
       "<table border=\"1\" class=\"dataframe\">\n",
       "  <thead>\n",
       "    <tr style=\"text-align: right;\">\n",
       "      <th>TYPE</th>\n",
       "      <th>CUST_ID</th>\n",
       "      <th>SALES_AFTER_SENDOUT_1</th>\n",
       "      <th>SALES_AFTER_SENDOUT_2</th>\n",
       "      <th>SALES_AFTER_SENDOUT_3</th>\n",
       "      <th>SALES_BEFORE_SENDOUT_1</th>\n",
       "      <th>SALES_BEFORE_SENDOUT_2</th>\n",
       "      <th>SALES_BEFORE_SENDOUT_3</th>\n",
       "    </tr>\n",
       "  </thead>\n",
       "  <tbody>\n",
       "    <tr>\n",
       "      <th>0</th>\n",
       "      <td>1</td>\n",
       "      <td>46.26</td>\n",
       "      <td>0.00</td>\n",
       "      <td>0.0</td>\n",
       "      <td>0.00</td>\n",
       "      <td>0.00</td>\n",
       "      <td>0.0</td>\n",
       "    </tr>\n",
       "    <tr>\n",
       "      <th>1</th>\n",
       "      <td>2</td>\n",
       "      <td>0.00</td>\n",
       "      <td>59.87</td>\n",
       "      <td>15.3</td>\n",
       "      <td>0.00</td>\n",
       "      <td>52.15</td>\n",
       "      <td>0.0</td>\n",
       "    </tr>\n",
       "    <tr>\n",
       "      <th>2</th>\n",
       "      <td>3</td>\n",
       "      <td>0.00</td>\n",
       "      <td>147.68</td>\n",
       "      <td>0.0</td>\n",
       "      <td>0.00</td>\n",
       "      <td>0.00</td>\n",
       "      <td>0.0</td>\n",
       "    </tr>\n",
       "    <tr>\n",
       "      <th>3</th>\n",
       "      <td>4</td>\n",
       "      <td>64.06</td>\n",
       "      <td>0.00</td>\n",
       "      <td>0.0</td>\n",
       "      <td>161.81</td>\n",
       "      <td>0.00</td>\n",
       "      <td>0.0</td>\n",
       "    </tr>\n",
       "    <tr>\n",
       "      <th>4</th>\n",
       "      <td>5</td>\n",
       "      <td>0.00</td>\n",
       "      <td>0.00</td>\n",
       "      <td>0.0</td>\n",
       "      <td>0.00</td>\n",
       "      <td>176.23</td>\n",
       "      <td>0.0</td>\n",
       "    </tr>\n",
       "  </tbody>\n",
       "</table>\n",
       "</div>"
      ],
      "text/plain": [
       "TYPE  CUST_ID  SALES_AFTER_SENDOUT_1  SALES_AFTER_SENDOUT_2  \\\n",
       "0           1                  46.26                   0.00   \n",
       "1           2                   0.00                  59.87   \n",
       "2           3                   0.00                 147.68   \n",
       "3           4                  64.06                   0.00   \n",
       "4           5                   0.00                   0.00   \n",
       "\n",
       "TYPE  SALES_AFTER_SENDOUT_3  SALES_BEFORE_SENDOUT_1  SALES_BEFORE_SENDOUT_2  \\\n",
       "0                       0.0                    0.00                    0.00   \n",
       "1                      15.3                    0.00                   52.15   \n",
       "2                       0.0                    0.00                    0.00   \n",
       "3                       0.0                  161.81                    0.00   \n",
       "4                       0.0                    0.00                  176.23   \n",
       "\n",
       "TYPE  SALES_BEFORE_SENDOUT_3  \n",
       "0                        0.0  \n",
       "1                        0.0  \n",
       "2                        0.0  \n",
       "3                        0.0  \n",
       "4                        0.0  "
      ]
     },
     "execution_count": 10,
     "metadata": {},
     "output_type": "execute_result"
    }
   ],
   "source": [
    "# changing amount of number after decimal\n",
    "sales_pivoted = sales_pivoted.round(2)\n",
    "sales_pivoted.head()"
   ]
  },
  {
   "cell_type": "code",
   "execution_count": 11,
   "metadata": {},
   "outputs": [
    {
     "data": {
      "text/html": [
       "<div>\n",
       "<style scoped>\n",
       "    .dataframe tbody tr th:only-of-type {\n",
       "        vertical-align: middle;\n",
       "    }\n",
       "\n",
       "    .dataframe tbody tr th {\n",
       "        vertical-align: top;\n",
       "    }\n",
       "\n",
       "    .dataframe thead th {\n",
       "        text-align: right;\n",
       "    }\n",
       "</style>\n",
       "<table border=\"1\" class=\"dataframe\">\n",
       "  <thead>\n",
       "    <tr style=\"text-align: right;\">\n",
       "      <th>TYPE</th>\n",
       "      <th>CUST_ID</th>\n",
       "      <th>SENDOUT_1</th>\n",
       "      <th>SENDOUT_2</th>\n",
       "      <th>SENDOUT_3</th>\n",
       "    </tr>\n",
       "  </thead>\n",
       "  <tbody>\n",
       "    <tr>\n",
       "      <th>0</th>\n",
       "      <td>1</td>\n",
       "      <td>1</td>\n",
       "      <td>0</td>\n",
       "      <td>1</td>\n",
       "    </tr>\n",
       "    <tr>\n",
       "      <th>1</th>\n",
       "      <td>2</td>\n",
       "      <td>0</td>\n",
       "      <td>0</td>\n",
       "      <td>0</td>\n",
       "    </tr>\n",
       "    <tr>\n",
       "      <th>2</th>\n",
       "      <td>3</td>\n",
       "      <td>0</td>\n",
       "      <td>0</td>\n",
       "      <td>0</td>\n",
       "    </tr>\n",
       "    <tr>\n",
       "      <th>3</th>\n",
       "      <td>4</td>\n",
       "      <td>1</td>\n",
       "      <td>0</td>\n",
       "      <td>1</td>\n",
       "    </tr>\n",
       "    <tr>\n",
       "      <th>4</th>\n",
       "      <td>5</td>\n",
       "      <td>0</td>\n",
       "      <td>0</td>\n",
       "      <td>0</td>\n",
       "    </tr>\n",
       "  </tbody>\n",
       "</table>\n",
       "</div>"
      ],
      "text/plain": [
       "TYPE  CUST_ID  SENDOUT_1  SENDOUT_2  SENDOUT_3\n",
       "0           1          1          0          1\n",
       "1           2          0          0          0\n",
       "2           3          0          0          0\n",
       "3           4          1          0          1\n",
       "4           5          0          0          0"
      ]
     },
     "execution_count": 11,
     "metadata": {},
     "output_type": "execute_result"
    }
   ],
   "source": [
    "sendout_pivoted = sendout.pivot(columns='TYPE', index='CUST_ID', values='VALUE').reset_index()\n",
    "sendout_pivoted.head()"
   ]
  },
  {
   "cell_type": "markdown",
   "metadata": {},
   "source": [
    "### Merge table into one DataFrame"
   ]
  },
  {
   "cell_type": "markdown",
   "metadata": {},
   "source": [
    "- inną opcją jest użycie funkcji `join`: https://pandas.pydata.org/docs/reference/api/pandas.DataFrame.join.html\n",
    "- działa to podobnie to joina w SQL\n",
    "- W tym przypadku jest ok.\n",
    "- przy prezentacji musisz pamiętać, że powinnaś sie upewnić, że w obu tabelach są Ci sami klienci albo etc."
   ]
  },
  {
   "cell_type": "code",
   "execution_count": 12,
   "metadata": {},
   "outputs": [
    {
     "data": {
      "text/html": [
       "<div>\n",
       "<style scoped>\n",
       "    .dataframe tbody tr th:only-of-type {\n",
       "        vertical-align: middle;\n",
       "    }\n",
       "\n",
       "    .dataframe tbody tr th {\n",
       "        vertical-align: top;\n",
       "    }\n",
       "\n",
       "    .dataframe thead th {\n",
       "        text-align: right;\n",
       "    }\n",
       "</style>\n",
       "<table border=\"1\" class=\"dataframe\">\n",
       "  <thead>\n",
       "    <tr style=\"text-align: right;\">\n",
       "      <th></th>\n",
       "      <th>CUST_ID</th>\n",
       "      <th>CONSENT_COMMUNICATION</th>\n",
       "      <th>SALES_AFTER_SENDOUT_1</th>\n",
       "      <th>SALES_AFTER_SENDOUT_2</th>\n",
       "      <th>SALES_AFTER_SENDOUT_3</th>\n",
       "      <th>SALES_BEFORE_SENDOUT_1</th>\n",
       "      <th>SALES_BEFORE_SENDOUT_2</th>\n",
       "      <th>SALES_BEFORE_SENDOUT_3</th>\n",
       "      <th>SENDOUT_1</th>\n",
       "      <th>SENDOUT_2</th>\n",
       "      <th>SENDOUT_3</th>\n",
       "    </tr>\n",
       "  </thead>\n",
       "  <tbody>\n",
       "    <tr>\n",
       "      <th>0</th>\n",
       "      <td>1</td>\n",
       "      <td>1</td>\n",
       "      <td>46.26</td>\n",
       "      <td>0.00</td>\n",
       "      <td>0.0</td>\n",
       "      <td>0.00</td>\n",
       "      <td>0.00</td>\n",
       "      <td>0.0</td>\n",
       "      <td>1</td>\n",
       "      <td>0</td>\n",
       "      <td>1</td>\n",
       "    </tr>\n",
       "    <tr>\n",
       "      <th>1</th>\n",
       "      <td>2</td>\n",
       "      <td>0</td>\n",
       "      <td>0.00</td>\n",
       "      <td>59.87</td>\n",
       "      <td>15.3</td>\n",
       "      <td>0.00</td>\n",
       "      <td>52.15</td>\n",
       "      <td>0.0</td>\n",
       "      <td>0</td>\n",
       "      <td>0</td>\n",
       "      <td>0</td>\n",
       "    </tr>\n",
       "    <tr>\n",
       "      <th>2</th>\n",
       "      <td>3</td>\n",
       "      <td>0</td>\n",
       "      <td>0.00</td>\n",
       "      <td>147.68</td>\n",
       "      <td>0.0</td>\n",
       "      <td>0.00</td>\n",
       "      <td>0.00</td>\n",
       "      <td>0.0</td>\n",
       "      <td>0</td>\n",
       "      <td>0</td>\n",
       "      <td>0</td>\n",
       "    </tr>\n",
       "    <tr>\n",
       "      <th>3</th>\n",
       "      <td>4</td>\n",
       "      <td>1</td>\n",
       "      <td>64.06</td>\n",
       "      <td>0.00</td>\n",
       "      <td>0.0</td>\n",
       "      <td>161.81</td>\n",
       "      <td>0.00</td>\n",
       "      <td>0.0</td>\n",
       "      <td>1</td>\n",
       "      <td>0</td>\n",
       "      <td>1</td>\n",
       "    </tr>\n",
       "    <tr>\n",
       "      <th>4</th>\n",
       "      <td>5</td>\n",
       "      <td>0</td>\n",
       "      <td>0.00</td>\n",
       "      <td>0.00</td>\n",
       "      <td>0.0</td>\n",
       "      <td>0.00</td>\n",
       "      <td>176.23</td>\n",
       "      <td>0.0</td>\n",
       "      <td>0</td>\n",
       "      <td>0</td>\n",
       "      <td>0</td>\n",
       "    </tr>\n",
       "  </tbody>\n",
       "</table>\n",
       "</div>"
      ],
      "text/plain": [
       "   CUST_ID  CONSENT_COMMUNICATION  SALES_AFTER_SENDOUT_1  \\\n",
       "0        1                      1                  46.26   \n",
       "1        2                      0                   0.00   \n",
       "2        3                      0                   0.00   \n",
       "3        4                      1                  64.06   \n",
       "4        5                      0                   0.00   \n",
       "\n",
       "   SALES_AFTER_SENDOUT_2  SALES_AFTER_SENDOUT_3  SALES_BEFORE_SENDOUT_1  \\\n",
       "0                   0.00                    0.0                    0.00   \n",
       "1                  59.87                   15.3                    0.00   \n",
       "2                 147.68                    0.0                    0.00   \n",
       "3                   0.00                    0.0                  161.81   \n",
       "4                   0.00                    0.0                    0.00   \n",
       "\n",
       "   SALES_BEFORE_SENDOUT_2  SALES_BEFORE_SENDOUT_3  SENDOUT_1  SENDOUT_2  \\\n",
       "0                    0.00                     0.0          1          0   \n",
       "1                   52.15                     0.0          0          0   \n",
       "2                    0.00                     0.0          0          0   \n",
       "3                    0.00                     0.0          1          0   \n",
       "4                  176.23                     0.0          0          0   \n",
       "\n",
       "   SENDOUT_3  \n",
       "0          1  \n",
       "1          0  \n",
       "2          0  \n",
       "3          1  \n",
       "4          0  "
      ]
     },
     "execution_count": 12,
     "metadata": {},
     "output_type": "execute_result"
    }
   ],
   "source": [
    "data = consent.merge(sales_pivoted).merge(sendout_pivoted)\n",
    "data.head()"
   ]
  },
  {
   "cell_type": "code",
   "execution_count": 13,
   "metadata": {},
   "outputs": [
    {
     "data": {
      "text/plain": [
       "['CUST_ID',\n",
       " 'CONSENT_COMMUNICATION',\n",
       " 'SALES_AFTER_SENDOUT_1',\n",
       " 'SALES_AFTER_SENDOUT_2',\n",
       " 'SALES_AFTER_SENDOUT_3',\n",
       " 'SALES_BEFORE_SENDOUT_1',\n",
       " 'SALES_BEFORE_SENDOUT_2',\n",
       " 'SALES_BEFORE_SENDOUT_3',\n",
       " 'SENDOUT_1',\n",
       " 'SENDOUT_2',\n",
       " 'SENDOUT_3']"
      ]
     },
     "execution_count": 13,
     "metadata": {},
     "output_type": "execute_result"
    }
   ],
   "source": [
    "data.columns.tolist()"
   ]
  },
  {
   "cell_type": "code",
   "execution_count": 14,
   "metadata": {},
   "outputs": [
    {
     "name": "stdout",
     "output_type": "stream",
     "text": [
      "<class 'pandas.core.frame.DataFrame'>\n",
      "Int64Index: 50000 entries, 0 to 49999\n",
      "Data columns (total 11 columns):\n",
      " #   Column                  Non-Null Count  Dtype  \n",
      "---  ------                  --------------  -----  \n",
      " 0   CUST_ID                 50000 non-null  int64  \n",
      " 1   CONSENT_COMMUNICATION   50000 non-null  int64  \n",
      " 2   SALES_AFTER_SENDOUT_1   50000 non-null  float64\n",
      " 3   SALES_AFTER_SENDOUT_2   50000 non-null  float64\n",
      " 4   SALES_AFTER_SENDOUT_3   50000 non-null  float64\n",
      " 5   SALES_BEFORE_SENDOUT_1  50000 non-null  float64\n",
      " 6   SALES_BEFORE_SENDOUT_2  50000 non-null  float64\n",
      " 7   SALES_BEFORE_SENDOUT_3  50000 non-null  float64\n",
      " 8   SENDOUT_1               50000 non-null  int64  \n",
      " 9   SENDOUT_2               50000 non-null  int64  \n",
      " 10  SENDOUT_3               50000 non-null  int64  \n",
      "dtypes: float64(6), int64(5)\n",
      "memory usage: 4.6 MB\n"
     ]
    }
   ],
   "source": [
    "data.info()"
   ]
  },
  {
   "cell_type": "code",
   "execution_count": 15,
   "metadata": {},
   "outputs": [
    {
     "data": {
      "text/plain": [
       "(50000, 11)"
      ]
     },
     "execution_count": 15,
     "metadata": {},
     "output_type": "execute_result"
    }
   ],
   "source": [
    "data.shape"
   ]
  },
  {
   "cell_type": "code",
   "execution_count": 16,
   "metadata": {
    "tags": []
   },
   "outputs": [
    {
     "data": {
      "text/plain": [
       "False"
      ]
     },
     "execution_count": 16,
     "metadata": {},
     "output_type": "execute_result"
    }
   ],
   "source": [
    "# Czy mamy puste wartości? \n",
    "data.isnull().values.any()"
   ]
  },
  {
   "cell_type": "markdown",
   "metadata": {},
   "source": [
    "- Dodaj komentarz po co to robisz, to co ponizej"
   ]
  },
  {
   "cell_type": "code",
   "execution_count": 17,
   "metadata": {},
   "outputs": [
    {
     "data": {
      "text/plain": [
       "array([1, 0])"
      ]
     },
     "execution_count": 17,
     "metadata": {},
     "output_type": "execute_result"
    }
   ],
   "source": [
    "data.CONSENT_COMMUNICATION.unique() "
   ]
  },
  {
   "cell_type": "code",
   "execution_count": 18,
   "metadata": {},
   "outputs": [
    {
     "data": {
      "text/plain": [
       "1    45143\n",
       "0     4857\n",
       "Name: CONSENT_COMMUNICATION, dtype: int64"
      ]
     },
     "execution_count": 18,
     "metadata": {},
     "output_type": "execute_result"
    }
   ],
   "source": [
    "data['CONSENT_COMMUNICATION'].value_counts() "
   ]
  },
  {
   "cell_type": "code",
   "execution_count": 19,
   "metadata": {},
   "outputs": [
    {
     "data": {
      "text/plain": [
       " 1    25298\n",
       " 0    24701\n",
       "-1        1\n",
       "Name: SENDOUT_1, dtype: int64"
      ]
     },
     "execution_count": 19,
     "metadata": {},
     "output_type": "execute_result"
    }
   ],
   "source": [
    "data['SENDOUT_1'].value_counts() # we have unexpected value in column"
   ]
  },
  {
   "cell_type": "code",
   "execution_count": 20,
   "metadata": {},
   "outputs": [
    {
     "data": {
      "text/plain": [
       "0    48975\n",
       "1     1024\n",
       "2        1\n",
       "Name: SENDOUT_2, dtype: int64"
      ]
     },
     "execution_count": 20,
     "metadata": {},
     "output_type": "execute_result"
    }
   ],
   "source": [
    "data['SENDOUT_2'].value_counts() # we have unexpected value in column"
   ]
  },
  {
   "cell_type": "code",
   "execution_count": 21,
   "metadata": {},
   "outputs": [
    {
     "data": {
      "text/plain": [
       "1    39985\n",
       "0    10014\n",
       "2        1\n",
       "Name: SENDOUT_3, dtype: int64"
      ]
     },
     "execution_count": 21,
     "metadata": {},
     "output_type": "execute_result"
    }
   ],
   "source": [
    "data['SENDOUT_3'].value_counts() # we have unexpected value in column"
   ]
  },
  {
   "cell_type": "markdown",
   "metadata": {},
   "source": [
    "<hr>\n",
    "Nie jestem pewien czy to jest dobry pomysł... \\\n",
    "\n",
    "- Jeśli masz potwierdzenie od smyka że tak jest to ok, ale dodaj komentarz że skontaktowałsą się z komś i dostałaś potwierdzenie. \n",
    "- Jeśli nie to rozsądniej jest usunąć te wartości (szczególnie na -1 wygląda \"dziko\") i dodać komentarz w stylu: \\\n",
    "`usuwam te wartości ponieważ nie zosatły zdefiniowane/wyjaśnione. W praktyce wysłałabym zapytanie do biznesu/ownera projektu/administratorem danych czym są te wartości i co one oznaczają`.\n",
    "- Jeśli chcesz je zostawić to też można ale warto wyjaśnić dlaczego: \\\n",
    "`zakładam że jest to błąd i powinno być 1 ale warto skontaktowac się z biznesem/ownerem projektu/administratorem danych i wyjaśnić sprawę`."
   ]
  },
  {
   "cell_type": "code",
   "execution_count": 22,
   "metadata": {},
   "outputs": [],
   "source": [
    "# changing unexpected value in columns to value 1 \n",
    "data.replace([-1,2], 1, inplace=True)"
   ]
  },
  {
   "cell_type": "markdown",
   "metadata": {},
   "source": [
    "# Feature engineering"
   ]
  },
  {
   "cell_type": "markdown",
   "metadata": {},
   "source": [
    "Nazwijmy tą serkcje:\n",
    "\"Feature engineering\"\n",
    "\n",
    "I dodaj co liczysz i dlaczego"
   ]
  },
  {
   "cell_type": "markdown",
   "metadata": {},
   "source": [
    "### Add new columns about profit per. clients after sendout"
   ]
  },
  {
   "cell_type": "code",
   "execution_count": 23,
   "metadata": {},
   "outputs": [],
   "source": [
    "data['PROFIT_1'] = data.SALES_AFTER_SENDOUT_1 - data.SALES_BEFORE_SENDOUT_1\n",
    "data['PROFIT_2'] = data.SALES_AFTER_SENDOUT_2 - data.SALES_BEFORE_SENDOUT_2\n",
    "data['PROFIT_3'] = data.SALES_AFTER_SENDOUT_3 - data.SALES_BEFORE_SENDOUT_3"
   ]
  },
  {
   "cell_type": "code",
   "execution_count": 24,
   "metadata": {},
   "outputs": [
    {
     "data": {
      "text/plain": [
       "(50000, 14)"
      ]
     },
     "execution_count": 24,
     "metadata": {},
     "output_type": "execute_result"
    }
   ],
   "source": [
    "data.shape"
   ]
  },
  {
   "cell_type": "code",
   "execution_count": 25,
   "metadata": {},
   "outputs": [
    {
     "data": {
      "text/html": [
       "<div>\n",
       "<style scoped>\n",
       "    .dataframe tbody tr th:only-of-type {\n",
       "        vertical-align: middle;\n",
       "    }\n",
       "\n",
       "    .dataframe tbody tr th {\n",
       "        vertical-align: top;\n",
       "    }\n",
       "\n",
       "    .dataframe thead th {\n",
       "        text-align: right;\n",
       "    }\n",
       "</style>\n",
       "<table border=\"1\" class=\"dataframe\">\n",
       "  <thead>\n",
       "    <tr style=\"text-align: right;\">\n",
       "      <th></th>\n",
       "      <th>CUST_ID</th>\n",
       "      <th>CONSENT_COMMUNICATION</th>\n",
       "      <th>SALES_AFTER_SENDOUT_1</th>\n",
       "      <th>SALES_AFTER_SENDOUT_2</th>\n",
       "      <th>SALES_AFTER_SENDOUT_3</th>\n",
       "      <th>SALES_BEFORE_SENDOUT_1</th>\n",
       "      <th>SALES_BEFORE_SENDOUT_2</th>\n",
       "      <th>SALES_BEFORE_SENDOUT_3</th>\n",
       "      <th>SENDOUT_1</th>\n",
       "      <th>SENDOUT_2</th>\n",
       "      <th>SENDOUT_3</th>\n",
       "      <th>PROFIT_1</th>\n",
       "      <th>PROFIT_2</th>\n",
       "      <th>PROFIT_3</th>\n",
       "    </tr>\n",
       "  </thead>\n",
       "  <tbody>\n",
       "    <tr>\n",
       "      <th>0</th>\n",
       "      <td>1</td>\n",
       "      <td>1</td>\n",
       "      <td>46.26</td>\n",
       "      <td>0.00</td>\n",
       "      <td>0.0</td>\n",
       "      <td>0.00</td>\n",
       "      <td>0.00</td>\n",
       "      <td>0.0</td>\n",
       "      <td>1</td>\n",
       "      <td>0</td>\n",
       "      <td>1</td>\n",
       "      <td>46.26</td>\n",
       "      <td>0.00</td>\n",
       "      <td>0.0</td>\n",
       "    </tr>\n",
       "    <tr>\n",
       "      <th>1</th>\n",
       "      <td>1</td>\n",
       "      <td>0</td>\n",
       "      <td>0.00</td>\n",
       "      <td>59.87</td>\n",
       "      <td>15.3</td>\n",
       "      <td>0.00</td>\n",
       "      <td>52.15</td>\n",
       "      <td>0.0</td>\n",
       "      <td>0</td>\n",
       "      <td>0</td>\n",
       "      <td>0</td>\n",
       "      <td>0.00</td>\n",
       "      <td>7.72</td>\n",
       "      <td>15.3</td>\n",
       "    </tr>\n",
       "    <tr>\n",
       "      <th>2</th>\n",
       "      <td>3</td>\n",
       "      <td>0</td>\n",
       "      <td>0.00</td>\n",
       "      <td>147.68</td>\n",
       "      <td>0.0</td>\n",
       "      <td>0.00</td>\n",
       "      <td>0.00</td>\n",
       "      <td>0.0</td>\n",
       "      <td>0</td>\n",
       "      <td>0</td>\n",
       "      <td>0</td>\n",
       "      <td>0.00</td>\n",
       "      <td>147.68</td>\n",
       "      <td>0.0</td>\n",
       "    </tr>\n",
       "    <tr>\n",
       "      <th>3</th>\n",
       "      <td>4</td>\n",
       "      <td>1</td>\n",
       "      <td>64.06</td>\n",
       "      <td>0.00</td>\n",
       "      <td>0.0</td>\n",
       "      <td>161.81</td>\n",
       "      <td>0.00</td>\n",
       "      <td>0.0</td>\n",
       "      <td>1</td>\n",
       "      <td>0</td>\n",
       "      <td>1</td>\n",
       "      <td>-97.75</td>\n",
       "      <td>0.00</td>\n",
       "      <td>0.0</td>\n",
       "    </tr>\n",
       "    <tr>\n",
       "      <th>4</th>\n",
       "      <td>5</td>\n",
       "      <td>0</td>\n",
       "      <td>0.00</td>\n",
       "      <td>0.00</td>\n",
       "      <td>0.0</td>\n",
       "      <td>0.00</td>\n",
       "      <td>176.23</td>\n",
       "      <td>0.0</td>\n",
       "      <td>0</td>\n",
       "      <td>0</td>\n",
       "      <td>0</td>\n",
       "      <td>0.00</td>\n",
       "      <td>-176.23</td>\n",
       "      <td>0.0</td>\n",
       "    </tr>\n",
       "    <tr>\n",
       "      <th>5</th>\n",
       "      <td>6</td>\n",
       "      <td>1</td>\n",
       "      <td>28.13</td>\n",
       "      <td>278.35</td>\n",
       "      <td>0.0</td>\n",
       "      <td>0.00</td>\n",
       "      <td>0.00</td>\n",
       "      <td>0.0</td>\n",
       "      <td>1</td>\n",
       "      <td>0</td>\n",
       "      <td>0</td>\n",
       "      <td>28.13</td>\n",
       "      <td>278.35</td>\n",
       "      <td>0.0</td>\n",
       "    </tr>\n",
       "    <tr>\n",
       "      <th>6</th>\n",
       "      <td>7</td>\n",
       "      <td>1</td>\n",
       "      <td>207.63</td>\n",
       "      <td>0.00</td>\n",
       "      <td>0.0</td>\n",
       "      <td>0.00</td>\n",
       "      <td>0.00</td>\n",
       "      <td>0.0</td>\n",
       "      <td>1</td>\n",
       "      <td>0</td>\n",
       "      <td>1</td>\n",
       "      <td>207.63</td>\n",
       "      <td>0.00</td>\n",
       "      <td>0.0</td>\n",
       "    </tr>\n",
       "    <tr>\n",
       "      <th>7</th>\n",
       "      <td>8</td>\n",
       "      <td>1</td>\n",
       "      <td>37.37</td>\n",
       "      <td>36.02</td>\n",
       "      <td>0.0</td>\n",
       "      <td>0.00</td>\n",
       "      <td>0.00</td>\n",
       "      <td>0.0</td>\n",
       "      <td>1</td>\n",
       "      <td>0</td>\n",
       "      <td>1</td>\n",
       "      <td>37.37</td>\n",
       "      <td>36.02</td>\n",
       "      <td>0.0</td>\n",
       "    </tr>\n",
       "    <tr>\n",
       "      <th>8</th>\n",
       "      <td>9</td>\n",
       "      <td>1</td>\n",
       "      <td>0.00</td>\n",
       "      <td>166.34</td>\n",
       "      <td>0.0</td>\n",
       "      <td>0.00</td>\n",
       "      <td>0.00</td>\n",
       "      <td>0.0</td>\n",
       "      <td>0</td>\n",
       "      <td>0</td>\n",
       "      <td>1</td>\n",
       "      <td>0.00</td>\n",
       "      <td>166.34</td>\n",
       "      <td>0.0</td>\n",
       "    </tr>\n",
       "    <tr>\n",
       "      <th>9</th>\n",
       "      <td>10</td>\n",
       "      <td>1</td>\n",
       "      <td>11.14</td>\n",
       "      <td>0.00</td>\n",
       "      <td>0.0</td>\n",
       "      <td>68.07</td>\n",
       "      <td>0.00</td>\n",
       "      <td>0.0</td>\n",
       "      <td>0</td>\n",
       "      <td>1</td>\n",
       "      <td>0</td>\n",
       "      <td>-56.93</td>\n",
       "      <td>0.00</td>\n",
       "      <td>0.0</td>\n",
       "    </tr>\n",
       "  </tbody>\n",
       "</table>\n",
       "</div>"
      ],
      "text/plain": [
       "   CUST_ID  CONSENT_COMMUNICATION  SALES_AFTER_SENDOUT_1  \\\n",
       "0        1                      1                  46.26   \n",
       "1        1                      0                   0.00   \n",
       "2        3                      0                   0.00   \n",
       "3        4                      1                  64.06   \n",
       "4        5                      0                   0.00   \n",
       "5        6                      1                  28.13   \n",
       "6        7                      1                 207.63   \n",
       "7        8                      1                  37.37   \n",
       "8        9                      1                   0.00   \n",
       "9       10                      1                  11.14   \n",
       "\n",
       "   SALES_AFTER_SENDOUT_2  SALES_AFTER_SENDOUT_3  SALES_BEFORE_SENDOUT_1  \\\n",
       "0                   0.00                    0.0                    0.00   \n",
       "1                  59.87                   15.3                    0.00   \n",
       "2                 147.68                    0.0                    0.00   \n",
       "3                   0.00                    0.0                  161.81   \n",
       "4                   0.00                    0.0                    0.00   \n",
       "5                 278.35                    0.0                    0.00   \n",
       "6                   0.00                    0.0                    0.00   \n",
       "7                  36.02                    0.0                    0.00   \n",
       "8                 166.34                    0.0                    0.00   \n",
       "9                   0.00                    0.0                   68.07   \n",
       "\n",
       "   SALES_BEFORE_SENDOUT_2  SALES_BEFORE_SENDOUT_3  SENDOUT_1  SENDOUT_2  \\\n",
       "0                    0.00                     0.0          1          0   \n",
       "1                   52.15                     0.0          0          0   \n",
       "2                    0.00                     0.0          0          0   \n",
       "3                    0.00                     0.0          1          0   \n",
       "4                  176.23                     0.0          0          0   \n",
       "5                    0.00                     0.0          1          0   \n",
       "6                    0.00                     0.0          1          0   \n",
       "7                    0.00                     0.0          1          0   \n",
       "8                    0.00                     0.0          0          0   \n",
       "9                    0.00                     0.0          0          1   \n",
       "\n",
       "   SENDOUT_3  PROFIT_1  PROFIT_2  PROFIT_3  \n",
       "0          1     46.26      0.00       0.0  \n",
       "1          0      0.00      7.72      15.3  \n",
       "2          0      0.00    147.68       0.0  \n",
       "3          1    -97.75      0.00       0.0  \n",
       "4          0      0.00   -176.23       0.0  \n",
       "5          0     28.13    278.35       0.0  \n",
       "6          1    207.63      0.00       0.0  \n",
       "7          1     37.37     36.02       0.0  \n",
       "8          1      0.00    166.34       0.0  \n",
       "9          0    -56.93      0.00       0.0  "
      ]
     },
     "execution_count": 25,
     "metadata": {},
     "output_type": "execute_result"
    }
   ],
   "source": [
    "data.head(10)"
   ]
  },
  {
   "cell_type": "markdown",
   "metadata": {},
   "source": [
    "# EDA"
   ]
  },
  {
   "cell_type": "code",
   "execution_count": 26,
   "metadata": {},
   "outputs": [],
   "source": [
    "import matplotlib.pyplot as plt\n",
    "import seaborn as sns"
   ]
  },
  {
   "cell_type": "code",
   "execution_count": 27,
   "metadata": {},
   "outputs": [
    {
     "name": "stderr",
     "output_type": "stream",
     "text": [
      "/Users/kpabijan/Documents/03_Python/03_github/machine-learning/ml_venv/lib/python3.8/site-packages/seaborn/_decorators.py:36: FutureWarning: Pass the following variable as a keyword arg: x. From version 0.12, the only valid positional argument will be `data`, and passing other arguments without an explicit keyword will result in an error or misinterpretation.\n",
      "  warnings.warn(\n",
      "/Users/kpabijan/Documents/03_Python/03_github/machine-learning/ml_venv/lib/python3.8/site-packages/seaborn/_decorators.py:36: FutureWarning: Pass the following variable as a keyword arg: x. From version 0.12, the only valid positional argument will be `data`, and passing other arguments without an explicit keyword will result in an error or misinterpretation.\n",
      "  warnings.warn(\n",
      "/Users/kpabijan/Documents/03_Python/03_github/machine-learning/ml_venv/lib/python3.8/site-packages/seaborn/_decorators.py:36: FutureWarning: Pass the following variable as a keyword arg: x. From version 0.12, the only valid positional argument will be `data`, and passing other arguments without an explicit keyword will result in an error or misinterpretation.\n",
      "  warnings.warn(\n"
     ]
    },
    {
     "data": {
      "image/png": "[encoded data removed]",
      "text/plain": [
       "<Figure size 1440x504 with 3 Axes>"
      ]
     },
     "metadata": {
      "needs_background": "light"
     },
     "output_type": "display_data"
    }
   ],
   "source": [
    "plt.figure(figsize=(20,7)) \n",
    "plt.subplot(1,3,1)\n",
    "sns.countplot(data['SENDOUT_1'])\n",
    "plt.ylim(0,50000, 5000)\n",
    "plt.subplot(1,3,2)\n",
    "sns.countplot(data['SENDOUT_2'])\n",
    "plt.ylim(0,50000, 5000)\n",
    "plt.subplot(1,3,3)\n",
    "sns.countplot(data['SENDOUT_3'])\n",
    "plt.ylim(0,50000, 5000)\n",
    "\n",
    "plt.show()"
   ]
  },
  {
   "cell_type": "markdown",
   "metadata": {},
   "source": [
    "We can see, company sent almost 40000 brochures in third sendout. During second sendout , company sent only approx. 1000 brochures. During first sendout company sent approx. 25000 brochures. I try check how profit after communication looks like. "
   ]
  },
  {
   "cell_type": "code",
   "execution_count": 28,
   "metadata": {},
   "outputs": [
    {
     "data": {
      "text/plain": [
       "702732.4800027467"
      ]
     },
     "execution_count": 28,
     "metadata": {},
     "output_type": "execute_result"
    }
   ],
   "source": [
    "# Total PROFIT after 1, 2 and 3 sendout\n",
    "data[\"PROFIT_1\"].sum()"
   ]
  },
  {
   "cell_type": "markdown",
   "metadata": {},
   "source": [
    "- Może warto to zapisać w stypu:\n",
    "```Python\n",
    "print(f'Total gain profit after 1st sendout: {data[\"PROFIT_1\"].sum()}')\n",
    "print(f'Total gain profit after 2nd sendout: {data[\"PROFIT_2\"].sum()}')\n",
    "# etc...\n",
    "```"
   ]
  },
  {
   "cell_type": "raw",
   "metadata": {},
   "source": [
    "Trzeba tylko o apostrofach/cudzysłowiach pamiętać... "
   ]
  },
  {
   "cell_type": "code",
   "execution_count": 29,
   "metadata": {},
   "outputs": [
    {
     "name": "stdout",
     "output_type": "stream",
     "text": [
      "Total gain profit after 1st sendout: 702732.4800027467\n"
     ]
    }
   ],
   "source": [
    "print(f'Total gain profit after 1st sendout: {data[\"PROFIT_1\"].sum()}')"
   ]
  },
  {
   "cell_type": "code",
   "execution_count": 30,
   "metadata": {},
   "outputs": [
    {
     "data": {
      "text/plain": [
       "-9999114625.480001"
      ]
     },
     "execution_count": 30,
     "metadata": {},
     "output_type": "execute_result"
    }
   ],
   "source": [
    "data['PROFIT_2'].sum()"
   ]
  },
  {
   "cell_type": "code",
   "execution_count": 31,
   "metadata": {},
   "outputs": [
    {
     "data": {
      "text/plain": [
       "305794.2"
      ]
     },
     "execution_count": 31,
     "metadata": {},
     "output_type": "execute_result"
    }
   ],
   "source": [
    "data['PROFIT_3'].sum()"
   ]
  },
  {
   "cell_type": "markdown",
   "metadata": {},
   "source": [
    "<hr>\n",
    "\n",
    "- Tutaj warto byłoby przedstawić jak znalazłaś tych ludzi. Tzn. czy z wykresu, rozkładu etc. \n",
    "- powinno to wyjść w `.describe()` - więc możesz poweidzeić że tam było a później wyszukać ich "
   ]
  },
  {
   "cell_type": "code",
   "execution_count": 39,
   "metadata": {},
   "outputs": [
    {
     "data": {
      "text/html": [
       "<div>\n",
       "<style scoped>\n",
       "    .dataframe tbody tr th:only-of-type {\n",
       "        vertical-align: middle;\n",
       "    }\n",
       "\n",
       "    .dataframe tbody tr th {\n",
       "        vertical-align: top;\n",
       "    }\n",
       "\n",
       "    .dataframe thead th {\n",
       "        text-align: right;\n",
       "    }\n",
       "</style>\n",
       "<table border=\"1\" class=\"dataframe\">\n",
       "  <thead>\n",
       "    <tr style=\"text-align: right;\">\n",
       "      <th></th>\n",
       "      <th>CUST_ID</th>\n",
       "      <th>CONSENT_COMMUNICATION</th>\n",
       "      <th>SALES_AFTER_SENDOUT_1</th>\n",
       "      <th>SALES_AFTER_SENDOUT_2</th>\n",
       "      <th>SALES_AFTER_SENDOUT_3</th>\n",
       "      <th>SALES_BEFORE_SENDOUT_1</th>\n",
       "      <th>SALES_BEFORE_SENDOUT_2</th>\n",
       "      <th>SALES_BEFORE_SENDOUT_3</th>\n",
       "      <th>SENDOUT_1</th>\n",
       "      <th>SENDOUT_2</th>\n",
       "      <th>SENDOUT_3</th>\n",
       "      <th>PROFIT_1</th>\n",
       "      <th>PROFIT_2</th>\n",
       "      <th>PROFIT_3</th>\n",
       "    </tr>\n",
       "  </thead>\n",
       "  <tbody>\n",
       "    <tr>\n",
       "      <th>21239</th>\n",
       "      <td>21240</td>\n",
       "      <td>1</td>\n",
       "      <td>0.0</td>\n",
       "      <td>-1.000000e+10</td>\n",
       "      <td>19.89</td>\n",
       "      <td>0.0</td>\n",
       "      <td>0.0</td>\n",
       "      <td>0.0</td>\n",
       "      <td>1</td>\n",
       "      <td>0</td>\n",
       "      <td>0</td>\n",
       "      <td>0.0</td>\n",
       "      <td>-1.000000e+10</td>\n",
       "      <td>19.89</td>\n",
       "    </tr>\n",
       "  </tbody>\n",
       "</table>\n",
       "</div>"
      ],
      "text/plain": [
       "       CUST_ID  CONSENT_COMMUNICATION  SALES_AFTER_SENDOUT_1  \\\n",
       "21239    21240                      1                    0.0   \n",
       "\n",
       "       SALES_AFTER_SENDOUT_2  SALES_AFTER_SENDOUT_3  SALES_BEFORE_SENDOUT_1  \\\n",
       "21239          -1.000000e+10                  19.89                     0.0   \n",
       "\n",
       "       SALES_BEFORE_SENDOUT_2  SALES_BEFORE_SENDOUT_3  SENDOUT_1  SENDOUT_2  \\\n",
       "21239                     0.0                     0.0          1          0   \n",
       "\n",
       "       SENDOUT_3  PROFIT_1      PROFIT_2  PROFIT_3  \n",
       "21239          0       0.0 -1.000000e+10     19.89  "
      ]
     },
     "execution_count": 39,
     "metadata": {},
     "output_type": "execute_result"
    }
   ],
   "source": [
    "data[data.CUST_ID== 21240]"
   ]
  },
  {
   "cell_type": "code",
   "execution_count": 40,
   "metadata": {},
   "outputs": [
    {
     "data": {
      "text/html": [
       "<div>\n",
       "<style scoped>\n",
       "    .dataframe tbody tr th:only-of-type {\n",
       "        vertical-align: middle;\n",
       "    }\n",
       "\n",
       "    .dataframe tbody tr th {\n",
       "        vertical-align: top;\n",
       "    }\n",
       "\n",
       "    .dataframe thead th {\n",
       "        text-align: right;\n",
       "    }\n",
       "</style>\n",
       "<table border=\"1\" class=\"dataframe\">\n",
       "  <thead>\n",
       "    <tr style=\"text-align: right;\">\n",
       "      <th></th>\n",
       "      <th>CUST_ID</th>\n",
       "      <th>CONSENT_COMMUNICATION</th>\n",
       "      <th>SALES_AFTER_SENDOUT_1</th>\n",
       "      <th>SALES_AFTER_SENDOUT_2</th>\n",
       "      <th>SALES_AFTER_SENDOUT_3</th>\n",
       "      <th>SALES_BEFORE_SENDOUT_1</th>\n",
       "      <th>SALES_BEFORE_SENDOUT_2</th>\n",
       "      <th>SALES_BEFORE_SENDOUT_3</th>\n",
       "      <th>SENDOUT_1</th>\n",
       "      <th>SENDOUT_2</th>\n",
       "      <th>SENDOUT_3</th>\n",
       "      <th>PROFIT_1</th>\n",
       "      <th>PROFIT_2</th>\n",
       "      <th>PROFIT_3</th>\n",
       "    </tr>\n",
       "  </thead>\n",
       "  <tbody>\n",
       "    <tr>\n",
       "      <th>10768</th>\n",
       "      <td>10769</td>\n",
       "      <td>1</td>\n",
       "      <td>1.000000e+10</td>\n",
       "      <td>0.0</td>\n",
       "      <td>0.0</td>\n",
       "      <td>0.0</td>\n",
       "      <td>0.0</td>\n",
       "      <td>0.0</td>\n",
       "      <td>0</td>\n",
       "      <td>0</td>\n",
       "      <td>1</td>\n",
       "      <td>1.000000e+10</td>\n",
       "      <td>0.0</td>\n",
       "      <td>0.0</td>\n",
       "    </tr>\n",
       "  </tbody>\n",
       "</table>\n",
       "</div>"
      ],
      "text/plain": [
       "       CUST_ID  CONSENT_COMMUNICATION  SALES_AFTER_SENDOUT_1  \\\n",
       "10768    10769                      1           1.000000e+10   \n",
       "\n",
       "       SALES_AFTER_SENDOUT_2  SALES_AFTER_SENDOUT_3  SALES_BEFORE_SENDOUT_1  \\\n",
       "10768                    0.0                    0.0                     0.0   \n",
       "\n",
       "       SALES_BEFORE_SENDOUT_2  SALES_BEFORE_SENDOUT_3  SENDOUT_1  SENDOUT_2  \\\n",
       "10768                     0.0                     0.0          0          0   \n",
       "\n",
       "       SENDOUT_3      PROFIT_1  PROFIT_2  PROFIT_3  \n",
       "10768          1  1.000000e+10       0.0       0.0  "
      ]
     },
     "execution_count": 40,
     "metadata": {},
     "output_type": "execute_result"
    }
   ],
   "source": [
    "data[data.CUST_ID== 10769]"
   ]
  },
  {
   "cell_type": "code",
   "execution_count": 41,
   "metadata": {},
   "outputs": [
    {
     "data": {
      "text/html": [
       "<div>\n",
       "<style scoped>\n",
       "    .dataframe tbody tr th:only-of-type {\n",
       "        vertical-align: middle;\n",
       "    }\n",
       "\n",
       "    .dataframe tbody tr th {\n",
       "        vertical-align: top;\n",
       "    }\n",
       "\n",
       "    .dataframe thead th {\n",
       "        text-align: right;\n",
       "    }\n",
       "</style>\n",
       "<table border=\"1\" class=\"dataframe\">\n",
       "  <thead>\n",
       "    <tr style=\"text-align: right;\">\n",
       "      <th></th>\n",
       "      <th>CUST_ID</th>\n",
       "      <th>CONSENT_COMMUNICATION</th>\n",
       "      <th>SALES_AFTER_SENDOUT_1</th>\n",
       "      <th>SALES_AFTER_SENDOUT_2</th>\n",
       "      <th>SALES_AFTER_SENDOUT_3</th>\n",
       "      <th>SALES_BEFORE_SENDOUT_1</th>\n",
       "      <th>SALES_BEFORE_SENDOUT_2</th>\n",
       "      <th>SALES_BEFORE_SENDOUT_3</th>\n",
       "      <th>SENDOUT_1</th>\n",
       "      <th>SENDOUT_2</th>\n",
       "      <th>SENDOUT_3</th>\n",
       "      <th>PROFIT_1</th>\n",
       "      <th>PROFIT_2</th>\n",
       "      <th>PROFIT_3</th>\n",
       "    </tr>\n",
       "  </thead>\n",
       "  <tbody>\n",
       "    <tr>\n",
       "      <th>200</th>\n",
       "      <td>201</td>\n",
       "      <td>1</td>\n",
       "      <td>0.0</td>\n",
       "      <td>0.0</td>\n",
       "      <td>0.0</td>\n",
       "      <td>1.000000e+10</td>\n",
       "      <td>0.0</td>\n",
       "      <td>0.0</td>\n",
       "      <td>1</td>\n",
       "      <td>0</td>\n",
       "      <td>0</td>\n",
       "      <td>-1.000000e+10</td>\n",
       "      <td>0.0</td>\n",
       "      <td>0.0</td>\n",
       "    </tr>\n",
       "  </tbody>\n",
       "</table>\n",
       "</div>"
      ],
      "text/plain": [
       "     CUST_ID  CONSENT_COMMUNICATION  SALES_AFTER_SENDOUT_1  \\\n",
       "200      201                      1                    0.0   \n",
       "\n",
       "     SALES_AFTER_SENDOUT_2  SALES_AFTER_SENDOUT_3  SALES_BEFORE_SENDOUT_1  \\\n",
       "200                    0.0                    0.0            1.000000e+10   \n",
       "\n",
       "     SALES_BEFORE_SENDOUT_2  SALES_BEFORE_SENDOUT_3  SENDOUT_1  SENDOUT_2  \\\n",
       "200                     0.0                     0.0          1          0   \n",
       "\n",
       "     SENDOUT_3      PROFIT_1  PROFIT_2  PROFIT_3  \n",
       "200          0 -1.000000e+10       0.0       0.0  "
      ]
     },
     "execution_count": 41,
     "metadata": {},
     "output_type": "execute_result"
    }
   ],
   "source": [
    "data[data.CUST_ID== 201]"
   ]
  },
  {
   "cell_type": "markdown",
   "metadata": {},
   "source": [
    "Podczas analizy znalazłam klientów, którzy mają ogromne, wręcz nierealne, wartości sprzedaży- dwóch na minusie, jeden na plusie . Zamieniam te wartości na 0. "
   ]
  },
  {
   "cell_type": "markdown",
   "metadata": {},
   "source": [
    "<hr>\n",
    "\n",
    "- podobnie jak wyżej, raczej ich usunąc niż modyfikowac dane i dodać komentarz że zadbałabyś o to, żeby tą sytuacje wyjaśnić"
   ]
  },
  {
   "cell_type": "code",
   "execution_count": 42,
   "metadata": {},
   "outputs": [],
   "source": [
    "data.at[21239,'SALES_AFTER_SENDOUT_2'] = 0\n",
    "data.at[21239,'PROFIT_2'] = 0\n",
    "\n",
    "data.at[200,'SALES_BEFORE_SENDOUT_1'] = 0\n",
    "data.at[200,'PROFIT_1'] = 0\n",
    "\n",
    "data.at[10768,'SALES_AFTER_SENDOUT_1'] = 0\n",
    "data.at[10768,'PROFIT_1'] = 0"
   ]
  },
  {
   "cell_type": "code",
   "execution_count": 43,
   "metadata": {},
   "outputs": [
    {
     "data": {
      "text/html": [
       "<div>\n",
       "<style scoped>\n",
       "    .dataframe tbody tr th:only-of-type {\n",
       "        vertical-align: middle;\n",
       "    }\n",
       "\n",
       "    .dataframe tbody tr th {\n",
       "        vertical-align: top;\n",
       "    }\n",
       "\n",
       "    .dataframe thead th {\n",
       "        text-align: right;\n",
       "    }\n",
       "</style>\n",
       "<table border=\"1\" class=\"dataframe\">\n",
       "  <thead>\n",
       "    <tr style=\"text-align: right;\">\n",
       "      <th></th>\n",
       "      <th>CUST_ID</th>\n",
       "      <th>CONSENT_COMMUNICATION</th>\n",
       "      <th>SALES_AFTER_SENDOUT_1</th>\n",
       "      <th>SALES_AFTER_SENDOUT_2</th>\n",
       "      <th>SALES_AFTER_SENDOUT_3</th>\n",
       "      <th>SALES_BEFORE_SENDOUT_1</th>\n",
       "      <th>SALES_BEFORE_SENDOUT_2</th>\n",
       "      <th>SALES_BEFORE_SENDOUT_3</th>\n",
       "      <th>SENDOUT_1</th>\n",
       "      <th>SENDOUT_2</th>\n",
       "      <th>SENDOUT_3</th>\n",
       "      <th>PROFIT_1</th>\n",
       "      <th>PROFIT_2</th>\n",
       "      <th>PROFIT_3</th>\n",
       "    </tr>\n",
       "  </thead>\n",
       "  <tbody>\n",
       "    <tr>\n",
       "      <th>21239</th>\n",
       "      <td>21240</td>\n",
       "      <td>1</td>\n",
       "      <td>0.0</td>\n",
       "      <td>0.0</td>\n",
       "      <td>19.89</td>\n",
       "      <td>0.0</td>\n",
       "      <td>0.0</td>\n",
       "      <td>0.0</td>\n",
       "      <td>1</td>\n",
       "      <td>0</td>\n",
       "      <td>0</td>\n",
       "      <td>0.0</td>\n",
       "      <td>0.0</td>\n",
       "      <td>19.89</td>\n",
       "    </tr>\n",
       "  </tbody>\n",
       "</table>\n",
       "</div>"
      ],
      "text/plain": [
       "       CUST_ID  CONSENT_COMMUNICATION  SALES_AFTER_SENDOUT_1  \\\n",
       "21239    21240                      1                    0.0   \n",
       "\n",
       "       SALES_AFTER_SENDOUT_2  SALES_AFTER_SENDOUT_3  SALES_BEFORE_SENDOUT_1  \\\n",
       "21239                    0.0                  19.89                     0.0   \n",
       "\n",
       "       SALES_BEFORE_SENDOUT_2  SALES_BEFORE_SENDOUT_3  SENDOUT_1  SENDOUT_2  \\\n",
       "21239                     0.0                     0.0          1          0   \n",
       "\n",
       "       SENDOUT_3  PROFIT_1  PROFIT_2  PROFIT_3  \n",
       "21239          0       0.0       0.0     19.89  "
      ]
     },
     "execution_count": 43,
     "metadata": {},
     "output_type": "execute_result"
    }
   ],
   "source": [
    "data[data.CUST_ID == 21240]"
   ]
  },
  {
   "cell_type": "code",
   "execution_count": 44,
   "metadata": {},
   "outputs": [
    {
     "data": {
      "text/html": [
       "<div>\n",
       "<style scoped>\n",
       "    .dataframe tbody tr th:only-of-type {\n",
       "        vertical-align: middle;\n",
       "    }\n",
       "\n",
       "    .dataframe tbody tr th {\n",
       "        vertical-align: top;\n",
       "    }\n",
       "\n",
       "    .dataframe thead th {\n",
       "        text-align: right;\n",
       "    }\n",
       "</style>\n",
       "<table border=\"1\" class=\"dataframe\">\n",
       "  <thead>\n",
       "    <tr style=\"text-align: right;\">\n",
       "      <th></th>\n",
       "      <th>CUST_ID</th>\n",
       "      <th>CONSENT_COMMUNICATION</th>\n",
       "      <th>SALES_AFTER_SENDOUT_1</th>\n",
       "      <th>SALES_AFTER_SENDOUT_2</th>\n",
       "      <th>SALES_AFTER_SENDOUT_3</th>\n",
       "      <th>SALES_BEFORE_SENDOUT_1</th>\n",
       "      <th>SALES_BEFORE_SENDOUT_2</th>\n",
       "      <th>SALES_BEFORE_SENDOUT_3</th>\n",
       "      <th>SENDOUT_1</th>\n",
       "      <th>SENDOUT_2</th>\n",
       "      <th>SENDOUT_3</th>\n",
       "      <th>PROFIT_1</th>\n",
       "      <th>PROFIT_2</th>\n",
       "      <th>PROFIT_3</th>\n",
       "    </tr>\n",
       "  </thead>\n",
       "  <tbody>\n",
       "    <tr>\n",
       "      <th>10768</th>\n",
       "      <td>10769</td>\n",
       "      <td>1</td>\n",
       "      <td>0.0</td>\n",
       "      <td>0.0</td>\n",
       "      <td>0.0</td>\n",
       "      <td>0.0</td>\n",
       "      <td>0.0</td>\n",
       "      <td>0.0</td>\n",
       "      <td>0</td>\n",
       "      <td>0</td>\n",
       "      <td>1</td>\n",
       "      <td>0.0</td>\n",
       "      <td>0.0</td>\n",
       "      <td>0.0</td>\n",
       "    </tr>\n",
       "  </tbody>\n",
       "</table>\n",
       "</div>"
      ],
      "text/plain": [
       "       CUST_ID  CONSENT_COMMUNICATION  SALES_AFTER_SENDOUT_1  \\\n",
       "10768    10769                      1                    0.0   \n",
       "\n",
       "       SALES_AFTER_SENDOUT_2  SALES_AFTER_SENDOUT_3  SALES_BEFORE_SENDOUT_1  \\\n",
       "10768                    0.0                    0.0                     0.0   \n",
       "\n",
       "       SALES_BEFORE_SENDOUT_2  SALES_BEFORE_SENDOUT_3  SENDOUT_1  SENDOUT_2  \\\n",
       "10768                     0.0                     0.0          0          0   \n",
       "\n",
       "       SENDOUT_3  PROFIT_1  PROFIT_2  PROFIT_3  \n",
       "10768          1       0.0       0.0       0.0  "
      ]
     },
     "execution_count": 44,
     "metadata": {},
     "output_type": "execute_result"
    }
   ],
   "source": [
    "data[data.CUST_ID == 10769]"
   ]
  },
  {
   "cell_type": "code",
   "execution_count": 45,
   "metadata": {},
   "outputs": [
    {
     "data": {
      "text/plain": [
       "885374.5199999999"
      ]
     },
     "execution_count": 45,
     "metadata": {},
     "output_type": "execute_result"
    }
   ],
   "source": [
    "data['PROFIT_2'].sum()"
   ]
  },
  {
   "cell_type": "markdown",
   "metadata": {},
   "source": [
    "Po wyliczeniu całkowitego zysku widać, że firma odnotowała największy zysk ze sprzedaży po wysłaniu 2 komunikacji. Zysk wyniósł ponad 885 tys złotych. Komunikacja została wysłana tylko do 2% klientów, jednak nie wpłynęło to negatywnie na sprzedaż. PO 1 wysyłce komunikacji zysk wyniósł ok. 702 tys zł, a po trzeciej ok. 305 tys. Najmniejszy zysk jest po trzeciej komunikacji, gdzie wysłano ulotki do 80% klientów. Myślę, że największy zysk po drugiej wysyłce może być spowodowany rozpoznawalnością marki , klienci kupują towary pomimo, że nie dostali ulotki zachęcającej do sprzedaży. "
   ]
  },
  {
   "cell_type": "code",
   "execution_count": 46,
   "metadata": {},
   "outputs": [
    {
     "data": {
      "text/plain": [
       "array([<AxesSubplot:ylabel='PROFIT'>], dtype=object)"
      ]
     },
     "execution_count": 46,
     "metadata": {},
     "output_type": "execute_result"
    },
    {
     "data": {
      "image/png": "[encoded data removed]",
      "text/plain": [
       "<Figure size 432x288 with 1 Axes>"
      ]
     },
     "metadata": {},
     "output_type": "display_data"
    }
   ],
   "source": [
    "df = pd.DataFrame([data['PROFIT_1'].sum(), data['PROFIT_2'].sum(),data['PROFIT_3'].sum()], index=['PROFIT_1', 'PROFIT_2', 'PROFIT_3'], columns=['PROFIT'])        \n",
    "df.plot.pie(subplots=True)\n"
   ]
  },
  {
   "cell_type": "markdown",
   "metadata": {},
   "source": [
    "#### How much klients buy product before and after sendout"
   ]
  },
  {
   "cell_type": "markdown",
   "metadata": {
    "tags": []
   },
   "source": [
    "### a. Analiza klientów w okresie pierwszej wysyłki komunikacji"
   ]
  },
  {
   "cell_type": "markdown",
   "metadata": {},
   "source": [
    "- Tak jak wyżej może warto doadć komentarze w stylu:\n",
    "\n",
    "\n",
    "```Python\n",
    "a = data[(data.SALES_BEFORE_SENDOUT_1 > 0.0) & (data.SENDOUT_1 == 1)].CUST_ID.count()\n",
    "print(f\"Ilość klietów którzy... {a}\")\n",
    "```"
   ]
  },
  {
   "cell_type": "code",
   "execution_count": 47,
   "metadata": {},
   "outputs": [
    {
     "data": {
      "text/plain": [
       "5136"
      ]
     },
     "execution_count": 47,
     "metadata": {},
     "output_type": "execute_result"
    }
   ],
   "source": [
    "data[(data.SALES_BEFORE_SENDOUT_1 > 0.0) & (data.SENDOUT_1 == 1)].CUST_ID.count()"
   ]
  },
  {
   "cell_type": "code",
   "execution_count": 48,
   "metadata": {},
   "outputs": [
    {
     "data": {
      "text/plain": [
       "20177"
      ]
     },
     "execution_count": 48,
     "metadata": {},
     "output_type": "execute_result"
    }
   ],
   "source": [
    "data[(data.SALES_AFTER_SENDOUT_1 > 0.0) & (data.SENDOUT_1 == 1)].CUST_ID.count()"
   ]
  },
  {
   "cell_type": "code",
   "execution_count": 49,
   "metadata": {},
   "outputs": [
    {
     "data": {
      "text/plain": [
       "5178"
      ]
     },
     "execution_count": 49,
     "metadata": {},
     "output_type": "execute_result"
    }
   ],
   "source": [
    "data[(data.SALES_BEFORE_SENDOUT_1 > 0.0) & (data.SENDOUT_1 == 0)].CUST_ID.count()"
   ]
  },
  {
   "cell_type": "code",
   "execution_count": 50,
   "metadata": {},
   "outputs": [
    {
     "data": {
      "text/plain": [
       "5410"
      ]
     },
     "execution_count": 50,
     "metadata": {},
     "output_type": "execute_result"
    }
   ],
   "source": [
    "data[(data.SALES_AFTER_SENDOUT_1 > 0.0) & (data.SENDOUT_1 == 0)].CUST_ID.count()"
   ]
  },
  {
   "cell_type": "code",
   "execution_count": 51,
   "metadata": {},
   "outputs": [
    {
     "data": {
      "text/plain": [
       "1120"
      ]
     },
     "execution_count": 51,
     "metadata": {},
     "output_type": "execute_result"
    }
   ],
   "source": [
    "# ile klientów zwróciło towar po sprzedaży\n",
    "data[(data.SALES_AFTER_SENDOUT_1 < 0.0)].CUST_ID.count()"
   ]
  },
  {
   "cell_type": "code",
   "execution_count": 52,
   "metadata": {},
   "outputs": [
    {
     "data": {
      "text/plain": [
       "-9746.73"
      ]
     },
     "execution_count": 52,
     "metadata": {},
     "output_type": "execute_result"
    }
   ],
   "source": [
    "# na jaką wartość zwrócono towary\n",
    "data[(data.SALES_AFTER_SENDOUT_1 < 0.0)].SALES_AFTER_SENDOUT_1.sum()"
   ]
  },
  {
   "cell_type": "code",
   "execution_count": 53,
   "metadata": {},
   "outputs": [
    {
     "data": {
      "text/plain": [
       "690"
      ]
     },
     "execution_count": 53,
     "metadata": {},
     "output_type": "execute_result"
    }
   ],
   "source": [
    "# zobaczmy ile klientów straciliśmy- tzn zrobili zakupy przed wysyłką komunikacji, ale po wysyłce już nie\n",
    "data[(data.SALES_BEFORE_SENDOUT_1 > 0.0) & (data.SALES_AFTER_SENDOUT_1 == 0.0) & (data.SENDOUT_1 == 1)].CUST_ID.count()"
   ]
  },
  {
   "cell_type": "code",
   "execution_count": 54,
   "metadata": {},
   "outputs": [
    {
     "data": {
      "text/plain": [
       "3312"
      ]
     },
     "execution_count": 54,
     "metadata": {},
     "output_type": "execute_result"
    }
   ],
   "source": [
    "# zobaczmy ile klientów nie miała sprzedaży a po otrzymaniu komunikacji też nic nie kupili\n",
    "data[(data.SALES_BEFORE_SENDOUT_1 == 0.0) & (data.SALES_AFTER_SENDOUT_1 == 0.0) & (data.SENDOUT_1 == 1)].CUST_ID.count()"
   ]
  },
  {
   "cell_type": "markdown",
   "metadata": {},
   "source": [
    "Widzimy, że cztero krotnie wzrosła ilość klientów, którzy zrobili zakupy po otrzymaniu komunikacji. Ilość klientów, którzy nie otrzymali komunikacji a dokonują zakupów jest praktycznie stała- wynosi nieco ponad 5 tys. Niestety tutaj 1120 klientów zwróciło towary na sumę prawie 10 tys zł. Dodatkowo 691 klientów zrobiło zakupy przed wysyłką ulotek, ale po otrzymaniu komunikacji już nic nie zakupili. 3311 klientów nie odnotowało w ogóle sprzedaży przed i po wysyłce komunikacji."
   ]
  },
  {
   "cell_type": "markdown",
   "metadata": {},
   "source": [
    "### b. Analiza klientów w okresie drugiej wysyłki komunikacji"
   ]
  },
  {
   "cell_type": "code",
   "execution_count": 55,
   "metadata": {},
   "outputs": [
    {
     "data": {
      "text/plain": [
       "269"
      ]
     },
     "execution_count": 55,
     "metadata": {},
     "output_type": "execute_result"
    }
   ],
   "source": [
    "data[(data.SALES_BEFORE_SENDOUT_2 > 0.0) & (data.SENDOUT_2 == 1)].CUST_ID.count()"
   ]
  },
  {
   "cell_type": "code",
   "execution_count": 56,
   "metadata": {},
   "outputs": [
    {
     "data": {
      "text/plain": [
       "375"
      ]
     },
     "execution_count": 56,
     "metadata": {},
     "output_type": "execute_result"
    }
   ],
   "source": [
    "data[(data.SALES_AFTER_SENDOUT_2 > 0.0) & (data.SENDOUT_2 == 1)].CUST_ID.count()"
   ]
  },
  {
   "cell_type": "code",
   "execution_count": 57,
   "metadata": {},
   "outputs": [
    {
     "data": {
      "text/plain": [
       "14175"
      ]
     },
     "execution_count": 57,
     "metadata": {},
     "output_type": "execute_result"
    }
   ],
   "source": [
    "data[(data.SALES_BEFORE_SENDOUT_2 > 0.0) & (data.SENDOUT_2 == 0)].CUST_ID.count()"
   ]
  },
  {
   "cell_type": "code",
   "execution_count": 58,
   "metadata": {},
   "outputs": [
    {
     "data": {
      "text/plain": [
       "18250"
      ]
     },
     "execution_count": 58,
     "metadata": {},
     "output_type": "execute_result"
    }
   ],
   "source": [
    "data[(data.SALES_AFTER_SENDOUT_2 > 0.0 ) & (data.SENDOUT_2 == 0)].CUST_ID.count()"
   ]
  },
  {
   "cell_type": "code",
   "execution_count": 59,
   "metadata": {},
   "outputs": [
    {
     "data": {
      "text/plain": [
       "0"
      ]
     },
     "execution_count": 59,
     "metadata": {},
     "output_type": "execute_result"
    }
   ],
   "source": [
    "# ile jest zwrotów po sprzedaży\n",
    "data[(data.SALES_AFTER_SENDOUT_2 < 0.0)].CUST_ID.count()"
   ]
  },
  {
   "cell_type": "code",
   "execution_count": 60,
   "metadata": {},
   "outputs": [
    {
     "data": {
      "text/plain": [
       "152"
      ]
     },
     "execution_count": 60,
     "metadata": {},
     "output_type": "execute_result"
    }
   ],
   "source": [
    "# zobaczmy ile klientów straciliśmy- tzn zrobili zakupy przed wysyłką komunikacji, ale po wysyłce już nie\n",
    "data[(data.SALES_BEFORE_SENDOUT_2 > 0.0) & (data.SALES_AFTER_SENDOUT_2 == 0.0) & (data.SENDOUT_2 == 1)].CUST_ID.count()"
   ]
  },
  {
   "cell_type": "code",
   "execution_count": 61,
   "metadata": {},
   "outputs": [
    {
     "data": {
      "text/plain": [
       "498"
      ]
     },
     "execution_count": 61,
     "metadata": {},
     "output_type": "execute_result"
    }
   ],
   "source": [
    "# zobaczmy ile klientów nie miała sprzedaży a po otrzymaniu komunikacji też nic nie kupili\n",
    "data[(data.SALES_BEFORE_SENDOUT_2 == 0.0) & (data.SALES_AFTER_SENDOUT_2 == 0.0) & (data.SENDOUT_2 == 1)].CUST_ID.count()"
   ]
  },
  {
   "cell_type": "markdown",
   "metadata": {},
   "source": [
    "0 94 klientów więcej odnotowało sprzedaż po wysyłce drugiej komunikacji. Bez otrzymania komunikacji zakupów dokonało ponad 4 tys. klientów więcej czyli 18250. Tutaj mniej klientów dokonało zakupów niż po 1 wysyłce, jednak średnia wartośc zamówień była wyższa. Nie odnotowano zwrotów po zakupach. Dodatkowo 152 klientów zrobiło zakupy przed wysyłką ulotek, ale po otrzymaniu komunikacji już nic nie zakupili. 498 klientow nie dokonało zakupów zarówno przed jak i po otrzymaniu komunikacji."
   ]
  },
  {
   "cell_type": "markdown",
   "metadata": {},
   "source": [
    "### c. Analiza klientów w okresie trzeciej wysyłki komunikacji"
   ]
  },
  {
   "cell_type": "code",
   "execution_count": 62,
   "metadata": {},
   "outputs": [
    {
     "data": {
      "text/plain": [
       "9901"
      ]
     },
     "execution_count": 62,
     "metadata": {},
     "output_type": "execute_result"
    }
   ],
   "source": [
    "data[(data.SALES_BEFORE_SENDOUT_3 > 0.0) & (data.SENDOUT_3 == 1)].CUST_ID.count()"
   ]
  },
  {
   "cell_type": "code",
   "execution_count": 63,
   "metadata": {},
   "outputs": [
    {
     "data": {
      "text/plain": [
       "12107"
      ]
     },
     "execution_count": 63,
     "metadata": {},
     "output_type": "execute_result"
    }
   ],
   "source": [
    "data[(data.SALES_AFTER_SENDOUT_3 > 0.0) & (data.SENDOUT_3 == 1)].CUST_ID.count()"
   ]
  },
  {
   "cell_type": "code",
   "execution_count": 64,
   "metadata": {},
   "outputs": [
    {
     "data": {
      "text/plain": [
       "2429"
      ]
     },
     "execution_count": 64,
     "metadata": {},
     "output_type": "execute_result"
    }
   ],
   "source": [
    "data[(data.SALES_BEFORE_SENDOUT_3 > 0.0) & (data.SENDOUT_3 == 0)].CUST_ID.count()"
   ]
  },
  {
   "cell_type": "code",
   "execution_count": 65,
   "metadata": {},
   "outputs": [
    {
     "data": {
      "text/plain": [
       "2310"
      ]
     },
     "execution_count": 65,
     "metadata": {},
     "output_type": "execute_result"
    }
   ],
   "source": [
    "data[(data.SALES_AFTER_SENDOUT_3 > 0.0 ) & (data.SENDOUT_3 == 0)].CUST_ID.count()"
   ]
  },
  {
   "cell_type": "code",
   "execution_count": 66,
   "metadata": {},
   "outputs": [
    {
     "data": {
      "text/plain": [
       "0"
      ]
     },
     "execution_count": 66,
     "metadata": {},
     "output_type": "execute_result"
    }
   ],
   "source": [
    "#ile jest zwrotów po sprzedaży\n",
    "data[(data.SALES_AFTER_SENDOUT_3 < 0.0)].CUST_ID.count()"
   ]
  },
  {
   "cell_type": "code",
   "execution_count": 67,
   "metadata": {},
   "outputs": [
    {
     "data": {
      "text/plain": [
       "5777"
      ]
     },
     "execution_count": 67,
     "metadata": {},
     "output_type": "execute_result"
    }
   ],
   "source": [
    "#zobaczmy ile klientów straciliśmy- tzn zrobili zakupy przed wysyłką komunikacji, ale po wysyłce już nie\n",
    "data[(data.SALES_BEFORE_SENDOUT_3 > 0.0) & (data.SALES_AFTER_SENDOUT_3 == 0.0) & (data.SENDOUT_3 == 1)].CUST_ID.count()"
   ]
  },
  {
   "cell_type": "code",
   "execution_count": 68,
   "metadata": {},
   "outputs": [
    {
     "data": {
      "text/plain": [
       "22102"
      ]
     },
     "execution_count": 68,
     "metadata": {},
     "output_type": "execute_result"
    }
   ],
   "source": [
    "# zobaczmy ile klientów nie miała sprzedaży a po otrzymaniu komunikacji też nic nie kupili\n",
    "data[(data.SALES_BEFORE_SENDOUT_3 == 0.0) & (data.SALES_AFTER_SENDOUT_3 == 0.0) & (data.SENDOUT_3 == 1)].CUST_ID.count()"
   ]
  },
  {
   "cell_type": "markdown",
   "metadata": {},
   "source": [
    "Po otrzymaniu ulotek z trzeciej komunikacji, zakupów dokonało ok.2200 osób więcej. O 119 osób mniej zrobiło zakupy bez otrzymania komunikacji. \n",
    "Porównując ilość wszystkich historycznych zakupów, najmniej klientów kupiło towary w okolicy trzeciej wysyłki. \n",
    "Nie odnotowano zwrotów po zakupach. Dodatkowo aż 5777 klientów zrobiło zakupy przed wysyłką ulotek, ale po otrzymaniu komunikacji już nic nie zakupili.  Można wnioskować, że promocja zachęcająca do kupna podczas 3 wysyłki była najgorsza w historii. aż 22 tysiące klientów nie zakupiło produktów zarówno przed jak i po wysłaniu komunikacji. "
   ]
  },
  {
   "cell_type": "markdown",
   "metadata": {
    "tags": []
   },
   "source": [
    "### Profit visualization"
   ]
  },
  {
   "cell_type": "markdown",
   "metadata": {},
   "source": [
    "- może zamiast dropowania wierszy lepiej użyć pop prostu czegoś takiego:\n",
    "\n",
    "```Python\n",
    "data_to_viz_1 = data[data.PROFIT_1 != 0.0]\n",
    "```\n",
    "\n",
    "dropowianie alebo innego typu rzeczy mogą oddziałowywać na główne dane. Zamiast tego lepiej użyć filtrów (czyli jak wyżej) \n",
    "można też później zrobić kipię, jesli planujesz przeprowadząc jakieś operacje na tych danych i chcesz się upewnić, że nie zmienisz głównych dancyh.\n",
    "\n",
    "```Python\n",
    "data_to_viz_1 = data[data.PROFIT_1 != 0.0].copy()\n",
    "```\n",
    "\n",
    "A jesli chcesz robić tylko wykresy na poszczególnych kolumanch to mozesz oszczędzić miejsce w pamięci przez wybranie tylko tych kolumn:\n",
    "\n",
    "```Python\n",
    "data_to_viz_1 = data.loc[data.PROFIT_1 != 0.0, ['SENDOUT_1', 'PROFIT_1']].copy()\n",
    "```"
   ]
  },
  {
   "cell_type": "code",
   "execution_count": 69,
   "metadata": {},
   "outputs": [],
   "source": [
    "#deleted rows where profit = 0\n",
    "data_to_viz_1 = data.drop(data[data.PROFIT_1 == 0.0].index)\n",
    "data_to_viz_2 = data.drop(data[data.PROFIT_2 == 0.0].index)\n",
    "data_to_viz_3 = data.drop(data[data.PROFIT_3 == 0.0].index)"
   ]
  },
  {
   "cell_type": "code",
   "execution_count": 71,
   "metadata": {},
   "outputs": [
    {
     "data": {
      "text/html": [
       "<div>\n",
       "<style scoped>\n",
       "    .dataframe tbody tr th:only-of-type {\n",
       "        vertical-align: middle;\n",
       "    }\n",
       "\n",
       "    .dataframe tbody tr th {\n",
       "        vertical-align: top;\n",
       "    }\n",
       "\n",
       "    .dataframe thead th {\n",
       "        text-align: right;\n",
       "    }\n",
       "</style>\n",
       "<table border=\"1\" class=\"dataframe\">\n",
       "  <thead>\n",
       "    <tr style=\"text-align: right;\">\n",
       "      <th></th>\n",
       "      <th>CUST_ID</th>\n",
       "      <th>CONSENT_COMMUNICATION</th>\n",
       "      <th>SALES_AFTER_SENDOUT_1</th>\n",
       "      <th>SALES_AFTER_SENDOUT_2</th>\n",
       "      <th>SALES_AFTER_SENDOUT_3</th>\n",
       "      <th>SALES_BEFORE_SENDOUT_1</th>\n",
       "      <th>SALES_BEFORE_SENDOUT_2</th>\n",
       "      <th>SALES_BEFORE_SENDOUT_3</th>\n",
       "      <th>SENDOUT_1</th>\n",
       "      <th>SENDOUT_2</th>\n",
       "      <th>SENDOUT_3</th>\n",
       "      <th>PROFIT_1</th>\n",
       "      <th>PROFIT_2</th>\n",
       "      <th>PROFIT_3</th>\n",
       "    </tr>\n",
       "  </thead>\n",
       "  <tbody>\n",
       "    <tr>\n",
       "      <th>0</th>\n",
       "      <td>1</td>\n",
       "      <td>1</td>\n",
       "      <td>46.26</td>\n",
       "      <td>0.00</td>\n",
       "      <td>0.00</td>\n",
       "      <td>0.00</td>\n",
       "      <td>0.0</td>\n",
       "      <td>0.0</td>\n",
       "      <td>1</td>\n",
       "      <td>0</td>\n",
       "      <td>1</td>\n",
       "      <td>46.26</td>\n",
       "      <td>0.00</td>\n",
       "      <td>0.00</td>\n",
       "    </tr>\n",
       "    <tr>\n",
       "      <th>3</th>\n",
       "      <td>4</td>\n",
       "      <td>1</td>\n",
       "      <td>64.06</td>\n",
       "      <td>0.00</td>\n",
       "      <td>0.00</td>\n",
       "      <td>161.81</td>\n",
       "      <td>0.0</td>\n",
       "      <td>0.0</td>\n",
       "      <td>1</td>\n",
       "      <td>0</td>\n",
       "      <td>1</td>\n",
       "      <td>-97.75</td>\n",
       "      <td>0.00</td>\n",
       "      <td>0.00</td>\n",
       "    </tr>\n",
       "    <tr>\n",
       "      <th>5</th>\n",
       "      <td>6</td>\n",
       "      <td>1</td>\n",
       "      <td>28.13</td>\n",
       "      <td>278.35</td>\n",
       "      <td>0.00</td>\n",
       "      <td>0.00</td>\n",
       "      <td>0.0</td>\n",
       "      <td>0.0</td>\n",
       "      <td>1</td>\n",
       "      <td>0</td>\n",
       "      <td>0</td>\n",
       "      <td>28.13</td>\n",
       "      <td>278.35</td>\n",
       "      <td>0.00</td>\n",
       "    </tr>\n",
       "    <tr>\n",
       "      <th>6</th>\n",
       "      <td>7</td>\n",
       "      <td>1</td>\n",
       "      <td>207.63</td>\n",
       "      <td>0.00</td>\n",
       "      <td>0.00</td>\n",
       "      <td>0.00</td>\n",
       "      <td>0.0</td>\n",
       "      <td>0.0</td>\n",
       "      <td>1</td>\n",
       "      <td>0</td>\n",
       "      <td>1</td>\n",
       "      <td>207.63</td>\n",
       "      <td>0.00</td>\n",
       "      <td>0.00</td>\n",
       "    </tr>\n",
       "    <tr>\n",
       "      <th>7</th>\n",
       "      <td>8</td>\n",
       "      <td>1</td>\n",
       "      <td>37.37</td>\n",
       "      <td>36.02</td>\n",
       "      <td>0.00</td>\n",
       "      <td>0.00</td>\n",
       "      <td>0.0</td>\n",
       "      <td>0.0</td>\n",
       "      <td>1</td>\n",
       "      <td>0</td>\n",
       "      <td>1</td>\n",
       "      <td>37.37</td>\n",
       "      <td>36.02</td>\n",
       "      <td>0.00</td>\n",
       "    </tr>\n",
       "    <tr>\n",
       "      <th>...</th>\n",
       "      <td>...</td>\n",
       "      <td>...</td>\n",
       "      <td>...</td>\n",
       "      <td>...</td>\n",
       "      <td>...</td>\n",
       "      <td>...</td>\n",
       "      <td>...</td>\n",
       "      <td>...</td>\n",
       "      <td>...</td>\n",
       "      <td>...</td>\n",
       "      <td>...</td>\n",
       "      <td>...</td>\n",
       "      <td>...</td>\n",
       "      <td>...</td>\n",
       "    </tr>\n",
       "    <tr>\n",
       "      <th>49989</th>\n",
       "      <td>49990</td>\n",
       "      <td>1</td>\n",
       "      <td>46.84</td>\n",
       "      <td>0.00</td>\n",
       "      <td>0.00</td>\n",
       "      <td>0.00</td>\n",
       "      <td>0.0</td>\n",
       "      <td>0.0</td>\n",
       "      <td>0</td>\n",
       "      <td>0</td>\n",
       "      <td>1</td>\n",
       "      <td>46.84</td>\n",
       "      <td>0.00</td>\n",
       "      <td>0.00</td>\n",
       "    </tr>\n",
       "    <tr>\n",
       "      <th>49990</th>\n",
       "      <td>49991</td>\n",
       "      <td>0</td>\n",
       "      <td>0.00</td>\n",
       "      <td>0.00</td>\n",
       "      <td>0.00</td>\n",
       "      <td>105.38</td>\n",
       "      <td>0.0</td>\n",
       "      <td>0.0</td>\n",
       "      <td>0</td>\n",
       "      <td>0</td>\n",
       "      <td>0</td>\n",
       "      <td>-105.38</td>\n",
       "      <td>0.00</td>\n",
       "      <td>0.00</td>\n",
       "    </tr>\n",
       "    <tr>\n",
       "      <th>49993</th>\n",
       "      <td>49994</td>\n",
       "      <td>1</td>\n",
       "      <td>63.74</td>\n",
       "      <td>0.00</td>\n",
       "      <td>173.81</td>\n",
       "      <td>0.00</td>\n",
       "      <td>0.0</td>\n",
       "      <td>178.4</td>\n",
       "      <td>1</td>\n",
       "      <td>0</td>\n",
       "      <td>1</td>\n",
       "      <td>63.74</td>\n",
       "      <td>0.00</td>\n",
       "      <td>-4.59</td>\n",
       "    </tr>\n",
       "    <tr>\n",
       "      <th>49994</th>\n",
       "      <td>49995</td>\n",
       "      <td>1</td>\n",
       "      <td>26.87</td>\n",
       "      <td>98.95</td>\n",
       "      <td>0.00</td>\n",
       "      <td>0.00</td>\n",
       "      <td>0.0</td>\n",
       "      <td>0.0</td>\n",
       "      <td>1</td>\n",
       "      <td>0</td>\n",
       "      <td>1</td>\n",
       "      <td>26.87</td>\n",
       "      <td>98.95</td>\n",
       "      <td>0.00</td>\n",
       "    </tr>\n",
       "    <tr>\n",
       "      <th>49999</th>\n",
       "      <td>50000</td>\n",
       "      <td>1</td>\n",
       "      <td>82.98</td>\n",
       "      <td>0.00</td>\n",
       "      <td>0.00</td>\n",
       "      <td>0.00</td>\n",
       "      <td>102.3</td>\n",
       "      <td>0.0</td>\n",
       "      <td>0</td>\n",
       "      <td>0</td>\n",
       "      <td>1</td>\n",
       "      <td>82.98</td>\n",
       "      <td>-102.30</td>\n",
       "      <td>0.00</td>\n",
       "    </tr>\n",
       "  </tbody>\n",
       "</table>\n",
       "<p>30921 rows × 14 columns</p>\n",
       "</div>"
      ],
      "text/plain": [
       "       CUST_ID  CONSENT_COMMUNICATION  SALES_AFTER_SENDOUT_1  \\\n",
       "0            1                      1                  46.26   \n",
       "3            4                      1                  64.06   \n",
       "5            6                      1                  28.13   \n",
       "6            7                      1                 207.63   \n",
       "7            8                      1                  37.37   \n",
       "...        ...                    ...                    ...   \n",
       "49989    49990                      1                  46.84   \n",
       "49990    49991                      0                   0.00   \n",
       "49993    49994                      1                  63.74   \n",
       "49994    49995                      1                  26.87   \n",
       "49999    50000                      1                  82.98   \n",
       "\n",
       "       SALES_AFTER_SENDOUT_2  SALES_AFTER_SENDOUT_3  SALES_BEFORE_SENDOUT_1  \\\n",
       "0                       0.00                   0.00                    0.00   \n",
       "3                       0.00                   0.00                  161.81   \n",
       "5                     278.35                   0.00                    0.00   \n",
       "6                       0.00                   0.00                    0.00   \n",
       "7                      36.02                   0.00                    0.00   \n",
       "...                      ...                    ...                     ...   \n",
       "49989                   0.00                   0.00                    0.00   \n",
       "49990                   0.00                   0.00                  105.38   \n",
       "49993                   0.00                 173.81                    0.00   \n",
       "49994                  98.95                   0.00                    0.00   \n",
       "49999                   0.00                   0.00                    0.00   \n",
       "\n",
       "       SALES_BEFORE_SENDOUT_2  SALES_BEFORE_SENDOUT_3  SENDOUT_1  SENDOUT_2  \\\n",
       "0                         0.0                     0.0          1          0   \n",
       "3                         0.0                     0.0          1          0   \n",
       "5                         0.0                     0.0          1          0   \n",
       "6                         0.0                     0.0          1          0   \n",
       "7                         0.0                     0.0          1          0   \n",
       "...                       ...                     ...        ...        ...   \n",
       "49989                     0.0                     0.0          0          0   \n",
       "49990                     0.0                     0.0          0          0   \n",
       "49993                     0.0                   178.4          1          0   \n",
       "49994                     0.0                     0.0          1          0   \n",
       "49999                   102.3                     0.0          0          0   \n",
       "\n",
       "       SENDOUT_3  PROFIT_1  PROFIT_2  PROFIT_3  \n",
       "0              1     46.26      0.00      0.00  \n",
       "3              1    -97.75      0.00      0.00  \n",
       "5              0     28.13    278.35      0.00  \n",
       "6              1    207.63      0.00      0.00  \n",
       "7              1     37.37     36.02      0.00  \n",
       "...          ...       ...       ...       ...  \n",
       "49989          1     46.84      0.00      0.00  \n",
       "49990          0   -105.38      0.00      0.00  \n",
       "49993          1     63.74      0.00     -4.59  \n",
       "49994          1     26.87     98.95      0.00  \n",
       "49999          1     82.98   -102.30      0.00  \n",
       "\n",
       "[30921 rows x 14 columns]"
      ]
     },
     "execution_count": 71,
     "metadata": {},
     "output_type": "execute_result"
    }
   ],
   "source": [
    "ddd = data_to_viz_1"
   ]
  },
  {
   "cell_type": "code",
   "execution_count": 70,
   "metadata": {},
   "outputs": [
    {
     "data": {
      "image/png": "[encoded data removed]",
      "text/plain": [
       "<Figure size 1080x504 with 3 Axes>"
      ]
     },
     "metadata": {
      "needs_background": "light"
     },
     "output_type": "display_data"
    }
   ],
   "source": [
    "plt.figure(figsize=(15, 7))\n",
    "plt.subplot(1,3,1)\n",
    "sns.boxplot(data=data_to_viz_1, x='SENDOUT_1', y='PROFIT_1')\n",
    "plt.ylim(-200.0, 500, 50.0)\n",
    "plt.subplot(1,3,2)\n",
    "sns.boxplot(data=data_to_viz_2, x='SENDOUT_2', y='PROFIT_2')\n",
    "plt.ylim(-200.0, 500, 50.0)\n",
    "plt.subplot(1,3,3)\n",
    "sns.boxplot(data=data_to_viz_3, x='SENDOUT_3', y='PROFIT_3')\n",
    "plt.ylim(-200.0, 500, 50.0)\n",
    "\n",
    "plt.show()"
   ]
  },
  {
   "cell_type": "markdown",
   "metadata": {},
   "source": [
    "wnioski z wykresów- ..... napisać"
   ]
  },
  {
   "cell_type": "markdown",
   "metadata": {},
   "source": [
    "### Wybór 15 000 klientów, do których wyślemy komunikację w przyszłości"
   ]
  },
  {
   "cell_type": "markdown",
   "metadata": {
    "tags": []
   },
   "source": [
    "#### Ad.1 Prosty wybór metodą wyfiltrowania 15 000  klientów z najwyższym średnim zyskiem"
   ]
  },
  {
   "cell_type": "markdown",
   "metadata": {},
   "source": [
    "- użyj tego - bardziej profesjonalne ;)\n",
    "\n",
    "```Python\n",
    "data[['PROFIT_1', 'PROFIT_2', 'PROFIT_3']].mean(axis=1)\n",
    "```"
   ]
  },
  {
   "cell_type": "code",
   "execution_count": 79,
   "metadata": {},
   "outputs": [],
   "source": [
    "# create column with average profit after 3 sent communication\n",
    "data['AVG_PROFIT'] = (data.PROFIT_1 + data.PROFIT_2 + data.PROFIT_3)/3"
   ]
  },
  {
   "cell_type": "markdown",
   "metadata": {},
   "source": [
    "- zła oś: powinno być axis=0\n",
    "- może usunąć ich na początku - i tak nic nie wnoszą do analizy.... ?"
   ]
  },
  {
   "cell_type": "code",
   "execution_count": 85,
   "metadata": {},
   "outputs": [],
   "source": [
    "# remove clients, who didn't to consent a communication \n",
    "data_final = data.drop(data[data.CONSENT_COMMUNICATION == 0].index, axis=0)"
   ]
  },
  {
   "cell_type": "code",
   "execution_count": 86,
   "metadata": {},
   "outputs": [
    {
     "data": {
      "text/html": [
       "<div>\n",
       "<style scoped>\n",
       "    .dataframe tbody tr th:only-of-type {\n",
       "        vertical-align: middle;\n",
       "    }\n",
       "\n",
       "    .dataframe tbody tr th {\n",
       "        vertical-align: top;\n",
       "    }\n",
       "\n",
       "    .dataframe thead th {\n",
       "        text-align: right;\n",
       "    }\n",
       "</style>\n",
       "<table border=\"1\" class=\"dataframe\">\n",
       "  <thead>\n",
       "    <tr style=\"text-align: right;\">\n",
       "      <th></th>\n",
       "      <th>CUST_ID</th>\n",
       "      <th>CONSENT_COMMUNICATION</th>\n",
       "      <th>SALES_AFTER_SENDOUT_1</th>\n",
       "      <th>SALES_AFTER_SENDOUT_2</th>\n",
       "      <th>SALES_AFTER_SENDOUT_3</th>\n",
       "      <th>SALES_BEFORE_SENDOUT_1</th>\n",
       "      <th>SALES_BEFORE_SENDOUT_2</th>\n",
       "      <th>SALES_BEFORE_SENDOUT_3</th>\n",
       "      <th>SENDOUT_1</th>\n",
       "      <th>SENDOUT_2</th>\n",
       "      <th>SENDOUT_3</th>\n",
       "      <th>PROFIT_1</th>\n",
       "      <th>PROFIT_2</th>\n",
       "      <th>PROFIT_3</th>\n",
       "      <th>AVG_PROFIT</th>\n",
       "    </tr>\n",
       "  </thead>\n",
       "  <tbody>\n",
       "    <tr>\n",
       "      <th>0</th>\n",
       "      <td>1</td>\n",
       "      <td>1</td>\n",
       "      <td>46.26</td>\n",
       "      <td>0.00</td>\n",
       "      <td>0.0</td>\n",
       "      <td>0.00</td>\n",
       "      <td>0.0</td>\n",
       "      <td>0.0</td>\n",
       "      <td>1</td>\n",
       "      <td>0</td>\n",
       "      <td>1</td>\n",
       "      <td>46.26</td>\n",
       "      <td>0.00</td>\n",
       "      <td>0.0</td>\n",
       "      <td>15.420000</td>\n",
       "    </tr>\n",
       "    <tr>\n",
       "      <th>3</th>\n",
       "      <td>4</td>\n",
       "      <td>1</td>\n",
       "      <td>64.06</td>\n",
       "      <td>0.00</td>\n",
       "      <td>0.0</td>\n",
       "      <td>161.81</td>\n",
       "      <td>0.0</td>\n",
       "      <td>0.0</td>\n",
       "      <td>1</td>\n",
       "      <td>0</td>\n",
       "      <td>1</td>\n",
       "      <td>-97.75</td>\n",
       "      <td>0.00</td>\n",
       "      <td>0.0</td>\n",
       "      <td>-32.583333</td>\n",
       "    </tr>\n",
       "    <tr>\n",
       "      <th>5</th>\n",
       "      <td>6</td>\n",
       "      <td>1</td>\n",
       "      <td>28.13</td>\n",
       "      <td>278.35</td>\n",
       "      <td>0.0</td>\n",
       "      <td>0.00</td>\n",
       "      <td>0.0</td>\n",
       "      <td>0.0</td>\n",
       "      <td>1</td>\n",
       "      <td>0</td>\n",
       "      <td>0</td>\n",
       "      <td>28.13</td>\n",
       "      <td>278.35</td>\n",
       "      <td>0.0</td>\n",
       "      <td>102.160000</td>\n",
       "    </tr>\n",
       "    <tr>\n",
       "      <th>6</th>\n",
       "      <td>7</td>\n",
       "      <td>1</td>\n",
       "      <td>207.63</td>\n",
       "      <td>0.00</td>\n",
       "      <td>0.0</td>\n",
       "      <td>0.00</td>\n",
       "      <td>0.0</td>\n",
       "      <td>0.0</td>\n",
       "      <td>1</td>\n",
       "      <td>0</td>\n",
       "      <td>1</td>\n",
       "      <td>207.63</td>\n",
       "      <td>0.00</td>\n",
       "      <td>0.0</td>\n",
       "      <td>69.210000</td>\n",
       "    </tr>\n",
       "    <tr>\n",
       "      <th>7</th>\n",
       "      <td>8</td>\n",
       "      <td>1</td>\n",
       "      <td>37.37</td>\n",
       "      <td>36.02</td>\n",
       "      <td>0.0</td>\n",
       "      <td>0.00</td>\n",
       "      <td>0.0</td>\n",
       "      <td>0.0</td>\n",
       "      <td>1</td>\n",
       "      <td>0</td>\n",
       "      <td>1</td>\n",
       "      <td>37.37</td>\n",
       "      <td>36.02</td>\n",
       "      <td>0.0</td>\n",
       "      <td>24.463333</td>\n",
       "    </tr>\n",
       "  </tbody>\n",
       "</table>\n",
       "</div>"
      ],
      "text/plain": [
       "   CUST_ID  CONSENT_COMMUNICATION  SALES_AFTER_SENDOUT_1  \\\n",
       "0        1                      1                  46.26   \n",
       "3        4                      1                  64.06   \n",
       "5        6                      1                  28.13   \n",
       "6        7                      1                 207.63   \n",
       "7        8                      1                  37.37   \n",
       "\n",
       "   SALES_AFTER_SENDOUT_2  SALES_AFTER_SENDOUT_3  SALES_BEFORE_SENDOUT_1  \\\n",
       "0                   0.00                    0.0                    0.00   \n",
       "3                   0.00                    0.0                  161.81   \n",
       "5                 278.35                    0.0                    0.00   \n",
       "6                   0.00                    0.0                    0.00   \n",
       "7                  36.02                    0.0                    0.00   \n",
       "\n",
       "   SALES_BEFORE_SENDOUT_2  SALES_BEFORE_SENDOUT_3  SENDOUT_1  SENDOUT_2  \\\n",
       "0                     0.0                     0.0          1          0   \n",
       "3                     0.0                     0.0          1          0   \n",
       "5                     0.0                     0.0          1          0   \n",
       "6                     0.0                     0.0          1          0   \n",
       "7                     0.0                     0.0          1          0   \n",
       "\n",
       "   SENDOUT_3  PROFIT_1  PROFIT_2  PROFIT_3  AVG_PROFIT  \n",
       "0          1     46.26      0.00       0.0   15.420000  \n",
       "3          1    -97.75      0.00       0.0  -32.583333  \n",
       "5          0     28.13    278.35       0.0  102.160000  \n",
       "6          1    207.63      0.00       0.0   69.210000  \n",
       "7          1     37.37     36.02       0.0   24.463333  "
      ]
     },
     "execution_count": 86,
     "metadata": {},
     "output_type": "execute_result"
    }
   ],
   "source": [
    "data_final.head()"
   ]
  },
  {
   "cell_type": "code",
   "execution_count": 87,
   "metadata": {},
   "outputs": [
    {
     "data": {
      "text/plain": [
       "(45143, 15)"
      ]
     },
     "execution_count": 87,
     "metadata": {},
     "output_type": "execute_result"
    }
   ],
   "source": [
    "data_final.shape"
   ]
  },
  {
   "cell_type": "code",
   "execution_count": 89,
   "metadata": {},
   "outputs": [
    {
     "data": {
      "text/html": [
       "<div>\n",
       "<style scoped>\n",
       "    .dataframe tbody tr th:only-of-type {\n",
       "        vertical-align: middle;\n",
       "    }\n",
       "\n",
       "    .dataframe tbody tr th {\n",
       "        vertical-align: top;\n",
       "    }\n",
       "\n",
       "    .dataframe thead th {\n",
       "        text-align: right;\n",
       "    }\n",
       "</style>\n",
       "<table border=\"1\" class=\"dataframe\">\n",
       "  <thead>\n",
       "    <tr style=\"text-align: right;\">\n",
       "      <th></th>\n",
       "      <th>CUST_ID</th>\n",
       "      <th>CONSENT_COMMUNICATION</th>\n",
       "      <th>SALES_AFTER_SENDOUT_1</th>\n",
       "      <th>SALES_AFTER_SENDOUT_2</th>\n",
       "      <th>SALES_AFTER_SENDOUT_3</th>\n",
       "      <th>SALES_BEFORE_SENDOUT_1</th>\n",
       "      <th>SALES_BEFORE_SENDOUT_2</th>\n",
       "      <th>SALES_BEFORE_SENDOUT_3</th>\n",
       "      <th>SENDOUT_1</th>\n",
       "      <th>SENDOUT_2</th>\n",
       "      <th>SENDOUT_3</th>\n",
       "      <th>PROFIT_1</th>\n",
       "      <th>PROFIT_2</th>\n",
       "      <th>PROFIT_3</th>\n",
       "      <th>AVG_PROFIT</th>\n",
       "    </tr>\n",
       "  </thead>\n",
       "  <tbody>\n",
       "    <tr>\n",
       "      <th>15583</th>\n",
       "      <td>15584</td>\n",
       "      <td>1</td>\n",
       "      <td>548.45</td>\n",
       "      <td>4495.70</td>\n",
       "      <td>0.00</td>\n",
       "      <td>0.00</td>\n",
       "      <td>60.57</td>\n",
       "      <td>958.12</td>\n",
       "      <td>0</td>\n",
       "      <td>0</td>\n",
       "      <td>1</td>\n",
       "      <td>548.45</td>\n",
       "      <td>4435.13</td>\n",
       "      <td>-958.12</td>\n",
       "      <td>1341.820000</td>\n",
       "    </tr>\n",
       "    <tr>\n",
       "      <th>46113</th>\n",
       "      <td>46114</td>\n",
       "      <td>1</td>\n",
       "      <td>3041.69</td>\n",
       "      <td>490.24</td>\n",
       "      <td>0.00</td>\n",
       "      <td>0.00</td>\n",
       "      <td>0.00</td>\n",
       "      <td>0.00</td>\n",
       "      <td>1</td>\n",
       "      <td>0</td>\n",
       "      <td>1</td>\n",
       "      <td>3041.69</td>\n",
       "      <td>490.24</td>\n",
       "      <td>0.00</td>\n",
       "      <td>1177.310000</td>\n",
       "    </tr>\n",
       "    <tr>\n",
       "      <th>28253</th>\n",
       "      <td>28254</td>\n",
       "      <td>1</td>\n",
       "      <td>9.56</td>\n",
       "      <td>2845.37</td>\n",
       "      <td>0.00</td>\n",
       "      <td>0.00</td>\n",
       "      <td>0.00</td>\n",
       "      <td>0.00</td>\n",
       "      <td>1</td>\n",
       "      <td>0</td>\n",
       "      <td>1</td>\n",
       "      <td>9.56</td>\n",
       "      <td>2845.37</td>\n",
       "      <td>0.00</td>\n",
       "      <td>951.643333</td>\n",
       "    </tr>\n",
       "    <tr>\n",
       "      <th>11619</th>\n",
       "      <td>11620</td>\n",
       "      <td>1</td>\n",
       "      <td>841.11</td>\n",
       "      <td>1265.30</td>\n",
       "      <td>520.47</td>\n",
       "      <td>39.83</td>\n",
       "      <td>0.00</td>\n",
       "      <td>152.72</td>\n",
       "      <td>0</td>\n",
       "      <td>0</td>\n",
       "      <td>1</td>\n",
       "      <td>801.28</td>\n",
       "      <td>1265.30</td>\n",
       "      <td>367.75</td>\n",
       "      <td>811.443333</td>\n",
       "    </tr>\n",
       "    <tr>\n",
       "      <th>9455</th>\n",
       "      <td>9456</td>\n",
       "      <td>1</td>\n",
       "      <td>2329.02</td>\n",
       "      <td>0.00</td>\n",
       "      <td>0.00</td>\n",
       "      <td>0.00</td>\n",
       "      <td>0.00</td>\n",
       "      <td>0.00</td>\n",
       "      <td>0</td>\n",
       "      <td>0</td>\n",
       "      <td>1</td>\n",
       "      <td>2329.02</td>\n",
       "      <td>0.00</td>\n",
       "      <td>0.00</td>\n",
       "      <td>776.340000</td>\n",
       "    </tr>\n",
       "    <tr>\n",
       "      <th>...</th>\n",
       "      <td>...</td>\n",
       "      <td>...</td>\n",
       "      <td>...</td>\n",
       "      <td>...</td>\n",
       "      <td>...</td>\n",
       "      <td>...</td>\n",
       "      <td>...</td>\n",
       "      <td>...</td>\n",
       "      <td>...</td>\n",
       "      <td>...</td>\n",
       "      <td>...</td>\n",
       "      <td>...</td>\n",
       "      <td>...</td>\n",
       "      <td>...</td>\n",
       "      <td>...</td>\n",
       "    </tr>\n",
       "    <tr>\n",
       "      <th>37117</th>\n",
       "      <td>37118</td>\n",
       "      <td>1</td>\n",
       "      <td>0.00</td>\n",
       "      <td>0.00</td>\n",
       "      <td>395.87</td>\n",
       "      <td>0.00</td>\n",
       "      <td>0.00</td>\n",
       "      <td>2609.93</td>\n",
       "      <td>0</td>\n",
       "      <td>0</td>\n",
       "      <td>1</td>\n",
       "      <td>0.00</td>\n",
       "      <td>0.00</td>\n",
       "      <td>-2214.06</td>\n",
       "      <td>-738.020000</td>\n",
       "    </tr>\n",
       "    <tr>\n",
       "      <th>32253</th>\n",
       "      <td>32254</td>\n",
       "      <td>1</td>\n",
       "      <td>0.00</td>\n",
       "      <td>16.98</td>\n",
       "      <td>0.00</td>\n",
       "      <td>817.08</td>\n",
       "      <td>1268.78</td>\n",
       "      <td>831.46</td>\n",
       "      <td>0</td>\n",
       "      <td>0</td>\n",
       "      <td>1</td>\n",
       "      <td>-817.08</td>\n",
       "      <td>-1251.80</td>\n",
       "      <td>-831.46</td>\n",
       "      <td>-966.780000</td>\n",
       "    </tr>\n",
       "    <tr>\n",
       "      <th>16115</th>\n",
       "      <td>16116</td>\n",
       "      <td>1</td>\n",
       "      <td>0.00</td>\n",
       "      <td>319.79</td>\n",
       "      <td>741.52</td>\n",
       "      <td>0.00</td>\n",
       "      <td>551.99</td>\n",
       "      <td>4181.45</td>\n",
       "      <td>1</td>\n",
       "      <td>0</td>\n",
       "      <td>0</td>\n",
       "      <td>0.00</td>\n",
       "      <td>-232.20</td>\n",
       "      <td>-3439.93</td>\n",
       "      <td>-1224.043333</td>\n",
       "    </tr>\n",
       "    <tr>\n",
       "      <th>39808</th>\n",
       "      <td>39809</td>\n",
       "      <td>1</td>\n",
       "      <td>471.24</td>\n",
       "      <td>11505.13</td>\n",
       "      <td>759.90</td>\n",
       "      <td>14345.02</td>\n",
       "      <td>5224.27</td>\n",
       "      <td>2414.45</td>\n",
       "      <td>1</td>\n",
       "      <td>0</td>\n",
       "      <td>1</td>\n",
       "      <td>-13873.78</td>\n",
       "      <td>6280.86</td>\n",
       "      <td>-1654.55</td>\n",
       "      <td>-3082.490000</td>\n",
       "    </tr>\n",
       "    <tr>\n",
       "      <th>4264</th>\n",
       "      <td>4265</td>\n",
       "      <td>1</td>\n",
       "      <td>0.00</td>\n",
       "      <td>265.17</td>\n",
       "      <td>961.92</td>\n",
       "      <td>0.00</td>\n",
       "      <td>0.00</td>\n",
       "      <td>12135.69</td>\n",
       "      <td>0</td>\n",
       "      <td>0</td>\n",
       "      <td>1</td>\n",
       "      <td>0.00</td>\n",
       "      <td>265.17</td>\n",
       "      <td>-11173.77</td>\n",
       "      <td>-3636.200000</td>\n",
       "    </tr>\n",
       "  </tbody>\n",
       "</table>\n",
       "<p>45143 rows × 15 columns</p>\n",
       "</div>"
      ],
      "text/plain": [
       "       CUST_ID  CONSENT_COMMUNICATION  SALES_AFTER_SENDOUT_1  \\\n",
       "15583    15584                      1                 548.45   \n",
       "46113    46114                      1                3041.69   \n",
       "28253    28254                      1                   9.56   \n",
       "11619    11620                      1                 841.11   \n",
       "9455      9456                      1                2329.02   \n",
       "...        ...                    ...                    ...   \n",
       "37117    37118                      1                   0.00   \n",
       "32253    32254                      1                   0.00   \n",
       "16115    16116                      1                   0.00   \n",
       "39808    39809                      1                 471.24   \n",
       "4264      4265                      1                   0.00   \n",
       "\n",
       "       SALES_AFTER_SENDOUT_2  SALES_AFTER_SENDOUT_3  SALES_BEFORE_SENDOUT_1  \\\n",
       "15583                4495.70                   0.00                    0.00   \n",
       "46113                 490.24                   0.00                    0.00   \n",
       "28253                2845.37                   0.00                    0.00   \n",
       "11619                1265.30                 520.47                   39.83   \n",
       "9455                    0.00                   0.00                    0.00   \n",
       "...                      ...                    ...                     ...   \n",
       "37117                   0.00                 395.87                    0.00   \n",
       "32253                  16.98                   0.00                  817.08   \n",
       "16115                 319.79                 741.52                    0.00   \n",
       "39808               11505.13                 759.90                14345.02   \n",
       "4264                  265.17                 961.92                    0.00   \n",
       "\n",
       "       SALES_BEFORE_SENDOUT_2  SALES_BEFORE_SENDOUT_3  SENDOUT_1  SENDOUT_2  \\\n",
       "15583                   60.57                  958.12          0          0   \n",
       "46113                    0.00                    0.00          1          0   \n",
       "28253                    0.00                    0.00          1          0   \n",
       "11619                    0.00                  152.72          0          0   \n",
       "9455                     0.00                    0.00          0          0   \n",
       "...                       ...                     ...        ...        ...   \n",
       "37117                    0.00                 2609.93          0          0   \n",
       "32253                 1268.78                  831.46          0          0   \n",
       "16115                  551.99                 4181.45          1          0   \n",
       "39808                 5224.27                 2414.45          1          0   \n",
       "4264                     0.00                12135.69          0          0   \n",
       "\n",
       "       SENDOUT_3  PROFIT_1  PROFIT_2  PROFIT_3   AVG_PROFIT  \n",
       "15583          1    548.45   4435.13   -958.12  1341.820000  \n",
       "46113          1   3041.69    490.24      0.00  1177.310000  \n",
       "28253          1      9.56   2845.37      0.00   951.643333  \n",
       "11619          1    801.28   1265.30    367.75   811.443333  \n",
       "9455           1   2329.02      0.00      0.00   776.340000  \n",
       "...          ...       ...       ...       ...          ...  \n",
       "37117          1      0.00      0.00  -2214.06  -738.020000  \n",
       "32253          1   -817.08  -1251.80   -831.46  -966.780000  \n",
       "16115          0      0.00   -232.20  -3439.93 -1224.043333  \n",
       "39808          1 -13873.78   6280.86  -1654.55 -3082.490000  \n",
       "4264           1      0.00    265.17 -11173.77 -3636.200000  \n",
       "\n",
       "[45143 rows x 15 columns]"
      ]
     },
     "execution_count": 89,
     "metadata": {},
     "output_type": "execute_result"
    }
   ],
   "source": [
    "data_to_sendout = data_final.sort_values(by=\"AVG_PROFIT\", ascending=False)\n",
    "data_to_sendout"
   ]
  },
  {
   "cell_type": "code",
   "execution_count": 90,
   "metadata": {},
   "outputs": [
    {
     "data": {
      "text/plain": [
       "15583    15584\n",
       "46113    46114\n",
       "28253    28254\n",
       "11619    11620\n",
       "9455      9456\n",
       "         ...  \n",
       "16404    16405\n",
       "10967    10968\n",
       "28716    28717\n",
       "22110    22111\n",
       "16977    16978\n",
       "Name: CUST_ID, Length: 15000, dtype: int64"
      ]
     },
     "execution_count": 90,
     "metadata": {},
     "output_type": "execute_result"
    }
   ],
   "source": [
    "final_list_1 = data_to_sendout.head(15000).CUST_ID\n",
    "final_list_1"
   ]
  },
  {
   "cell_type": "markdown",
   "metadata": {
    "tags": []
   },
   "source": [
    "#### Ad.2 Clustering"
   ]
  },
  {
   "cell_type": "markdown",
   "metadata": {},
   "source": [
    "- tu jest więcej opcji klusteryzacji - jest też hieralchical więc lepiej zostać przy sklearn: \\\n",
    "https://scikit-learn.org/stable/modules/clustering.html"
   ]
  },
  {
   "cell_type": "markdown",
   "metadata": {},
   "source": [
    "a) K-Means Clustering"
   ]
  },
  {
   "cell_type": "markdown",
   "metadata": {},
   "source": [
    "- przed k-means warto \"przestandaryzować\" dane: \\\n",
    "https://scikit-learn.org/stable/modules/generated/sklearn.preprocessing.StandardScaler.html"
   ]
  },
  {
   "cell_type": "code",
   "execution_count": 91,
   "metadata": {},
   "outputs": [],
   "source": [
    "from sklearn.cluster import KMeans\n",
    "from sklearn.metrics import silhouette_score\n",
    "\n",
    "from scipy.cluster.hierarchy import linkage\n",
    "from scipy.cluster.hierarchy import dendrogram\n",
    "from scipy.cluster.hierarchy import cut_tree"
   ]
  },
  {
   "cell_type": "code",
   "execution_count": 92,
   "metadata": {},
   "outputs": [
    {
     "data": {
      "text/plain": [
       "KMeans(max_iter=1000, n_clusters=3)"
      ]
     },
     "execution_count": 92,
     "metadata": {},
     "output_type": "execute_result"
    }
   ],
   "source": [
    "kmeans = KMeans(n_clusters= 3, max_iter=1000) \n",
    "kmeans.fit(data_final)"
   ]
  },
  {
   "cell_type": "code",
   "execution_count": 93,
   "metadata": {},
   "outputs": [
    {
     "data": {
      "text/plain": [
       "array([1, 1, 1, ..., 2, 2, 2], dtype=int32)"
      ]
     },
     "execution_count": 93,
     "metadata": {},
     "output_type": "execute_result"
    }
   ],
   "source": [
    "kmeans.labels_"
   ]
  },
  {
   "cell_type": "code",
   "execution_count": 94,
   "metadata": {},
   "outputs": [
    {
     "data": {
      "text/plain": [
       "[<matplotlib.lines.Line2D at 0x7ff8d8033250>]"
      ]
     },
     "execution_count": 94,
     "metadata": {},
     "output_type": "execute_result"
    },
    {
     "data": {
      "image/png": "[encoded data removed]",
      "text/plain": [
       "<Figure size 432x288 with 1 Axes>"
      ]
     },
     "metadata": {
      "needs_background": "light"
     },
     "output_type": "display_data"
    }
   ],
   "source": [
    "# metoda łokcia - elbow-curve\n",
    "ssd = [] # Sum of squared distances\n",
    "range_n_clusters = [2, 3, 4, 5, 6] #sprawdzamy dla danej ilosci klastrów\n",
    "for num_clusters in range_n_clusters:\n",
    "    kmeans = KMeans(n_clusters=num_clusters, max_iter=1000)\n",
    "    kmeans.fit(data_final)\n",
    "    \n",
    "    ssd.append(kmeans.inertia_) # Sum of squared distances\n",
    "\n",
    "plt.plot(ssd)"
   ]
  },
  {
   "cell_type": "code",
   "execution_count": 95,
   "metadata": {},
   "outputs": [
    {
     "name": "stdout",
     "output_type": "stream",
     "text": [
      "For n_clusters=2, the silhouette score is 0.6254652140977416\n",
      "For n_clusters=3, the silhouette score is 0.5879920636618229\n",
      "For n_clusters=4, the silhouette score is 0.5681786336933963\n",
      "For n_clusters=5, the silhouette score is 0.5554194289719718\n",
      "For n_clusters=6, the silhouette score is 0.5460879625866222\n"
     ]
    }
   ],
   "source": [
    "# Miara wewnętrzna - wskaźnik sylwetkowy- silhouette (Sillwet )method\n",
    "\n",
    "range_n_clusters = [2, 3, 4, 5, 6]\n",
    "\n",
    "for num_clusters in range_n_clusters:\n",
    "    \n",
    "    # intialise kmeans\n",
    "    kmeans = KMeans(n_clusters=num_clusters, max_iter=1000)\n",
    "    kmeans.fit(data_final)\n",
    "    \n",
    "    cluster_labels = kmeans.labels_\n",
    "    \n",
    "    # silhouette score\n",
    "    silhouette_avg = silhouette_score(data_final, cluster_labels)\n",
    "    print(\"For n_clusters={0}, the silhouette score is {1}\".format(num_clusters, silhouette_avg))"
   ]
  },
  {
   "cell_type": "code",
   "execution_count": 96,
   "metadata": {},
   "outputs": [
    {
     "data": {
      "text/plain": [
       "KMeans(max_iter=1000, n_clusters=3, random_state=42)"
      ]
     },
     "execution_count": 96,
     "metadata": {},
     "output_type": "execute_result"
    }
   ],
   "source": [
    "kmeans = KMeans(n_clusters=3, max_iter=1000, random_state=42)\n",
    "kmeans.fit(data_final)"
   ]
  },
  {
   "cell_type": "code",
   "execution_count": 97,
   "metadata": {},
   "outputs": [
    {
     "data": {
      "text/plain": [
       "array([1, 1, 1, ..., 0, 0, 0], dtype=int32)"
      ]
     },
     "execution_count": 97,
     "metadata": {},
     "output_type": "execute_result"
    }
   ],
   "source": [
    "kmeans.labels_"
   ]
  },
  {
   "cell_type": "code",
   "execution_count": 98,
   "metadata": {},
   "outputs": [],
   "source": [
    "data_final['K-Means_Cluster_ID'] = kmeans.labels_"
   ]
  },
  {
   "cell_type": "code",
   "execution_count": 99,
   "metadata": {},
   "outputs": [
    {
     "data": {
      "text/plain": [
       "<AxesSubplot:xlabel='K-Means_Cluster_ID', ylabel='AVG_PROFIT'>"
      ]
     },
     "execution_count": 99,
     "metadata": {},
     "output_type": "execute_result"
    },
    {
     "data": {
      "image/png": "[encoded data removed]",
      "text/plain": [
       "<Figure size 576x288 with 1 Axes>"
      ]
     },
     "metadata": {
      "needs_background": "light"
     },
     "output_type": "display_data"
    }
   ],
   "source": [
    "plt.figure(figsize=(8,4))  \n",
    "\n",
    "sns.boxplot(x='K-Means_Cluster_ID', y='AVG_PROFIT', data=data_final)\n"
   ]
  },
  {
   "cell_type": "markdown",
   "metadata": {},
   "source": [
    "Po wykonaniu klasteryzacji K-means i pogrupowaniu danych do 3 klastrów - do wysyłki komunikacji wybieram klientów pogrupowanych w klastrze nr 2. "
   ]
  },
  {
   "cell_type": "markdown",
   "metadata": {},
   "source": [
    "- dlaczego???"
   ]
  },
  {
   "cell_type": "code",
   "execution_count": 100,
   "metadata": {},
   "outputs": [
    {
     "data": {
      "text/plain": [
       "16678    16679\n",
       "16679    16680\n",
       "16680    16681\n",
       "16681    16682\n",
       "16682    16683\n",
       "         ...  \n",
       "33337    33338\n",
       "33338    33339\n",
       "33339    33340\n",
       "33340    33341\n",
       "33341    33342\n",
       "Name: CUST_ID, Length: 15043, dtype: int64"
      ]
     },
     "execution_count": 100,
     "metadata": {},
     "output_type": "execute_result"
    }
   ],
   "source": [
    "final_list_2 = data_final[data_final['K-Means_Cluster_ID'] == 2].CUST_ID\n",
    "final_list_2"
   ]
  },
  {
   "cell_type": "markdown",
   "metadata": {},
   "source": [
    "<hr>\n",
    "\n",
    " - użyłbym jeszcze hdbsacn zamiast hieralchical - zwraca dodatkowo outliery, pewnie tych klastrów będzie więcej, ale może być ciekawiej :)\n",
    " - outlierami mogą być np. najbardziej zyskowni klienci, więc warto też ich uwzględnic a nie odrzucać\n",
    " - wybierasz wtedy top 10 z największym średnim profitem"
   ]
  },
  {
   "cell_type": "markdown",
   "metadata": {},
   "source": [
    "b) Hierarchical Clustering"
   ]
  },
  {
   "cell_type": "code",
   "execution_count": null,
   "metadata": {},
   "outputs": [],
   "source": [
    "from sklearn.preprocessing import StandardScaler\n",
    "scaler = StandardScaler()\n",
    "data_final_scaled = scaler.fit_transform(data_final)"
   ]
  },
  {
   "cell_type": "code",
   "execution_count": null,
   "metadata": {},
   "outputs": [],
   "source": [
    "data_final_scaled[:5, :5]"
   ]
  },
  {
   "cell_type": "code",
   "execution_count": null,
   "metadata": {},
   "outputs": [],
   "source": [
    "#po skalowaniu dostaliśmy wektor i trzeba zów sttworzyć z tego dataframe\n",
    "data_final_scaled_df = pd.DataFrame(data_final_scaled, columns=data_final.columns)\n",
    "data_final_scaled_df.head()"
   ]
  },
  {
   "cell_type": "code",
   "execution_count": null,
   "metadata": {},
   "outputs": [],
   "source": [
    "# single linkage\n",
    "sl_mergings = linkage(data_final_scaled_df, method=\"single\", metric='euclidean')\n",
    "dendrogram(sl_mergings)\n",
    "plt.show()"
   ]
  },
  {
   "cell_type": "code",
   "execution_count": null,
   "metadata": {},
   "outputs": [],
   "source": [
    "# complete linkage\n",
    "cl_mergings = linkage(data_final_scaled_df, method=\"complete\", metric='euclidean')\n",
    "dendrogram(cl_mergings)\n",
    "plt.show()"
   ]
  },
  {
   "cell_type": "markdown",
   "metadata": {},
   "source": [
    "# NEXT STEPS"
   ]
  },
  {
   "cell_type": "markdown",
   "metadata": {},
   "source": [
    "- czyli jak rozszerzyć analizę, Twoje przemyslenia np.:\n",
    "- sprawdzić i przeanalizowac więcej modeli\n",
    "- zastanowić się czy zysk jest na pewno najlepsza miarą - może ilość klientów będzie lepsza\n",
    "- klasyfikacja, dla nowych klientów - np. klienci którzy mieli 10% zysku vs. inni\n",
    "- zdobyć więcej informacji o klientach zeby przygotować profil klienta i roszerzyć analizę \n",
    "- systemy rekomendacji (???)\n",
    "- może coś jesszcze przychodzi Ci do głowy\n"
   ]
  },
  {
   "cell_type": "code",
   "execution_count": null,
   "metadata": {},
   "outputs": [],
   "source": []
  }
 ],
 "metadata": {
  "kernelspec": {
   "display_name": "Python 3",
   "language": "python",
   "name": "python3"
  },
  "language_info": {
   "codemirror_mode": {
    "name": "ipython",
    "version": 3
   },
   "file_extension": ".py",
   "mimetype": "text/x-python",
   "name": "python",
   "nbconvert_exporter": "python",
   "pygments_lexer": "ipython3",
   "version": "3.7.6"
  }
 },
 "nbformat": 4,
 "nbformat_minor": 4
}
