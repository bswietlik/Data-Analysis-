{
 "cells": [
  {
   "cell_type": "code",
   "execution_count": 1,
   "metadata": {},
   "outputs": [],
   "source": [
    "import pandas as pd\n",
    "import numpy as np"
   ]
  },
  {
   "cell_type": "markdown",
   "metadata": {},
   "source": [
    "#### 1. DATA PROCESSING Opening files"
   ]
  },
  {
   "cell_type": "code",
   "execution_count": 2,
   "metadata": {},
   "outputs": [
    {
     "data": {
      "text/html": [
       "<div>\n",
       "<style scoped>\n",
       "    .dataframe tbody tr th:only-of-type {\n",
       "        vertical-align: middle;\n",
       "    }\n",
       "\n",
       "    .dataframe tbody tr th {\n",
       "        vertical-align: top;\n",
       "    }\n",
       "\n",
       "    .dataframe thead th {\n",
       "        text-align: right;\n",
       "    }\n",
       "</style>\n",
       "<table border=\"1\" class=\"dataframe\">\n",
       "  <thead>\n",
       "    <tr style=\"text-align: right;\">\n",
       "      <th></th>\n",
       "      <th>CUST_ID</th>\n",
       "      <th>CONSENT_COMMUNICATION</th>\n",
       "    </tr>\n",
       "  </thead>\n",
       "  <tbody>\n",
       "    <tr>\n",
       "      <th>0</th>\n",
       "      <td>1</td>\n",
       "      <td>1</td>\n",
       "    </tr>\n",
       "    <tr>\n",
       "      <th>1</th>\n",
       "      <td>2</td>\n",
       "      <td>0</td>\n",
       "    </tr>\n",
       "    <tr>\n",
       "      <th>2</th>\n",
       "      <td>3</td>\n",
       "      <td>0</td>\n",
       "    </tr>\n",
       "    <tr>\n",
       "      <th>3</th>\n",
       "      <td>4</td>\n",
       "      <td>1</td>\n",
       "    </tr>\n",
       "    <tr>\n",
       "      <th>4</th>\n",
       "      <td>5</td>\n",
       "      <td>0</td>\n",
       "    </tr>\n",
       "  </tbody>\n",
       "</table>\n",
       "</div>"
      ],
      "text/plain": [
       "   CUST_ID  CONSENT_COMMUNICATION\n",
       "0        1                      1\n",
       "1        2                      0\n",
       "2        3                      0\n",
       "3        4                      1\n",
       "4        5                      0"
      ]
     },
     "execution_count": 2,
     "metadata": {},
     "output_type": "execute_result"
    }
   ],
   "source": [
    "consent = pd.read_csv('consent.csv')\n",
    "consent.head()"
   ]
  },
  {
   "cell_type": "code",
   "execution_count": 3,
   "metadata": {},
   "outputs": [
    {
     "data": {
      "text/html": [
       "<div>\n",
       "<style scoped>\n",
       "    .dataframe tbody tr th:only-of-type {\n",
       "        vertical-align: middle;\n",
       "    }\n",
       "\n",
       "    .dataframe tbody tr th {\n",
       "        vertical-align: top;\n",
       "    }\n",
       "\n",
       "    .dataframe thead th {\n",
       "        text-align: right;\n",
       "    }\n",
       "</style>\n",
       "<table border=\"1\" class=\"dataframe\">\n",
       "  <thead>\n",
       "    <tr style=\"text-align: right;\">\n",
       "      <th></th>\n",
       "      <th>CUST_ID</th>\n",
       "      <th>TYPE</th>\n",
       "      <th>VALUE</th>\n",
       "    </tr>\n",
       "  </thead>\n",
       "  <tbody>\n",
       "    <tr>\n",
       "      <th>0</th>\n",
       "      <td>1</td>\n",
       "      <td>SALES_BEFORE_SENDOUT_1</td>\n",
       "      <td>0.000000</td>\n",
       "    </tr>\n",
       "    <tr>\n",
       "      <th>1</th>\n",
       "      <td>2</td>\n",
       "      <td>SALES_BEFORE_SENDOUT_1</td>\n",
       "      <td>0.000000</td>\n",
       "    </tr>\n",
       "    <tr>\n",
       "      <th>2</th>\n",
       "      <td>3</td>\n",
       "      <td>SALES_BEFORE_SENDOUT_1</td>\n",
       "      <td>0.000000</td>\n",
       "    </tr>\n",
       "    <tr>\n",
       "      <th>3</th>\n",
       "      <td>4</td>\n",
       "      <td>SALES_BEFORE_SENDOUT_1</td>\n",
       "      <td>161.812215</td>\n",
       "    </tr>\n",
       "    <tr>\n",
       "      <th>4</th>\n",
       "      <td>5</td>\n",
       "      <td>SALES_BEFORE_SENDOUT_1</td>\n",
       "      <td>0.000000</td>\n",
       "    </tr>\n",
       "  </tbody>\n",
       "</table>\n",
       "</div>"
      ],
      "text/plain": [
       "   CUST_ID                    TYPE       VALUE\n",
       "0        1  SALES_BEFORE_SENDOUT_1    0.000000\n",
       "1        2  SALES_BEFORE_SENDOUT_1    0.000000\n",
       "2        3  SALES_BEFORE_SENDOUT_1    0.000000\n",
       "3        4  SALES_BEFORE_SENDOUT_1  161.812215\n",
       "4        5  SALES_BEFORE_SENDOUT_1    0.000000"
      ]
     },
     "execution_count": 3,
     "metadata": {},
     "output_type": "execute_result"
    }
   ],
   "source": [
    "sales = pd.read_csv('sales.csv')\n",
    "sales.head()"
   ]
  },
  {
   "cell_type": "code",
   "execution_count": 4,
   "metadata": {},
   "outputs": [
    {
     "data": {
      "text/html": [
       "<div>\n",
       "<style scoped>\n",
       "    .dataframe tbody tr th:only-of-type {\n",
       "        vertical-align: middle;\n",
       "    }\n",
       "\n",
       "    .dataframe tbody tr th {\n",
       "        vertical-align: top;\n",
       "    }\n",
       "\n",
       "    .dataframe thead th {\n",
       "        text-align: right;\n",
       "    }\n",
       "</style>\n",
       "<table border=\"1\" class=\"dataframe\">\n",
       "  <thead>\n",
       "    <tr style=\"text-align: right;\">\n",
       "      <th></th>\n",
       "      <th>CUST_ID</th>\n",
       "      <th>TYPE</th>\n",
       "      <th>VALUE</th>\n",
       "    </tr>\n",
       "  </thead>\n",
       "  <tbody>\n",
       "    <tr>\n",
       "      <th>9</th>\n",
       "      <td>10</td>\n",
       "      <td>SALES_BEFORE_SENDOUT_1</td>\n",
       "      <td>68.073858</td>\n",
       "    </tr>\n",
       "    <tr>\n",
       "      <th>50009</th>\n",
       "      <td>10</td>\n",
       "      <td>SALES_AFTER_SENDOUT_1</td>\n",
       "      <td>11.136352</td>\n",
       "    </tr>\n",
       "    <tr>\n",
       "      <th>100009</th>\n",
       "      <td>10</td>\n",
       "      <td>SALES_BEFORE_SENDOUT_2</td>\n",
       "      <td>0.000000</td>\n",
       "    </tr>\n",
       "    <tr>\n",
       "      <th>150009</th>\n",
       "      <td>10</td>\n",
       "      <td>SALES_AFTER_SENDOUT_2</td>\n",
       "      <td>0.000000</td>\n",
       "    </tr>\n",
       "    <tr>\n",
       "      <th>200009</th>\n",
       "      <td>10</td>\n",
       "      <td>SALES_BEFORE_SENDOUT_3</td>\n",
       "      <td>0.000000</td>\n",
       "    </tr>\n",
       "    <tr>\n",
       "      <th>250009</th>\n",
       "      <td>10</td>\n",
       "      <td>SALES_AFTER_SENDOUT_3</td>\n",
       "      <td>0.000000</td>\n",
       "    </tr>\n",
       "  </tbody>\n",
       "</table>\n",
       "</div>"
      ],
      "text/plain": [
       "        CUST_ID                    TYPE      VALUE\n",
       "9            10  SALES_BEFORE_SENDOUT_1  68.073858\n",
       "50009        10   SALES_AFTER_SENDOUT_1  11.136352\n",
       "100009       10  SALES_BEFORE_SENDOUT_2   0.000000\n",
       "150009       10   SALES_AFTER_SENDOUT_2   0.000000\n",
       "200009       10  SALES_BEFORE_SENDOUT_3   0.000000\n",
       "250009       10   SALES_AFTER_SENDOUT_3   0.000000"
      ]
     },
     "execution_count": 4,
     "metadata": {},
     "output_type": "execute_result"
    }
   ],
   "source": [
    "sales[sales['CUST_ID'] == 10]"
   ]
  },
  {
   "cell_type": "code",
   "execution_count": 5,
   "metadata": {},
   "outputs": [
    {
     "data": {
      "text/plain": [
       "SALES_BEFORE_SENDOUT_3    50000\n",
       "SALES_AFTER_SENDOUT_1     50000\n",
       "SALES_BEFORE_SENDOUT_2    50000\n",
       "SALES_AFTER_SENDOUT_3     50000\n",
       "SALES_BEFORE_SENDOUT_1    50000\n",
       "SALES_AFTER_SENDOUT_2     50000\n",
       "Name: TYPE, dtype: int64"
      ]
     },
     "execution_count": 5,
     "metadata": {},
     "output_type": "execute_result"
    }
   ],
   "source": [
    "sales['TYPE'].value_counts()"
   ]
  },
  {
   "cell_type": "code",
   "execution_count": 6,
   "metadata": {},
   "outputs": [
    {
     "data": {
      "text/html": [
       "<div>\n",
       "<style scoped>\n",
       "    .dataframe tbody tr th:only-of-type {\n",
       "        vertical-align: middle;\n",
       "    }\n",
       "\n",
       "    .dataframe tbody tr th {\n",
       "        vertical-align: top;\n",
       "    }\n",
       "\n",
       "    .dataframe thead th {\n",
       "        text-align: right;\n",
       "    }\n",
       "</style>\n",
       "<table border=\"1\" class=\"dataframe\">\n",
       "  <thead>\n",
       "    <tr style=\"text-align: right;\">\n",
       "      <th></th>\n",
       "      <th>CUST_ID</th>\n",
       "      <th>VALUE</th>\n",
       "    </tr>\n",
       "    <tr>\n",
       "      <th>TYPE</th>\n",
       "      <th></th>\n",
       "      <th></th>\n",
       "    </tr>\n",
       "  </thead>\n",
       "  <tbody>\n",
       "    <tr>\n",
       "      <th>SALES_AFTER_SENDOUT_1</th>\n",
       "      <td>25000.5</td>\n",
       "      <td>200036.075776</td>\n",
       "    </tr>\n",
       "    <tr>\n",
       "      <th>SALES_AFTER_SENDOUT_2</th>\n",
       "      <td>25000.5</td>\n",
       "      <td>-199944.284490</td>\n",
       "    </tr>\n",
       "    <tr>\n",
       "      <th>SALES_AFTER_SENDOUT_3</th>\n",
       "      <td>25000.5</td>\n",
       "      <td>34.026956</td>\n",
       "    </tr>\n",
       "    <tr>\n",
       "      <th>SALES_BEFORE_SENDOUT_1</th>\n",
       "      <td>25000.5</td>\n",
       "      <td>200022.021146</td>\n",
       "    </tr>\n",
       "    <tr>\n",
       "      <th>SALES_BEFORE_SENDOUT_2</th>\n",
       "      <td>25000.5</td>\n",
       "      <td>38.008010</td>\n",
       "    </tr>\n",
       "    <tr>\n",
       "      <th>SALES_BEFORE_SENDOUT_3</th>\n",
       "      <td>25000.5</td>\n",
       "      <td>27.911076</td>\n",
       "    </tr>\n",
       "  </tbody>\n",
       "</table>\n",
       "</div>"
      ],
      "text/plain": [
       "                        CUST_ID          VALUE\n",
       "TYPE                                          \n",
       "SALES_AFTER_SENDOUT_1   25000.5  200036.075776\n",
       "SALES_AFTER_SENDOUT_2   25000.5 -199944.284490\n",
       "SALES_AFTER_SENDOUT_3   25000.5      34.026956\n",
       "SALES_BEFORE_SENDOUT_1  25000.5  200022.021146\n",
       "SALES_BEFORE_SENDOUT_2  25000.5      38.008010\n",
       "SALES_BEFORE_SENDOUT_3  25000.5      27.911076"
      ]
     },
     "execution_count": 6,
     "metadata": {},
     "output_type": "execute_result"
    }
   ],
   "source": [
    "sales.groupby('TYPE').mean()"
   ]
  },
  {
   "cell_type": "code",
   "execution_count": 7,
   "metadata": {},
   "outputs": [
    {
     "data": {
      "text/html": [
       "<div>\n",
       "<style scoped>\n",
       "    .dataframe tbody tr th:only-of-type {\n",
       "        vertical-align: middle;\n",
       "    }\n",
       "\n",
       "    .dataframe tbody tr th {\n",
       "        vertical-align: top;\n",
       "    }\n",
       "\n",
       "    .dataframe thead th {\n",
       "        text-align: right;\n",
       "    }\n",
       "</style>\n",
       "<table border=\"1\" class=\"dataframe\">\n",
       "  <thead>\n",
       "    <tr style=\"text-align: right;\">\n",
       "      <th></th>\n",
       "      <th>CUST_ID</th>\n",
       "      <th>TYPE</th>\n",
       "      <th>VALUE</th>\n",
       "    </tr>\n",
       "  </thead>\n",
       "  <tbody>\n",
       "    <tr>\n",
       "      <th>0</th>\n",
       "      <td>1</td>\n",
       "      <td>SENDOUT_1</td>\n",
       "      <td>1</td>\n",
       "    </tr>\n",
       "    <tr>\n",
       "      <th>1</th>\n",
       "      <td>2</td>\n",
       "      <td>SENDOUT_1</td>\n",
       "      <td>0</td>\n",
       "    </tr>\n",
       "    <tr>\n",
       "      <th>2</th>\n",
       "      <td>3</td>\n",
       "      <td>SENDOUT_1</td>\n",
       "      <td>0</td>\n",
       "    </tr>\n",
       "    <tr>\n",
       "      <th>3</th>\n",
       "      <td>4</td>\n",
       "      <td>SENDOUT_1</td>\n",
       "      <td>1</td>\n",
       "    </tr>\n",
       "    <tr>\n",
       "      <th>4</th>\n",
       "      <td>5</td>\n",
       "      <td>SENDOUT_1</td>\n",
       "      <td>0</td>\n",
       "    </tr>\n",
       "  </tbody>\n",
       "</table>\n",
       "</div>"
      ],
      "text/plain": [
       "   CUST_ID       TYPE  VALUE\n",
       "0        1  SENDOUT_1      1\n",
       "1        2  SENDOUT_1      0\n",
       "2        3  SENDOUT_1      0\n",
       "3        4  SENDOUT_1      1\n",
       "4        5  SENDOUT_1      0"
      ]
     },
     "execution_count": 7,
     "metadata": {},
     "output_type": "execute_result"
    }
   ],
   "source": [
    "sendout= pd.read_csv('sendout.csv')\n",
    "sendout.head()"
   ]
  },
  {
   "cell_type": "code",
   "execution_count": 8,
   "metadata": {},
   "outputs": [
    {
     "data": {
      "text/html": [
       "<div>\n",
       "<style scoped>\n",
       "    .dataframe tbody tr th:only-of-type {\n",
       "        vertical-align: middle;\n",
       "    }\n",
       "\n",
       "    .dataframe tbody tr th {\n",
       "        vertical-align: top;\n",
       "    }\n",
       "\n",
       "    .dataframe thead th {\n",
       "        text-align: right;\n",
       "    }\n",
       "</style>\n",
       "<table border=\"1\" class=\"dataframe\">\n",
       "  <thead>\n",
       "    <tr style=\"text-align: right;\">\n",
       "      <th></th>\n",
       "      <th>TYPE</th>\n",
       "      <th>VALUE</th>\n",
       "    </tr>\n",
       "    <tr>\n",
       "      <th>CUST_ID</th>\n",
       "      <th></th>\n",
       "      <th></th>\n",
       "    </tr>\n",
       "  </thead>\n",
       "  <tbody>\n",
       "    <tr>\n",
       "      <th>1</th>\n",
       "      <td>3</td>\n",
       "      <td>3</td>\n",
       "    </tr>\n",
       "    <tr>\n",
       "      <th>2</th>\n",
       "      <td>3</td>\n",
       "      <td>3</td>\n",
       "    </tr>\n",
       "    <tr>\n",
       "      <th>3</th>\n",
       "      <td>3</td>\n",
       "      <td>3</td>\n",
       "    </tr>\n",
       "    <tr>\n",
       "      <th>4</th>\n",
       "      <td>3</td>\n",
       "      <td>3</td>\n",
       "    </tr>\n",
       "    <tr>\n",
       "      <th>5</th>\n",
       "      <td>3</td>\n",
       "      <td>3</td>\n",
       "    </tr>\n",
       "    <tr>\n",
       "      <th>...</th>\n",
       "      <td>...</td>\n",
       "      <td>...</td>\n",
       "    </tr>\n",
       "    <tr>\n",
       "      <th>49996</th>\n",
       "      <td>3</td>\n",
       "      <td>3</td>\n",
       "    </tr>\n",
       "    <tr>\n",
       "      <th>49997</th>\n",
       "      <td>3</td>\n",
       "      <td>3</td>\n",
       "    </tr>\n",
       "    <tr>\n",
       "      <th>49998</th>\n",
       "      <td>3</td>\n",
       "      <td>3</td>\n",
       "    </tr>\n",
       "    <tr>\n",
       "      <th>49999</th>\n",
       "      <td>3</td>\n",
       "      <td>3</td>\n",
       "    </tr>\n",
       "    <tr>\n",
       "      <th>50000</th>\n",
       "      <td>3</td>\n",
       "      <td>3</td>\n",
       "    </tr>\n",
       "  </tbody>\n",
       "</table>\n",
       "<p>50000 rows × 2 columns</p>\n",
       "</div>"
      ],
      "text/plain": [
       "         TYPE  VALUE\n",
       "CUST_ID             \n",
       "1           3      3\n",
       "2           3      3\n",
       "3           3      3\n",
       "4           3      3\n",
       "5           3      3\n",
       "...       ...    ...\n",
       "49996       3      3\n",
       "49997       3      3\n",
       "49998       3      3\n",
       "49999       3      3\n",
       "50000       3      3\n",
       "\n",
       "[50000 rows x 2 columns]"
      ]
     },
     "execution_count": 8,
     "metadata": {},
     "output_type": "execute_result"
    }
   ],
   "source": [
    "sout = sendout.groupby('CUST_ID').count()\n",
    "sout"
   ]
  },
  {
   "cell_type": "markdown",
   "metadata": {},
   "source": [
    "#### Changing table type from \"long\" to \"wide\" "
   ]
  },
  {
   "cell_type": "code",
   "execution_count": 9,
   "metadata": {},
   "outputs": [
    {
     "data": {
      "text/html": [
       "<div>\n",
       "<style scoped>\n",
       "    .dataframe tbody tr th:only-of-type {\n",
       "        vertical-align: middle;\n",
       "    }\n",
       "\n",
       "    .dataframe tbody tr th {\n",
       "        vertical-align: top;\n",
       "    }\n",
       "\n",
       "    .dataframe thead th {\n",
       "        text-align: right;\n",
       "    }\n",
       "</style>\n",
       "<table border=\"1\" class=\"dataframe\">\n",
       "  <thead>\n",
       "    <tr style=\"text-align: right;\">\n",
       "      <th>TYPE</th>\n",
       "      <th>CUST_ID</th>\n",
       "      <th>SALES_AFTER_SENDOUT_1</th>\n",
       "      <th>SALES_AFTER_SENDOUT_2</th>\n",
       "      <th>SALES_AFTER_SENDOUT_3</th>\n",
       "      <th>SALES_BEFORE_SENDOUT_1</th>\n",
       "      <th>SALES_BEFORE_SENDOUT_2</th>\n",
       "      <th>SALES_BEFORE_SENDOUT_3</th>\n",
       "    </tr>\n",
       "  </thead>\n",
       "  <tbody>\n",
       "    <tr>\n",
       "      <th>0</th>\n",
       "      <td>1</td>\n",
       "      <td>46.256184</td>\n",
       "      <td>0.000000</td>\n",
       "      <td>0.000000</td>\n",
       "      <td>0.000000</td>\n",
       "      <td>0.000000</td>\n",
       "      <td>0.0</td>\n",
       "    </tr>\n",
       "    <tr>\n",
       "      <th>1</th>\n",
       "      <td>2</td>\n",
       "      <td>0.000000</td>\n",
       "      <td>59.874689</td>\n",
       "      <td>15.300242</td>\n",
       "      <td>0.000000</td>\n",
       "      <td>52.152643</td>\n",
       "      <td>0.0</td>\n",
       "    </tr>\n",
       "    <tr>\n",
       "      <th>2</th>\n",
       "      <td>3</td>\n",
       "      <td>0.000000</td>\n",
       "      <td>147.683701</td>\n",
       "      <td>0.000000</td>\n",
       "      <td>0.000000</td>\n",
       "      <td>0.000000</td>\n",
       "      <td>0.0</td>\n",
       "    </tr>\n",
       "    <tr>\n",
       "      <th>3</th>\n",
       "      <td>4</td>\n",
       "      <td>64.062829</td>\n",
       "      <td>0.000000</td>\n",
       "      <td>0.000000</td>\n",
       "      <td>161.812215</td>\n",
       "      <td>0.000000</td>\n",
       "      <td>0.0</td>\n",
       "    </tr>\n",
       "    <tr>\n",
       "      <th>4</th>\n",
       "      <td>5</td>\n",
       "      <td>0.000000</td>\n",
       "      <td>0.000000</td>\n",
       "      <td>0.000000</td>\n",
       "      <td>0.000000</td>\n",
       "      <td>176.227903</td>\n",
       "      <td>0.0</td>\n",
       "    </tr>\n",
       "  </tbody>\n",
       "</table>\n",
       "</div>"
      ],
      "text/plain": [
       "TYPE  CUST_ID  SALES_AFTER_SENDOUT_1  SALES_AFTER_SENDOUT_2  \\\n",
       "0           1              46.256184               0.000000   \n",
       "1           2               0.000000              59.874689   \n",
       "2           3               0.000000             147.683701   \n",
       "3           4              64.062829               0.000000   \n",
       "4           5               0.000000               0.000000   \n",
       "\n",
       "TYPE  SALES_AFTER_SENDOUT_3  SALES_BEFORE_SENDOUT_1  SALES_BEFORE_SENDOUT_2  \\\n",
       "0                  0.000000                0.000000                0.000000   \n",
       "1                 15.300242                0.000000               52.152643   \n",
       "2                  0.000000                0.000000                0.000000   \n",
       "3                  0.000000              161.812215                0.000000   \n",
       "4                  0.000000                0.000000              176.227903   \n",
       "\n",
       "TYPE  SALES_BEFORE_SENDOUT_3  \n",
       "0                        0.0  \n",
       "1                        0.0  \n",
       "2                        0.0  \n",
       "3                        0.0  \n",
       "4                        0.0  "
      ]
     },
     "execution_count": 9,
     "metadata": {},
     "output_type": "execute_result"
    }
   ],
   "source": [
    "sales_pivoted= sales.pivot(columns='TYPE', index='CUST_ID', values='VALUE').reset_index()\n",
    "sales_pivoted.head()"
   ]
  },
  {
   "cell_type": "code",
   "execution_count": 10,
   "metadata": {},
   "outputs": [
    {
     "data": {
      "text/html": [
       "<div>\n",
       "<style scoped>\n",
       "    .dataframe tbody tr th:only-of-type {\n",
       "        vertical-align: middle;\n",
       "    }\n",
       "\n",
       "    .dataframe tbody tr th {\n",
       "        vertical-align: top;\n",
       "    }\n",
       "\n",
       "    .dataframe thead th {\n",
       "        text-align: right;\n",
       "    }\n",
       "</style>\n",
       "<table border=\"1\" class=\"dataframe\">\n",
       "  <thead>\n",
       "    <tr style=\"text-align: right;\">\n",
       "      <th>TYPE</th>\n",
       "      <th>CUST_ID</th>\n",
       "      <th>SALES_AFTER_SENDOUT_1</th>\n",
       "      <th>SALES_AFTER_SENDOUT_2</th>\n",
       "      <th>SALES_AFTER_SENDOUT_3</th>\n",
       "      <th>SALES_BEFORE_SENDOUT_1</th>\n",
       "      <th>SALES_BEFORE_SENDOUT_2</th>\n",
       "      <th>SALES_BEFORE_SENDOUT_3</th>\n",
       "    </tr>\n",
       "  </thead>\n",
       "  <tbody>\n",
       "    <tr>\n",
       "      <th>0</th>\n",
       "      <td>1</td>\n",
       "      <td>46.26</td>\n",
       "      <td>0.00</td>\n",
       "      <td>0.0</td>\n",
       "      <td>0.00</td>\n",
       "      <td>0.00</td>\n",
       "      <td>0.0</td>\n",
       "    </tr>\n",
       "    <tr>\n",
       "      <th>1</th>\n",
       "      <td>2</td>\n",
       "      <td>0.00</td>\n",
       "      <td>59.87</td>\n",
       "      <td>15.3</td>\n",
       "      <td>0.00</td>\n",
       "      <td>52.15</td>\n",
       "      <td>0.0</td>\n",
       "    </tr>\n",
       "    <tr>\n",
       "      <th>2</th>\n",
       "      <td>3</td>\n",
       "      <td>0.00</td>\n",
       "      <td>147.68</td>\n",
       "      <td>0.0</td>\n",
       "      <td>0.00</td>\n",
       "      <td>0.00</td>\n",
       "      <td>0.0</td>\n",
       "    </tr>\n",
       "    <tr>\n",
       "      <th>3</th>\n",
       "      <td>4</td>\n",
       "      <td>64.06</td>\n",
       "      <td>0.00</td>\n",
       "      <td>0.0</td>\n",
       "      <td>161.81</td>\n",
       "      <td>0.00</td>\n",
       "      <td>0.0</td>\n",
       "    </tr>\n",
       "    <tr>\n",
       "      <th>4</th>\n",
       "      <td>5</td>\n",
       "      <td>0.00</td>\n",
       "      <td>0.00</td>\n",
       "      <td>0.0</td>\n",
       "      <td>0.00</td>\n",
       "      <td>176.23</td>\n",
       "      <td>0.0</td>\n",
       "    </tr>\n",
       "  </tbody>\n",
       "</table>\n",
       "</div>"
      ],
      "text/plain": [
       "TYPE  CUST_ID  SALES_AFTER_SENDOUT_1  SALES_AFTER_SENDOUT_2  \\\n",
       "0           1                  46.26                   0.00   \n",
       "1           2                   0.00                  59.87   \n",
       "2           3                   0.00                 147.68   \n",
       "3           4                  64.06                   0.00   \n",
       "4           5                   0.00                   0.00   \n",
       "\n",
       "TYPE  SALES_AFTER_SENDOUT_3  SALES_BEFORE_SENDOUT_1  SALES_BEFORE_SENDOUT_2  \\\n",
       "0                       0.0                    0.00                    0.00   \n",
       "1                      15.3                    0.00                   52.15   \n",
       "2                       0.0                    0.00                    0.00   \n",
       "3                       0.0                  161.81                    0.00   \n",
       "4                       0.0                    0.00                  176.23   \n",
       "\n",
       "TYPE  SALES_BEFORE_SENDOUT_3  \n",
       "0                        0.0  \n",
       "1                        0.0  \n",
       "2                        0.0  \n",
       "3                        0.0  \n",
       "4                        0.0  "
      ]
     },
     "execution_count": 10,
     "metadata": {},
     "output_type": "execute_result"
    }
   ],
   "source": [
    "#changing amount of number after decimal\n",
    "sales_pivoted= sales_pivoted.round(2)\n",
    "sales_pivoted.head()"
   ]
  },
  {
   "cell_type": "code",
   "execution_count": 11,
   "metadata": {},
   "outputs": [
    {
     "data": {
      "text/html": [
       "<div>\n",
       "<style scoped>\n",
       "    .dataframe tbody tr th:only-of-type {\n",
       "        vertical-align: middle;\n",
       "    }\n",
       "\n",
       "    .dataframe tbody tr th {\n",
       "        vertical-align: top;\n",
       "    }\n",
       "\n",
       "    .dataframe thead th {\n",
       "        text-align: right;\n",
       "    }\n",
       "</style>\n",
       "<table border=\"1\" class=\"dataframe\">\n",
       "  <thead>\n",
       "    <tr style=\"text-align: right;\">\n",
       "      <th>TYPE</th>\n",
       "      <th>CUST_ID</th>\n",
       "      <th>SENDOUT_1</th>\n",
       "      <th>SENDOUT_2</th>\n",
       "      <th>SENDOUT_3</th>\n",
       "    </tr>\n",
       "  </thead>\n",
       "  <tbody>\n",
       "    <tr>\n",
       "      <th>0</th>\n",
       "      <td>1</td>\n",
       "      <td>1</td>\n",
       "      <td>0</td>\n",
       "      <td>1</td>\n",
       "    </tr>\n",
       "    <tr>\n",
       "      <th>1</th>\n",
       "      <td>2</td>\n",
       "      <td>0</td>\n",
       "      <td>0</td>\n",
       "      <td>0</td>\n",
       "    </tr>\n",
       "    <tr>\n",
       "      <th>2</th>\n",
       "      <td>3</td>\n",
       "      <td>0</td>\n",
       "      <td>0</td>\n",
       "      <td>0</td>\n",
       "    </tr>\n",
       "    <tr>\n",
       "      <th>3</th>\n",
       "      <td>4</td>\n",
       "      <td>1</td>\n",
       "      <td>0</td>\n",
       "      <td>1</td>\n",
       "    </tr>\n",
       "    <tr>\n",
       "      <th>4</th>\n",
       "      <td>5</td>\n",
       "      <td>0</td>\n",
       "      <td>0</td>\n",
       "      <td>0</td>\n",
       "    </tr>\n",
       "  </tbody>\n",
       "</table>\n",
       "</div>"
      ],
      "text/plain": [
       "TYPE  CUST_ID  SENDOUT_1  SENDOUT_2  SENDOUT_3\n",
       "0           1          1          0          1\n",
       "1           2          0          0          0\n",
       "2           3          0          0          0\n",
       "3           4          1          0          1\n",
       "4           5          0          0          0"
      ]
     },
     "execution_count": 11,
     "metadata": {},
     "output_type": "execute_result"
    }
   ],
   "source": [
    "sendout_pivoted=sendout.pivot(columns='TYPE', index='CUST_ID', values='VALUE').reset_index()\n",
    "sendout_pivoted.head()"
   ]
  },
  {
   "cell_type": "markdown",
   "metadata": {},
   "source": [
    "#### Merge table into one DataFrame"
   ]
  },
  {
   "cell_type": "code",
   "execution_count": 12,
   "metadata": {},
   "outputs": [
    {
     "data": {
      "text/html": [
       "<div>\n",
       "<style scoped>\n",
       "    .dataframe tbody tr th:only-of-type {\n",
       "        vertical-align: middle;\n",
       "    }\n",
       "\n",
       "    .dataframe tbody tr th {\n",
       "        vertical-align: top;\n",
       "    }\n",
       "\n",
       "    .dataframe thead th {\n",
       "        text-align: right;\n",
       "    }\n",
       "</style>\n",
       "<table border=\"1\" class=\"dataframe\">\n",
       "  <thead>\n",
       "    <tr style=\"text-align: right;\">\n",
       "      <th></th>\n",
       "      <th>CUST_ID</th>\n",
       "      <th>CONSENT_COMMUNICATION</th>\n",
       "      <th>SALES_AFTER_SENDOUT_1</th>\n",
       "      <th>SALES_AFTER_SENDOUT_2</th>\n",
       "      <th>SALES_AFTER_SENDOUT_3</th>\n",
       "      <th>SALES_BEFORE_SENDOUT_1</th>\n",
       "      <th>SALES_BEFORE_SENDOUT_2</th>\n",
       "      <th>SALES_BEFORE_SENDOUT_3</th>\n",
       "      <th>SENDOUT_1</th>\n",
       "      <th>SENDOUT_2</th>\n",
       "      <th>SENDOUT_3</th>\n",
       "    </tr>\n",
       "  </thead>\n",
       "  <tbody>\n",
       "    <tr>\n",
       "      <th>0</th>\n",
       "      <td>1</td>\n",
       "      <td>1</td>\n",
       "      <td>46.26</td>\n",
       "      <td>0.00</td>\n",
       "      <td>0.0</td>\n",
       "      <td>0.00</td>\n",
       "      <td>0.00</td>\n",
       "      <td>0.0</td>\n",
       "      <td>1</td>\n",
       "      <td>0</td>\n",
       "      <td>1</td>\n",
       "    </tr>\n",
       "    <tr>\n",
       "      <th>1</th>\n",
       "      <td>2</td>\n",
       "      <td>0</td>\n",
       "      <td>0.00</td>\n",
       "      <td>59.87</td>\n",
       "      <td>15.3</td>\n",
       "      <td>0.00</td>\n",
       "      <td>52.15</td>\n",
       "      <td>0.0</td>\n",
       "      <td>0</td>\n",
       "      <td>0</td>\n",
       "      <td>0</td>\n",
       "    </tr>\n",
       "    <tr>\n",
       "      <th>2</th>\n",
       "      <td>3</td>\n",
       "      <td>0</td>\n",
       "      <td>0.00</td>\n",
       "      <td>147.68</td>\n",
       "      <td>0.0</td>\n",
       "      <td>0.00</td>\n",
       "      <td>0.00</td>\n",
       "      <td>0.0</td>\n",
       "      <td>0</td>\n",
       "      <td>0</td>\n",
       "      <td>0</td>\n",
       "    </tr>\n",
       "    <tr>\n",
       "      <th>3</th>\n",
       "      <td>4</td>\n",
       "      <td>1</td>\n",
       "      <td>64.06</td>\n",
       "      <td>0.00</td>\n",
       "      <td>0.0</td>\n",
       "      <td>161.81</td>\n",
       "      <td>0.00</td>\n",
       "      <td>0.0</td>\n",
       "      <td>1</td>\n",
       "      <td>0</td>\n",
       "      <td>1</td>\n",
       "    </tr>\n",
       "    <tr>\n",
       "      <th>4</th>\n",
       "      <td>5</td>\n",
       "      <td>0</td>\n",
       "      <td>0.00</td>\n",
       "      <td>0.00</td>\n",
       "      <td>0.0</td>\n",
       "      <td>0.00</td>\n",
       "      <td>176.23</td>\n",
       "      <td>0.0</td>\n",
       "      <td>0</td>\n",
       "      <td>0</td>\n",
       "      <td>0</td>\n",
       "    </tr>\n",
       "  </tbody>\n",
       "</table>\n",
       "</div>"
      ],
      "text/plain": [
       "   CUST_ID  CONSENT_COMMUNICATION  SALES_AFTER_SENDOUT_1  \\\n",
       "0        1                      1                  46.26   \n",
       "1        2                      0                   0.00   \n",
       "2        3                      0                   0.00   \n",
       "3        4                      1                  64.06   \n",
       "4        5                      0                   0.00   \n",
       "\n",
       "   SALES_AFTER_SENDOUT_2  SALES_AFTER_SENDOUT_3  SALES_BEFORE_SENDOUT_1  \\\n",
       "0                   0.00                    0.0                    0.00   \n",
       "1                  59.87                   15.3                    0.00   \n",
       "2                 147.68                    0.0                    0.00   \n",
       "3                   0.00                    0.0                  161.81   \n",
       "4                   0.00                    0.0                    0.00   \n",
       "\n",
       "   SALES_BEFORE_SENDOUT_2  SALES_BEFORE_SENDOUT_3  SENDOUT_1  SENDOUT_2  \\\n",
       "0                    0.00                     0.0          1          0   \n",
       "1                   52.15                     0.0          0          0   \n",
       "2                    0.00                     0.0          0          0   \n",
       "3                    0.00                     0.0          1          0   \n",
       "4                  176.23                     0.0          0          0   \n",
       "\n",
       "   SENDOUT_3  \n",
       "0          1  \n",
       "1          0  \n",
       "2          0  \n",
       "3          1  \n",
       "4          0  "
      ]
     },
     "execution_count": 12,
     "metadata": {},
     "output_type": "execute_result"
    }
   ],
   "source": [
    "data= consent.merge(sales_pivoted).merge(sendout_pivoted)\n",
    "data.head()"
   ]
  },
  {
   "cell_type": "code",
   "execution_count": 13,
   "metadata": {},
   "outputs": [
    {
     "data": {
      "text/plain": [
       "['CUST_ID',\n",
       " 'CONSENT_COMMUNICATION',\n",
       " 'SALES_AFTER_SENDOUT_1',\n",
       " 'SALES_AFTER_SENDOUT_2',\n",
       " 'SALES_AFTER_SENDOUT_3',\n",
       " 'SALES_BEFORE_SENDOUT_1',\n",
       " 'SALES_BEFORE_SENDOUT_2',\n",
       " 'SALES_BEFORE_SENDOUT_3',\n",
       " 'SENDOUT_1',\n",
       " 'SENDOUT_2',\n",
       " 'SENDOUT_3']"
      ]
     },
     "execution_count": 13,
     "metadata": {},
     "output_type": "execute_result"
    }
   ],
   "source": [
    "data.columns.tolist()"
   ]
  },
  {
   "cell_type": "code",
   "execution_count": 14,
   "metadata": {},
   "outputs": [
    {
     "name": "stdout",
     "output_type": "stream",
     "text": [
      "<class 'pandas.core.frame.DataFrame'>\n",
      "Int64Index: 50000 entries, 0 to 49999\n",
      "Data columns (total 11 columns):\n",
      " #   Column                  Non-Null Count  Dtype  \n",
      "---  ------                  --------------  -----  \n",
      " 0   CUST_ID                 50000 non-null  int64  \n",
      " 1   CONSENT_COMMUNICATION   50000 non-null  int64  \n",
      " 2   SALES_AFTER_SENDOUT_1   50000 non-null  float64\n",
      " 3   SALES_AFTER_SENDOUT_2   50000 non-null  float64\n",
      " 4   SALES_AFTER_SENDOUT_3   50000 non-null  float64\n",
      " 5   SALES_BEFORE_SENDOUT_1  50000 non-null  float64\n",
      " 6   SALES_BEFORE_SENDOUT_2  50000 non-null  float64\n",
      " 7   SALES_BEFORE_SENDOUT_3  50000 non-null  float64\n",
      " 8   SENDOUT_1               50000 non-null  int64  \n",
      " 9   SENDOUT_2               50000 non-null  int64  \n",
      " 10  SENDOUT_3               50000 non-null  int64  \n",
      "dtypes: float64(6), int64(5)\n",
      "memory usage: 4.6 MB\n"
     ]
    }
   ],
   "source": [
    "data.info()"
   ]
  },
  {
   "cell_type": "code",
   "execution_count": 15,
   "metadata": {},
   "outputs": [
    {
     "data": {
      "text/plain": [
       "(50000, 11)"
      ]
     },
     "execution_count": 15,
     "metadata": {},
     "output_type": "execute_result"
    }
   ],
   "source": [
    "data.shape"
   ]
  },
  {
   "cell_type": "code",
   "execution_count": 16,
   "metadata": {},
   "outputs": [
    {
     "data": {
      "text/plain": [
       "False"
      ]
     },
     "execution_count": 16,
     "metadata": {},
     "output_type": "execute_result"
    }
   ],
   "source": [
    "#Czy mamy puste wartości? \n",
    "data.isnull().values.any()"
   ]
  },
  {
   "cell_type": "code",
   "execution_count": 17,
   "metadata": {},
   "outputs": [
    {
     "data": {
      "text/plain": [
       "array([1, 0], dtype=int64)"
      ]
     },
     "execution_count": 17,
     "metadata": {},
     "output_type": "execute_result"
    }
   ],
   "source": [
    "data.CONSENT_COMMUNICATION.unique() "
   ]
  },
  {
   "cell_type": "code",
   "execution_count": 18,
   "metadata": {},
   "outputs": [
    {
     "data": {
      "text/plain": [
       "1    45143\n",
       "0     4857\n",
       "Name: CONSENT_COMMUNICATION, dtype: int64"
      ]
     },
     "execution_count": 18,
     "metadata": {},
     "output_type": "execute_result"
    }
   ],
   "source": [
    "data['CONSENT_COMMUNICATION'].value_counts() "
   ]
  },
  {
   "cell_type": "code",
   "execution_count": 19,
   "metadata": {},
   "outputs": [
    {
     "data": {
      "text/plain": [
       " 1    25298\n",
       " 0    24701\n",
       "-1        1\n",
       "Name: SENDOUT_1, dtype: int64"
      ]
     },
     "execution_count": 19,
     "metadata": {},
     "output_type": "execute_result"
    }
   ],
   "source": [
    "data['SENDOUT_1'].value_counts() #we have unexpected value in column"
   ]
  },
  {
   "cell_type": "code",
   "execution_count": 20,
   "metadata": {},
   "outputs": [
    {
     "data": {
      "text/plain": [
       "0    48975\n",
       "1     1024\n",
       "2        1\n",
       "Name: SENDOUT_2, dtype: int64"
      ]
     },
     "execution_count": 20,
     "metadata": {},
     "output_type": "execute_result"
    }
   ],
   "source": [
    "data['SENDOUT_2'].value_counts() #we have unexpected value in column"
   ]
  },
  {
   "cell_type": "code",
   "execution_count": 21,
   "metadata": {},
   "outputs": [
    {
     "data": {
      "text/plain": [
       "1    39985\n",
       "0    10014\n",
       "2        1\n",
       "Name: SENDOUT_3, dtype: int64"
      ]
     },
     "execution_count": 21,
     "metadata": {},
     "output_type": "execute_result"
    }
   ],
   "source": [
    "data['SENDOUT_3'].value_counts() #we have unexpected value in column"
   ]
  },
  {
   "cell_type": "code",
   "execution_count": 22,
   "metadata": {},
   "outputs": [],
   "source": [
    "#changing unexpected value in columns to value 1 \n",
    "data.replace([-1,2], 1, inplace=True)"
   ]
  },
  {
   "cell_type": "markdown",
   "metadata": {},
   "source": [
    "#### Add new columns about profit per. clients after sendout"
   ]
  },
  {
   "cell_type": "code",
   "execution_count": 38,
   "metadata": {},
   "outputs": [],
   "source": [
    "data['PROFIT_1']=data.SALES_AFTER_SENDOUT_1-data.SALES_BEFORE_SENDOUT_1\n",
    "data['PROFIT_2']=data.SALES_AFTER_SENDOUT_2-data.SALES_BEFORE_SENDOUT_2\n",
    "data['PROFIT_3']=data.SALES_AFTER_SENDOUT_3-data.SALES_BEFORE_SENDOUT_3"
   ]
  },
  {
   "cell_type": "code",
   "execution_count": 39,
   "metadata": {},
   "outputs": [
    {
     "data": {
      "text/plain": [
       "(50000, 17)"
      ]
     },
     "execution_count": 39,
     "metadata": {},
     "output_type": "execute_result"
    }
   ],
   "source": [
    "data.shape"
   ]
  },
  {
   "cell_type": "code",
   "execution_count": 40,
   "metadata": {},
   "outputs": [
    {
     "data": {
      "text/html": [
       "<div>\n",
       "<style scoped>\n",
       "    .dataframe tbody tr th:only-of-type {\n",
       "        vertical-align: middle;\n",
       "    }\n",
       "\n",
       "    .dataframe tbody tr th {\n",
       "        vertical-align: top;\n",
       "    }\n",
       "\n",
       "    .dataframe thead th {\n",
       "        text-align: right;\n",
       "    }\n",
       "</style>\n",
       "<table border=\"1\" class=\"dataframe\">\n",
       "  <thead>\n",
       "    <tr style=\"text-align: right;\">\n",
       "      <th></th>\n",
       "      <th>CUST_ID</th>\n",
       "      <th>CONSENT_COMMUNICATION</th>\n",
       "      <th>SALES_AFTER_SENDOUT_1</th>\n",
       "      <th>SALES_AFTER_SENDOUT_2</th>\n",
       "      <th>SALES_AFTER_SENDOUT_3</th>\n",
       "      <th>SALES_BEFORE_SENDOUT_1</th>\n",
       "      <th>SALES_BEFORE_SENDOUT_2</th>\n",
       "      <th>SALES_BEFORE_SENDOUT_3</th>\n",
       "      <th>SENDOUT_1</th>\n",
       "      <th>SENDOUT_2</th>\n",
       "      <th>SENDOUT_3</th>\n",
       "      <th>PROFIT_1</th>\n",
       "      <th>PROFIT_2</th>\n",
       "      <th>PROFIT_3</th>\n",
       "      <th>%_SHARE_1</th>\n",
       "      <th>%_SHARE_2</th>\n",
       "      <th>%_SHARE_3</th>\n",
       "    </tr>\n",
       "  </thead>\n",
       "  <tbody>\n",
       "    <tr>\n",
       "      <th>0</th>\n",
       "      <td>1</td>\n",
       "      <td>1</td>\n",
       "      <td>46.26</td>\n",
       "      <td>0.00</td>\n",
       "      <td>0.00</td>\n",
       "      <td>0.00</td>\n",
       "      <td>0.00</td>\n",
       "      <td>0.00</td>\n",
       "      <td>1</td>\n",
       "      <td>0</td>\n",
       "      <td>1</td>\n",
       "      <td>46.26</td>\n",
       "      <td>0.00</td>\n",
       "      <td>0.00</td>\n",
       "      <td>0.006583</td>\n",
       "      <td>-0.000000e+00</td>\n",
       "      <td>0.000000</td>\n",
       "    </tr>\n",
       "    <tr>\n",
       "      <th>1</th>\n",
       "      <td>1</td>\n",
       "      <td>0</td>\n",
       "      <td>0.00</td>\n",
       "      <td>59.87</td>\n",
       "      <td>15.30</td>\n",
       "      <td>0.00</td>\n",
       "      <td>52.15</td>\n",
       "      <td>0.00</td>\n",
       "      <td>0</td>\n",
       "      <td>0</td>\n",
       "      <td>0</td>\n",
       "      <td>0.00</td>\n",
       "      <td>7.72</td>\n",
       "      <td>15.30</td>\n",
       "      <td>0.000000</td>\n",
       "      <td>-7.720684e-08</td>\n",
       "      <td>0.005003</td>\n",
       "    </tr>\n",
       "    <tr>\n",
       "      <th>2</th>\n",
       "      <td>3</td>\n",
       "      <td>0</td>\n",
       "      <td>0.00</td>\n",
       "      <td>147.68</td>\n",
       "      <td>0.00</td>\n",
       "      <td>0.00</td>\n",
       "      <td>0.00</td>\n",
       "      <td>0.00</td>\n",
       "      <td>0</td>\n",
       "      <td>0</td>\n",
       "      <td>0</td>\n",
       "      <td>0.00</td>\n",
       "      <td>147.68</td>\n",
       "      <td>0.00</td>\n",
       "      <td>0.000000</td>\n",
       "      <td>-1.476931e-06</td>\n",
       "      <td>0.000000</td>\n",
       "    </tr>\n",
       "    <tr>\n",
       "      <th>3</th>\n",
       "      <td>4</td>\n",
       "      <td>1</td>\n",
       "      <td>64.06</td>\n",
       "      <td>0.00</td>\n",
       "      <td>0.00</td>\n",
       "      <td>161.81</td>\n",
       "      <td>0.00</td>\n",
       "      <td>0.00</td>\n",
       "      <td>1</td>\n",
       "      <td>0</td>\n",
       "      <td>1</td>\n",
       "      <td>-97.75</td>\n",
       "      <td>0.00</td>\n",
       "      <td>0.00</td>\n",
       "      <td>-0.013910</td>\n",
       "      <td>-0.000000e+00</td>\n",
       "      <td>0.000000</td>\n",
       "    </tr>\n",
       "    <tr>\n",
       "      <th>4</th>\n",
       "      <td>5</td>\n",
       "      <td>0</td>\n",
       "      <td>0.00</td>\n",
       "      <td>0.00</td>\n",
       "      <td>0.00</td>\n",
       "      <td>0.00</td>\n",
       "      <td>176.23</td>\n",
       "      <td>0.00</td>\n",
       "      <td>0</td>\n",
       "      <td>0</td>\n",
       "      <td>0</td>\n",
       "      <td>0.00</td>\n",
       "      <td>-176.23</td>\n",
       "      <td>0.00</td>\n",
       "      <td>0.000000</td>\n",
       "      <td>1.762456e-06</td>\n",
       "      <td>0.000000</td>\n",
       "    </tr>\n",
       "    <tr>\n",
       "      <th>5</th>\n",
       "      <td>6</td>\n",
       "      <td>1</td>\n",
       "      <td>28.13</td>\n",
       "      <td>278.35</td>\n",
       "      <td>0.00</td>\n",
       "      <td>0.00</td>\n",
       "      <td>0.00</td>\n",
       "      <td>0.00</td>\n",
       "      <td>1</td>\n",
       "      <td>0</td>\n",
       "      <td>0</td>\n",
       "      <td>28.13</td>\n",
       "      <td>278.35</td>\n",
       "      <td>0.00</td>\n",
       "      <td>0.004003</td>\n",
       "      <td>-2.783746e-06</td>\n",
       "      <td>0.000000</td>\n",
       "    </tr>\n",
       "    <tr>\n",
       "      <th>6</th>\n",
       "      <td>7</td>\n",
       "      <td>1</td>\n",
       "      <td>207.63</td>\n",
       "      <td>0.00</td>\n",
       "      <td>0.00</td>\n",
       "      <td>0.00</td>\n",
       "      <td>0.00</td>\n",
       "      <td>0.00</td>\n",
       "      <td>1</td>\n",
       "      <td>0</td>\n",
       "      <td>1</td>\n",
       "      <td>207.63</td>\n",
       "      <td>0.00</td>\n",
       "      <td>0.00</td>\n",
       "      <td>0.029546</td>\n",
       "      <td>-0.000000e+00</td>\n",
       "      <td>0.000000</td>\n",
       "    </tr>\n",
       "    <tr>\n",
       "      <th>7</th>\n",
       "      <td>8</td>\n",
       "      <td>1</td>\n",
       "      <td>37.37</td>\n",
       "      <td>36.02</td>\n",
       "      <td>0.00</td>\n",
       "      <td>0.00</td>\n",
       "      <td>0.00</td>\n",
       "      <td>0.00</td>\n",
       "      <td>1</td>\n",
       "      <td>0</td>\n",
       "      <td>1</td>\n",
       "      <td>37.37</td>\n",
       "      <td>36.02</td>\n",
       "      <td>0.00</td>\n",
       "      <td>0.005318</td>\n",
       "      <td>-3.602319e-07</td>\n",
       "      <td>0.000000</td>\n",
       "    </tr>\n",
       "    <tr>\n",
       "      <th>8</th>\n",
       "      <td>9</td>\n",
       "      <td>1</td>\n",
       "      <td>0.00</td>\n",
       "      <td>166.34</td>\n",
       "      <td>0.00</td>\n",
       "      <td>0.00</td>\n",
       "      <td>0.00</td>\n",
       "      <td>0.00</td>\n",
       "      <td>0</td>\n",
       "      <td>0</td>\n",
       "      <td>1</td>\n",
       "      <td>0.00</td>\n",
       "      <td>166.34</td>\n",
       "      <td>0.00</td>\n",
       "      <td>0.000000</td>\n",
       "      <td>-1.663547e-06</td>\n",
       "      <td>0.000000</td>\n",
       "    </tr>\n",
       "    <tr>\n",
       "      <th>9</th>\n",
       "      <td>10</td>\n",
       "      <td>1</td>\n",
       "      <td>11.14</td>\n",
       "      <td>0.00</td>\n",
       "      <td>0.00</td>\n",
       "      <td>68.07</td>\n",
       "      <td>0.00</td>\n",
       "      <td>0.00</td>\n",
       "      <td>0</td>\n",
       "      <td>1</td>\n",
       "      <td>0</td>\n",
       "      <td>-56.93</td>\n",
       "      <td>0.00</td>\n",
       "      <td>0.00</td>\n",
       "      <td>-0.008101</td>\n",
       "      <td>-0.000000e+00</td>\n",
       "      <td>0.000000</td>\n",
       "    </tr>\n",
       "    <tr>\n",
       "      <th>10</th>\n",
       "      <td>11</td>\n",
       "      <td>1</td>\n",
       "      <td>0.00</td>\n",
       "      <td>0.00</td>\n",
       "      <td>0.00</td>\n",
       "      <td>0.00</td>\n",
       "      <td>66.63</td>\n",
       "      <td>0.00</td>\n",
       "      <td>1</td>\n",
       "      <td>0</td>\n",
       "      <td>1</td>\n",
       "      <td>0.00</td>\n",
       "      <td>-66.63</td>\n",
       "      <td>0.00</td>\n",
       "      <td>0.000000</td>\n",
       "      <td>6.663590e-07</td>\n",
       "      <td>0.000000</td>\n",
       "    </tr>\n",
       "    <tr>\n",
       "      <th>11</th>\n",
       "      <td>12</td>\n",
       "      <td>1</td>\n",
       "      <td>43.10</td>\n",
       "      <td>0.00</td>\n",
       "      <td>0.00</td>\n",
       "      <td>0.00</td>\n",
       "      <td>0.00</td>\n",
       "      <td>0.00</td>\n",
       "      <td>1</td>\n",
       "      <td>0</td>\n",
       "      <td>1</td>\n",
       "      <td>43.10</td>\n",
       "      <td>0.00</td>\n",
       "      <td>0.00</td>\n",
       "      <td>0.006133</td>\n",
       "      <td>-0.000000e+00</td>\n",
       "      <td>0.000000</td>\n",
       "    </tr>\n",
       "    <tr>\n",
       "      <th>12</th>\n",
       "      <td>13</td>\n",
       "      <td>1</td>\n",
       "      <td>172.67</td>\n",
       "      <td>0.00</td>\n",
       "      <td>183.91</td>\n",
       "      <td>61.77</td>\n",
       "      <td>0.00</td>\n",
       "      <td>0.00</td>\n",
       "      <td>0</td>\n",
       "      <td>0</td>\n",
       "      <td>1</td>\n",
       "      <td>110.90</td>\n",
       "      <td>0.00</td>\n",
       "      <td>183.91</td>\n",
       "      <td>0.015781</td>\n",
       "      <td>-0.000000e+00</td>\n",
       "      <td>0.060142</td>\n",
       "    </tr>\n",
       "    <tr>\n",
       "      <th>13</th>\n",
       "      <td>14</td>\n",
       "      <td>0</td>\n",
       "      <td>22.35</td>\n",
       "      <td>0.00</td>\n",
       "      <td>0.00</td>\n",
       "      <td>0.00</td>\n",
       "      <td>111.65</td>\n",
       "      <td>0.00</td>\n",
       "      <td>0</td>\n",
       "      <td>0</td>\n",
       "      <td>0</td>\n",
       "      <td>22.35</td>\n",
       "      <td>-111.65</td>\n",
       "      <td>0.00</td>\n",
       "      <td>0.003180</td>\n",
       "      <td>1.116599e-06</td>\n",
       "      <td>0.000000</td>\n",
       "    </tr>\n",
       "    <tr>\n",
       "      <th>14</th>\n",
       "      <td>15</td>\n",
       "      <td>1</td>\n",
       "      <td>51.02</td>\n",
       "      <td>0.00</td>\n",
       "      <td>0.00</td>\n",
       "      <td>0.00</td>\n",
       "      <td>0.00</td>\n",
       "      <td>0.00</td>\n",
       "      <td>1</td>\n",
       "      <td>0</td>\n",
       "      <td>1</td>\n",
       "      <td>51.02</td>\n",
       "      <td>0.00</td>\n",
       "      <td>0.00</td>\n",
       "      <td>0.007260</td>\n",
       "      <td>-0.000000e+00</td>\n",
       "      <td>0.000000</td>\n",
       "    </tr>\n",
       "    <tr>\n",
       "      <th>15</th>\n",
       "      <td>16</td>\n",
       "      <td>1</td>\n",
       "      <td>165.40</td>\n",
       "      <td>0.00</td>\n",
       "      <td>0.00</td>\n",
       "      <td>0.00</td>\n",
       "      <td>158.49</td>\n",
       "      <td>151.09</td>\n",
       "      <td>1</td>\n",
       "      <td>0</td>\n",
       "      <td>1</td>\n",
       "      <td>165.40</td>\n",
       "      <td>-158.49</td>\n",
       "      <td>-151.09</td>\n",
       "      <td>0.023537</td>\n",
       "      <td>1.585040e-06</td>\n",
       "      <td>-0.049409</td>\n",
       "    </tr>\n",
       "    <tr>\n",
       "      <th>16</th>\n",
       "      <td>17</td>\n",
       "      <td>1</td>\n",
       "      <td>0.00</td>\n",
       "      <td>39.92</td>\n",
       "      <td>0.00</td>\n",
       "      <td>0.00</td>\n",
       "      <td>0.00</td>\n",
       "      <td>0.00</td>\n",
       "      <td>0</td>\n",
       "      <td>0</td>\n",
       "      <td>1</td>\n",
       "      <td>0.00</td>\n",
       "      <td>39.92</td>\n",
       "      <td>0.00</td>\n",
       "      <td>0.000000</td>\n",
       "      <td>-3.992353e-07</td>\n",
       "      <td>0.000000</td>\n",
       "    </tr>\n",
       "    <tr>\n",
       "      <th>17</th>\n",
       "      <td>18</td>\n",
       "      <td>1</td>\n",
       "      <td>-4.76</td>\n",
       "      <td>0.00</td>\n",
       "      <td>103.04</td>\n",
       "      <td>13.47</td>\n",
       "      <td>90.89</td>\n",
       "      <td>0.00</td>\n",
       "      <td>1</td>\n",
       "      <td>0</td>\n",
       "      <td>0</td>\n",
       "      <td>-18.23</td>\n",
       "      <td>-90.89</td>\n",
       "      <td>103.04</td>\n",
       "      <td>-0.002594</td>\n",
       "      <td>9.089805e-07</td>\n",
       "      <td>0.033696</td>\n",
       "    </tr>\n",
       "    <tr>\n",
       "      <th>18</th>\n",
       "      <td>19</td>\n",
       "      <td>1</td>\n",
       "      <td>0.00</td>\n",
       "      <td>0.00</td>\n",
       "      <td>35.48</td>\n",
       "      <td>0.00</td>\n",
       "      <td>0.00</td>\n",
       "      <td>0.00</td>\n",
       "      <td>1</td>\n",
       "      <td>0</td>\n",
       "      <td>1</td>\n",
       "      <td>0.00</td>\n",
       "      <td>0.00</td>\n",
       "      <td>35.48</td>\n",
       "      <td>0.000000</td>\n",
       "      <td>-0.000000e+00</td>\n",
       "      <td>0.011603</td>\n",
       "    </tr>\n",
       "    <tr>\n",
       "      <th>19</th>\n",
       "      <td>20</td>\n",
       "      <td>1</td>\n",
       "      <td>0.00</td>\n",
       "      <td>0.00</td>\n",
       "      <td>0.00</td>\n",
       "      <td>0.00</td>\n",
       "      <td>0.00</td>\n",
       "      <td>0.00</td>\n",
       "      <td>0</td>\n",
       "      <td>0</td>\n",
       "      <td>1</td>\n",
       "      <td>0.00</td>\n",
       "      <td>0.00</td>\n",
       "      <td>0.00</td>\n",
       "      <td>0.000000</td>\n",
       "      <td>-0.000000e+00</td>\n",
       "      <td>0.000000</td>\n",
       "    </tr>\n",
       "  </tbody>\n",
       "</table>\n",
       "</div>"
      ],
      "text/plain": [
       "    CUST_ID  CONSENT_COMMUNICATION  SALES_AFTER_SENDOUT_1  \\\n",
       "0         1                      1                  46.26   \n",
       "1         1                      0                   0.00   \n",
       "2         3                      0                   0.00   \n",
       "3         4                      1                  64.06   \n",
       "4         5                      0                   0.00   \n",
       "5         6                      1                  28.13   \n",
       "6         7                      1                 207.63   \n",
       "7         8                      1                  37.37   \n",
       "8         9                      1                   0.00   \n",
       "9        10                      1                  11.14   \n",
       "10       11                      1                   0.00   \n",
       "11       12                      1                  43.10   \n",
       "12       13                      1                 172.67   \n",
       "13       14                      0                  22.35   \n",
       "14       15                      1                  51.02   \n",
       "15       16                      1                 165.40   \n",
       "16       17                      1                   0.00   \n",
       "17       18                      1                  -4.76   \n",
       "18       19                      1                   0.00   \n",
       "19       20                      1                   0.00   \n",
       "\n",
       "    SALES_AFTER_SENDOUT_2  SALES_AFTER_SENDOUT_3  SALES_BEFORE_SENDOUT_1  \\\n",
       "0                    0.00                   0.00                    0.00   \n",
       "1                   59.87                  15.30                    0.00   \n",
       "2                  147.68                   0.00                    0.00   \n",
       "3                    0.00                   0.00                  161.81   \n",
       "4                    0.00                   0.00                    0.00   \n",
       "5                  278.35                   0.00                    0.00   \n",
       "6                    0.00                   0.00                    0.00   \n",
       "7                   36.02                   0.00                    0.00   \n",
       "8                  166.34                   0.00                    0.00   \n",
       "9                    0.00                   0.00                   68.07   \n",
       "10                   0.00                   0.00                    0.00   \n",
       "11                   0.00                   0.00                    0.00   \n",
       "12                   0.00                 183.91                   61.77   \n",
       "13                   0.00                   0.00                    0.00   \n",
       "14                   0.00                   0.00                    0.00   \n",
       "15                   0.00                   0.00                    0.00   \n",
       "16                  39.92                   0.00                    0.00   \n",
       "17                   0.00                 103.04                   13.47   \n",
       "18                   0.00                  35.48                    0.00   \n",
       "19                   0.00                   0.00                    0.00   \n",
       "\n",
       "    SALES_BEFORE_SENDOUT_2  SALES_BEFORE_SENDOUT_3  SENDOUT_1  SENDOUT_2  \\\n",
       "0                     0.00                    0.00          1          0   \n",
       "1                    52.15                    0.00          0          0   \n",
       "2                     0.00                    0.00          0          0   \n",
       "3                     0.00                    0.00          1          0   \n",
       "4                   176.23                    0.00          0          0   \n",
       "5                     0.00                    0.00          1          0   \n",
       "6                     0.00                    0.00          1          0   \n",
       "7                     0.00                    0.00          1          0   \n",
       "8                     0.00                    0.00          0          0   \n",
       "9                     0.00                    0.00          0          1   \n",
       "10                   66.63                    0.00          1          0   \n",
       "11                    0.00                    0.00          1          0   \n",
       "12                    0.00                    0.00          0          0   \n",
       "13                  111.65                    0.00          0          0   \n",
       "14                    0.00                    0.00          1          0   \n",
       "15                  158.49                  151.09          1          0   \n",
       "16                    0.00                    0.00          0          0   \n",
       "17                   90.89                    0.00          1          0   \n",
       "18                    0.00                    0.00          1          0   \n",
       "19                    0.00                    0.00          0          0   \n",
       "\n",
       "    SENDOUT_3  PROFIT_1  PROFIT_2  PROFIT_3  %_SHARE_1     %_SHARE_2  \\\n",
       "0           1     46.26      0.00      0.00   0.006583 -0.000000e+00   \n",
       "1           0      0.00      7.72     15.30   0.000000 -7.720684e-08   \n",
       "2           0      0.00    147.68      0.00   0.000000 -1.476931e-06   \n",
       "3           1    -97.75      0.00      0.00  -0.013910 -0.000000e+00   \n",
       "4           0      0.00   -176.23      0.00   0.000000  1.762456e-06   \n",
       "5           0     28.13    278.35      0.00   0.004003 -2.783746e-06   \n",
       "6           1    207.63      0.00      0.00   0.029546 -0.000000e+00   \n",
       "7           1     37.37     36.02      0.00   0.005318 -3.602319e-07   \n",
       "8           1      0.00    166.34      0.00   0.000000 -1.663547e-06   \n",
       "9           0    -56.93      0.00      0.00  -0.008101 -0.000000e+00   \n",
       "10          1      0.00    -66.63      0.00   0.000000  6.663590e-07   \n",
       "11          1     43.10      0.00      0.00   0.006133 -0.000000e+00   \n",
       "12          1    110.90      0.00    183.91   0.015781 -0.000000e+00   \n",
       "13          0     22.35   -111.65      0.00   0.003180  1.116599e-06   \n",
       "14          1     51.02      0.00      0.00   0.007260 -0.000000e+00   \n",
       "15          1    165.40   -158.49   -151.09   0.023537  1.585040e-06   \n",
       "16          1      0.00     39.92      0.00   0.000000 -3.992353e-07   \n",
       "17          0    -18.23    -90.89    103.04  -0.002594  9.089805e-07   \n",
       "18          1      0.00      0.00     35.48   0.000000 -0.000000e+00   \n",
       "19          1      0.00      0.00      0.00   0.000000 -0.000000e+00   \n",
       "\n",
       "    %_SHARE_3  \n",
       "0    0.000000  \n",
       "1    0.005003  \n",
       "2    0.000000  \n",
       "3    0.000000  \n",
       "4    0.000000  \n",
       "5    0.000000  \n",
       "6    0.000000  \n",
       "7    0.000000  \n",
       "8    0.000000  \n",
       "9    0.000000  \n",
       "10   0.000000  \n",
       "11   0.000000  \n",
       "12   0.060142  \n",
       "13   0.000000  \n",
       "14   0.000000  \n",
       "15  -0.049409  \n",
       "16   0.000000  \n",
       "17   0.033696  \n",
       "18   0.011603  \n",
       "19   0.000000  "
      ]
     },
     "execution_count": 40,
     "metadata": {},
     "output_type": "execute_result"
    }
   ],
   "source": [
    "data.head(20)"
   ]
  },
  {
   "cell_type": "markdown",
   "metadata": {},
   "source": [
    "### EDA"
   ]
  },
  {
   "cell_type": "code",
   "execution_count": 45,
   "metadata": {},
   "outputs": [],
   "source": [
    "import matplotlib.pyplot as plt\n",
    "import seaborn as sns"
   ]
  },
  {
   "cell_type": "code",
   "execution_count": 48,
   "metadata": {},
   "outputs": [
    {
     "data": {
      "text/plain": [
       "(0, 50000)"
      ]
     },
     "execution_count": 48,
     "metadata": {},
     "output_type": "execute_result"
    },
    {
     "data": {
      "image/png": "[encoded data removed]",
      "text/plain": [
       "<Figure size 1440x504 with 3 Axes>"
      ]
     },
     "metadata": {
      "needs_background": "light"
     },
     "output_type": "display_data"
    }
   ],
   "source": [
    "plt.figure(figsize=(20,7)) \n",
    "plt.subplot(1,3,1)\n",
    "sns.countplot(data['SENDOUT_1'])\n",
    "plt.ylim(0,50000, 5000)\n",
    "plt.subplot(1,3,2)\n",
    "sns.countplot(data['SENDOUT_2'])\n",
    "plt.ylim(0,50000, 5000)\n",
    "plt.subplot(1,3,3)\n",
    "sns.countplot(data['SENDOUT_3'])\n",
    "plt.ylim(0,50000, 5000)"
   ]
  },
  {
   "cell_type": "markdown",
   "metadata": {},
   "source": [
    "We can see, company sent almost 40000 brochures in third sendout. During second sendout , company sent only approx. 1000 brochures. During first sendout company sent approx. 25000 brochures. I try check how profit after communication looks like. "
   ]
  },
  {
   "cell_type": "code",
   "execution_count": 42,
   "metadata": {},
   "outputs": [
    {
     "data": {
      "text/plain": [
       "702732.4800027467"
      ]
     },
     "execution_count": 42,
     "metadata": {},
     "output_type": "execute_result"
    }
   ],
   "source": [
    "# Total PROFIT after 1, 2 and 3 sendout\n",
    "data[\"PROFIT_1\"].sum()"
   ]
  },
  {
   "cell_type": "code",
   "execution_count": 43,
   "metadata": {},
   "outputs": [
    {
     "data": {
      "text/plain": [
       "-9999114625.480001"
      ]
     },
     "execution_count": 43,
     "metadata": {},
     "output_type": "execute_result"
    }
   ],
   "source": [
    "data['PROFIT_2'].sum()"
   ]
  },
  {
   "cell_type": "code",
   "execution_count": 44,
   "metadata": {},
   "outputs": [
    {
     "data": {
      "text/plain": [
       "305794.2"
      ]
     },
     "execution_count": 44,
     "metadata": {},
     "output_type": "execute_result"
    }
   ],
   "source": [
    "data['PROFIT_3'].sum()"
   ]
  },
  {
   "cell_type": "code",
   "execution_count": 82,
   "metadata": {},
   "outputs": [
    {
     "data": {
      "text/html": [
       "<div>\n",
       "<style scoped>\n",
       "    .dataframe tbody tr th:only-of-type {\n",
       "        vertical-align: middle;\n",
       "    }\n",
       "\n",
       "    .dataframe tbody tr th {\n",
       "        vertical-align: top;\n",
       "    }\n",
       "\n",
       "    .dataframe thead th {\n",
       "        text-align: right;\n",
       "    }\n",
       "</style>\n",
       "<table border=\"1\" class=\"dataframe\">\n",
       "  <thead>\n",
       "    <tr style=\"text-align: right;\">\n",
       "      <th></th>\n",
       "      <th>CUST_ID</th>\n",
       "      <th>CONSENT_COMMUNICATION</th>\n",
       "      <th>SALES_AFTER_SENDOUT_1</th>\n",
       "      <th>SALES_AFTER_SENDOUT_2</th>\n",
       "      <th>SALES_AFTER_SENDOUT_3</th>\n",
       "      <th>SALES_BEFORE_SENDOUT_1</th>\n",
       "      <th>SALES_BEFORE_SENDOUT_2</th>\n",
       "      <th>SALES_BEFORE_SENDOUT_3</th>\n",
       "      <th>SENDOUT_1</th>\n",
       "      <th>SENDOUT_2</th>\n",
       "      <th>SENDOUT_3</th>\n",
       "      <th>PROFIT_1</th>\n",
       "      <th>PROFIT_2</th>\n",
       "      <th>PROFIT_3</th>\n",
       "      <th>%_SHARE_1</th>\n",
       "      <th>%_SHARE_2</th>\n",
       "      <th>%_SHARE_3</th>\n",
       "    </tr>\n",
       "  </thead>\n",
       "  <tbody>\n",
       "    <tr>\n",
       "      <th>21239</th>\n",
       "      <td>21240</td>\n",
       "      <td>1</td>\n",
       "      <td>0.0</td>\n",
       "      <td>-1.000000e+10</td>\n",
       "      <td>19.89</td>\n",
       "      <td>0.0</td>\n",
       "      <td>0.0</td>\n",
       "      <td>0.0</td>\n",
       "      <td>1</td>\n",
       "      <td>0</td>\n",
       "      <td>0</td>\n",
       "      <td>0.0</td>\n",
       "      <td>-1.000000e+10</td>\n",
       "      <td>19.89</td>\n",
       "      <td>0.0</td>\n",
       "      <td>100.008855</td>\n",
       "      <td>0.006504</td>\n",
       "    </tr>\n",
       "  </tbody>\n",
       "</table>\n",
       "</div>"
      ],
      "text/plain": [
       "       CUST_ID  CONSENT_COMMUNICATION  SALES_AFTER_SENDOUT_1  \\\n",
       "21239    21240                      1                    0.0   \n",
       "\n",
       "       SALES_AFTER_SENDOUT_2  SALES_AFTER_SENDOUT_3  SALES_BEFORE_SENDOUT_1  \\\n",
       "21239          -1.000000e+10                  19.89                     0.0   \n",
       "\n",
       "       SALES_BEFORE_SENDOUT_2  SALES_BEFORE_SENDOUT_3  SENDOUT_1  SENDOUT_2  \\\n",
       "21239                     0.0                     0.0          1          0   \n",
       "\n",
       "       SENDOUT_3  PROFIT_1      PROFIT_2  PROFIT_3  %_SHARE_1   %_SHARE_2  \\\n",
       "21239          0       0.0 -1.000000e+10     19.89        0.0  100.008855   \n",
       "\n",
       "       %_SHARE_3  \n",
       "21239   0.006504  "
      ]
     },
     "execution_count": 82,
     "metadata": {},
     "output_type": "execute_result"
    }
   ],
   "source": [
    "data[data.CUST_ID== 21240]"
   ]
  },
  {
   "cell_type": "markdown",
   "metadata": {},
   "source": [
    "Podczas analizy znalazłam klienta, który ma ogromną wartość zwróconego towaru. To przez niego dostajemy straty po drugiej wysyłce drugiej komunikacji. Zamieniam wartość sprzedaży na 0 i jeszcze raz sprawdzam całkowity zysk po drugiej wysyłce komunikacji."
   ]
  },
  {
   "cell_type": "code",
   "execution_count": 89,
   "metadata": {},
   "outputs": [],
   "source": [
    "data.at[21239,'SALES_AFTER_SENDOUT_2']=0\n",
    "data.at[21239,'PROFIT_2']=0"
   ]
  },
  {
   "cell_type": "code",
   "execution_count": 90,
   "metadata": {},
   "outputs": [
    {
     "data": {
      "text/html": [
       "<div>\n",
       "<style scoped>\n",
       "    .dataframe tbody tr th:only-of-type {\n",
       "        vertical-align: middle;\n",
       "    }\n",
       "\n",
       "    .dataframe tbody tr th {\n",
       "        vertical-align: top;\n",
       "    }\n",
       "\n",
       "    .dataframe thead th {\n",
       "        text-align: right;\n",
       "    }\n",
       "</style>\n",
       "<table border=\"1\" class=\"dataframe\">\n",
       "  <thead>\n",
       "    <tr style=\"text-align: right;\">\n",
       "      <th></th>\n",
       "      <th>CUST_ID</th>\n",
       "      <th>CONSENT_COMMUNICATION</th>\n",
       "      <th>SALES_AFTER_SENDOUT_1</th>\n",
       "      <th>SALES_AFTER_SENDOUT_2</th>\n",
       "      <th>SALES_AFTER_SENDOUT_3</th>\n",
       "      <th>SALES_BEFORE_SENDOUT_1</th>\n",
       "      <th>SALES_BEFORE_SENDOUT_2</th>\n",
       "      <th>SALES_BEFORE_SENDOUT_3</th>\n",
       "      <th>SENDOUT_1</th>\n",
       "      <th>SENDOUT_2</th>\n",
       "      <th>SENDOUT_3</th>\n",
       "      <th>PROFIT_1</th>\n",
       "      <th>PROFIT_2</th>\n",
       "      <th>PROFIT_3</th>\n",
       "      <th>%_SHARE_1</th>\n",
       "      <th>%_SHARE_2</th>\n",
       "      <th>%_SHARE_3</th>\n",
       "    </tr>\n",
       "  </thead>\n",
       "  <tbody>\n",
       "    <tr>\n",
       "      <th>21239</th>\n",
       "      <td>21240</td>\n",
       "      <td>1</td>\n",
       "      <td>0.0</td>\n",
       "      <td>0.0</td>\n",
       "      <td>19.89</td>\n",
       "      <td>0.0</td>\n",
       "      <td>0.0</td>\n",
       "      <td>0.0</td>\n",
       "      <td>1</td>\n",
       "      <td>0</td>\n",
       "      <td>0</td>\n",
       "      <td>0.0</td>\n",
       "      <td>0.0</td>\n",
       "      <td>19.89</td>\n",
       "      <td>0.0</td>\n",
       "      <td>100.008855</td>\n",
       "      <td>0.006504</td>\n",
       "    </tr>\n",
       "  </tbody>\n",
       "</table>\n",
       "</div>"
      ],
      "text/plain": [
       "       CUST_ID  CONSENT_COMMUNICATION  SALES_AFTER_SENDOUT_1  \\\n",
       "21239    21240                      1                    0.0   \n",
       "\n",
       "       SALES_AFTER_SENDOUT_2  SALES_AFTER_SENDOUT_3  SALES_BEFORE_SENDOUT_1  \\\n",
       "21239                    0.0                  19.89                     0.0   \n",
       "\n",
       "       SALES_BEFORE_SENDOUT_2  SALES_BEFORE_SENDOUT_3  SENDOUT_1  SENDOUT_2  \\\n",
       "21239                     0.0                     0.0          1          0   \n",
       "\n",
       "       SENDOUT_3  PROFIT_1  PROFIT_2  PROFIT_3  %_SHARE_1   %_SHARE_2  \\\n",
       "21239          0       0.0       0.0     19.89        0.0  100.008855   \n",
       "\n",
       "       %_SHARE_3  \n",
       "21239   0.006504  "
      ]
     },
     "execution_count": 90,
     "metadata": {},
     "output_type": "execute_result"
    }
   ],
   "source": [
    "data[data.CUST_ID== 21240]"
   ]
  },
  {
   "cell_type": "code",
   "execution_count": 91,
   "metadata": {},
   "outputs": [
    {
     "data": {
      "text/plain": [
       "885374.5199999999"
      ]
     },
     "execution_count": 91,
     "metadata": {},
     "output_type": "execute_result"
    }
   ],
   "source": [
    "data['PROFIT_2'].sum()"
   ]
  },
  {
   "cell_type": "markdown",
   "metadata": {},
   "source": [
    "Po wyliczeniu całkowitego zysku widać, że firma odnotowała największy zysk ze sprzedaży po wysłaniu 2 komunikacji. Zysk wyniósł ponad 885 tys złotych. Komunikacja została wysłana tylko do 2% klientów, jednak nie wpłynęło to negatywnie na sprzedaż. PO 1 wysyłce komunikacji zysk wyniósł ok. 702 tys zł, a po trzeciej ok. 305 tys. Najmniejszy zysk jest po trzeciej komunikacji, gdzie wysłano ulotki do 80% klientów. Myślę, że największy zysk po drugiej wysyłce może być spowodowany rozpoznawalnością marki , klienci kupują towary pomimo, że nie dostali ulotki zachęcającej do sprzedaży. "
   ]
  },
  {
   "cell_type": "markdown",
   "metadata": {},
   "source": [
    "#### How much klients buy product before and after sendout"
   ]
  },
  {
   "cell_type": "markdown",
   "metadata": {},
   "source": [
    "### a. Analiza klientów w okresie pierwszej wysyłki komunikacji"
   ]
  },
  {
   "cell_type": "code",
   "execution_count": 78,
   "metadata": {},
   "outputs": [
    {
     "data": {
      "text/plain": [
       "5137"
      ]
     },
     "execution_count": 78,
     "metadata": {},
     "output_type": "execute_result"
    }
   ],
   "source": [
    "data[(data.SALES_BEFORE_SENDOUT_1 > 0.0) & (data.SENDOUT_1 == 1)].CUST_ID.count()"
   ]
  },
  {
   "cell_type": "code",
   "execution_count": 75,
   "metadata": {},
   "outputs": [
    {
     "data": {
      "text/plain": [
       "20177"
      ]
     },
     "execution_count": 75,
     "metadata": {},
     "output_type": "execute_result"
    }
   ],
   "source": [
    "data[(data.SALES_AFTER_SENDOUT_1 > 0.0) & (data.SENDOUT_1 == 1)].CUST_ID.count()"
   ]
  },
  {
   "cell_type": "code",
   "execution_count": 59,
   "metadata": {},
   "outputs": [
    {
     "data": {
      "text/plain": [
       "5178"
      ]
     },
     "execution_count": 59,
     "metadata": {},
     "output_type": "execute_result"
    }
   ],
   "source": [
    "data[(data.SALES_BEFORE_SENDOUT_1 > 0.0) & (data.SENDOUT_1 == 0)].CUST_ID.count()"
   ]
  },
  {
   "cell_type": "code",
   "execution_count": 60,
   "metadata": {},
   "outputs": [
    {
     "data": {
      "text/plain": [
       "5411"
      ]
     },
     "execution_count": 60,
     "metadata": {},
     "output_type": "execute_result"
    }
   ],
   "source": [
    "data[(data.SALES_AFTER_SENDOUT_1 > 0.0) & (data.SENDOUT_1 == 0)].CUST_ID.count()"
   ]
  },
  {
   "cell_type": "code",
   "execution_count": 102,
   "metadata": {},
   "outputs": [
    {
     "data": {
      "text/plain": [
       "1120"
      ]
     },
     "execution_count": 102,
     "metadata": {},
     "output_type": "execute_result"
    }
   ],
   "source": [
    "#ile klientów zwróciło towar po sprzedaży\n",
    "data[(data.SALES_AFTER_SENDOUT_1 < 0.0)].CUST_ID.count()"
   ]
  },
  {
   "cell_type": "code",
   "execution_count": 105,
   "metadata": {},
   "outputs": [
    {
     "data": {
      "text/plain": [
       "-9746.73"
      ]
     },
     "execution_count": 105,
     "metadata": {},
     "output_type": "execute_result"
    }
   ],
   "source": [
    "#na jaką wartość zwrócono towary\n",
    "data[(data.SALES_AFTER_SENDOUT_1 < 0.0)].SALES_AFTER_SENDOUT_1.sum()"
   ]
  },
  {
   "cell_type": "code",
   "execution_count": 112,
   "metadata": {},
   "outputs": [
    {
     "data": {
      "text/plain": [
       "691"
      ]
     },
     "execution_count": 112,
     "metadata": {},
     "output_type": "execute_result"
    }
   ],
   "source": [
    "#zobaczmy ile klientów straciliśmy- tzn zrobili zakupy przed wysyłką komunikacji, ale po wysyłce już nie\n",
    "data[(data.SALES_BEFORE_SENDOUT_1 > 0.0) & (data.SALES_AFTER_SENDOUT_1 == 0.0) & (data.SENDOUT_1 == 1)].CUST_ID.count()"
   ]
  },
  {
   "cell_type": "markdown",
   "metadata": {},
   "source": [
    "Widzimy, że cztero krotnie wzrosła ilość klientów, którzy zrobili zakupy po otrzymaniu komunikacji. Ilość klientów, którzy nie otrzymali komunikacji a dokonują zakupów jest praktycznie stała- wynosi nieco ponad 5 tys. Niestety tutaj 1120 klientów zwróciło towary na sumę prawie 10 tys zł. Dodatkowo 691 klientów zrobiło zakupy przed wysyłką ulotek, ale po otrzymaniu komunikacji już nic nie zakupili. "
   ]
  },
  {
   "cell_type": "markdown",
   "metadata": {},
   "source": [
    "### b. Analiza klientów w okresie drugiej wysyłki komunikacji"
   ]
  },
  {
   "cell_type": "code",
   "execution_count": 65,
   "metadata": {},
   "outputs": [
    {
     "data": {
      "text/plain": [
       "269"
      ]
     },
     "execution_count": 65,
     "metadata": {},
     "output_type": "execute_result"
    }
   ],
   "source": [
    "data[(data.SALES_BEFORE_SENDOUT_2 > 0.0) & (data.SENDOUT_2 == 1)].CUST_ID.count()"
   ]
  },
  {
   "cell_type": "code",
   "execution_count": 67,
   "metadata": {},
   "outputs": [
    {
     "data": {
      "text/plain": [
       "375"
      ]
     },
     "execution_count": 67,
     "metadata": {},
     "output_type": "execute_result"
    }
   ],
   "source": [
    "data[(data.SALES_AFTER_SENDOUT_2 > 0.0) & (data.SENDOUT_2 == 1)].CUST_ID.count()"
   ]
  },
  {
   "cell_type": "code",
   "execution_count": 66,
   "metadata": {},
   "outputs": [
    {
     "data": {
      "text/plain": [
       "14175"
      ]
     },
     "execution_count": 66,
     "metadata": {},
     "output_type": "execute_result"
    }
   ],
   "source": [
    "data[(data.SALES_BEFORE_SENDOUT_2 > 0.0) & (data.SENDOUT_2 == 0)].CUST_ID.count()"
   ]
  },
  {
   "cell_type": "code",
   "execution_count": 73,
   "metadata": {},
   "outputs": [
    {
     "data": {
      "text/plain": [
       "18250"
      ]
     },
     "execution_count": 73,
     "metadata": {},
     "output_type": "execute_result"
    }
   ],
   "source": [
    "data[(data.SALES_AFTER_SENDOUT_2 > 0.0 ) & (data.SENDOUT_2 == 0)].CUST_ID.count()"
   ]
  },
  {
   "cell_type": "code",
   "execution_count": 103,
   "metadata": {},
   "outputs": [
    {
     "data": {
      "text/plain": [
       "0"
      ]
     },
     "execution_count": 103,
     "metadata": {},
     "output_type": "execute_result"
    }
   ],
   "source": [
    "#ile jest zwrotów po sprzedaży\n",
    "data[(data.SALES_AFTER_SENDOUT_2 < 0.0)].CUST_ID.count()"
   ]
  },
  {
   "cell_type": "code",
   "execution_count": 113,
   "metadata": {},
   "outputs": [
    {
     "data": {
      "text/plain": [
       "152"
      ]
     },
     "execution_count": 113,
     "metadata": {},
     "output_type": "execute_result"
    }
   ],
   "source": [
    "#zobaczmy ile klientów straciliśmy- tzn zrobili zakupy przed wysyłką komunikacji, ale po wysyłce już nie\n",
    "data[(data.SALES_BEFORE_SENDOUT_2 > 0.0) & (data.SALES_AFTER_SENDOUT_2 == 0.0) & (data.SENDOUT_2 == 1)].CUST_ID.count()"
   ]
  },
  {
   "cell_type": "markdown",
   "metadata": {},
   "source": [
    "0 94 klientów więcej odnotowało sprzedaż po wysyłce drugiej komunikacji. Bez otrzymania komunikacji zakupów dokonało ponad 4 tys. klientów więcej czyli 18250. Tutaj mniej klientów dokonało zakupów niż po 1 wysyłce, jednak średnia wartośc zamówień była wyższa. Nie odnotowano zwrotów po zakupach. Dodatkowo 152 klientów zrobiło zakupy przed wysyłką ulotek, ale po otrzymaniu komunikacji już nic nie zakupili. "
   ]
  },
  {
   "cell_type": "markdown",
   "metadata": {},
   "source": [
    "### c. Analiza klientów w okresie trzeciej wysyłki komunikacji"
   ]
  },
  {
   "cell_type": "code",
   "execution_count": 92,
   "metadata": {},
   "outputs": [
    {
     "data": {
      "text/plain": [
       "9901"
      ]
     },
     "execution_count": 92,
     "metadata": {},
     "output_type": "execute_result"
    }
   ],
   "source": [
    "data[(data.SALES_BEFORE_SENDOUT_3 > 0.0) & (data.SENDOUT_3 == 1)].CUST_ID.count()"
   ]
  },
  {
   "cell_type": "code",
   "execution_count": 93,
   "metadata": {},
   "outputs": [
    {
     "data": {
      "text/plain": [
       "12107"
      ]
     },
     "execution_count": 93,
     "metadata": {},
     "output_type": "execute_result"
    }
   ],
   "source": [
    "data[(data.SALES_AFTER_SENDOUT_3 > 0.0) & (data.SENDOUT_3 == 1)].CUST_ID.count()"
   ]
  },
  {
   "cell_type": "code",
   "execution_count": 95,
   "metadata": {},
   "outputs": [
    {
     "data": {
      "text/plain": [
       "2429"
      ]
     },
     "execution_count": 95,
     "metadata": {},
     "output_type": "execute_result"
    }
   ],
   "source": [
    "data[(data.SALES_BEFORE_SENDOUT_3 > 0.0) & (data.SENDOUT_3 == 0)].CUST_ID.count()"
   ]
  },
  {
   "cell_type": "code",
   "execution_count": 96,
   "metadata": {},
   "outputs": [
    {
     "data": {
      "text/plain": [
       "2310"
      ]
     },
     "execution_count": 96,
     "metadata": {},
     "output_type": "execute_result"
    }
   ],
   "source": [
    "data[(data.SALES_AFTER_SENDOUT_3 > 0.0 ) & (data.SENDOUT_3 == 0)].CUST_ID.count()"
   ]
  },
  {
   "cell_type": "code",
   "execution_count": 104,
   "metadata": {},
   "outputs": [
    {
     "data": {
      "text/plain": [
       "0"
      ]
     },
     "execution_count": 104,
     "metadata": {},
     "output_type": "execute_result"
    }
   ],
   "source": [
    "#ile jest zwrotów po sprzedaży\n",
    "data[(data.SALES_AFTER_SENDOUT_3 < 0.0)].CUST_ID.count()"
   ]
  },
  {
   "cell_type": "code",
   "execution_count": 114,
   "metadata": {},
   "outputs": [
    {
     "data": {
      "text/plain": [
       "5777"
      ]
     },
     "execution_count": 114,
     "metadata": {},
     "output_type": "execute_result"
    }
   ],
   "source": [
    "#zobaczmy ile klientów straciliśmy- tzn zrobili zakupy przed wysyłką komunikacji, ale po wysyłce już nie\n",
    "data[(data.SALES_BEFORE_SENDOUT_3 > 0.0) & (data.SALES_AFTER_SENDOUT_3 == 0.0) & (data.SENDOUT_3 == 1)].CUST_ID.count()"
   ]
  },
  {
   "cell_type": "markdown",
   "metadata": {},
   "source": [
    "Po otrzymaniu ulotek z trzeciej komunikacji, zakupów dokonało ok.2200 osób więcej. O 119 osób mniej zrobiło zakupy bez otrzymania komunikacji. \n",
    "Porównując ilość wszystkich historycznych zakupów, najmniej klientów kupiło towary w okolicy trzeciej wysyłki. \n",
    "Nie odnotowano zwrotów po zakupach. Dodatkowo aż 5777 klientów zrobiło zakupy przed wysyłką ulotek, ale po otrzymaniu komunikacji już nic nie zakupili.  Można wnioskować, że promocja zachęcająca do kupna podczas 3 wysyłki była najgorsza w historii. "
   ]
  },
  {
   "cell_type": "raw",
   "metadata": {},
   "source": [
    "# EDA IDEA: \n",
    "\n",
    "wykres\n",
    "dla klientów którzy dostali ulotkę i tych którzy nie dostsli\n",
    "\n",
    "\n",
    "\n",
    "5. Ile klientów zwiększyło zakup w stosunku do poprzednich kampanii\n",
    "6. Rozkład zysku - zwiększenia sprzedaży = SALES_AFTER - SALES_BEFORE(histogram)\n"
   ]
  },
  {
   "cell_type": "markdown",
   "metadata": {},
   "source": [
    "### Modelling"
   ]
  },
  {
   "cell_type": "markdown",
   "metadata": {},
   "source": [
    "Ciężko zidentyfikować target ale rozsądnie jest wysyłać ulotki do klientów którzy zwiększają sprzedaż po kamapnii. \n",
    "Można spróbować dataset który będzie miał kolumny: \n",
    "\n",
    "| SENDOUT_1 | SENDOUT_2 | SENDOUT_3 | ZYSK_PO_1 | ZYSK_PO_2 | ZYSK_PO_3 |\n",
    "| --- | --- | --- | --- | --- | --- |\n",
    "| 0/1 | 0/1 | 0/1 | val | val | val |\n",
    "\n",
    "I naszym targetem mogą być klienci np.:\n",
    "1. którzy przynieśli zysk na którejkolwiek kampani reklamowej \\\n",
    "lub\n",
    "2. którzy przynieśli zysk na wszystkich kampaniach \\\n",
    "lub\n",
    "3. nowi klienci \\\n",
    "lub\n",
    "4. klienci którzy przynieśli więcej niż np. 10/15/20% zysku na któejkolwiek kampanii \n",
    "\n",
    "\n",
    "nr. 4 wydaje się być najrozsądniejszy, ponieważ reszta wydaje się być deterministyczna...\n",
    "\n",
    "Ciężko coś wymyślić bo nie ma danych o klientach. Zazwyczaj są jakieś informacje typu wiek, wykształcenie, zarobki itd...\n",
    "\n",
    "Więc może nie jest to projekt MLowy? I trzeba znaleźć inne zależności np. top 15K klientów którzy najbardziej zwiększyli sprzedaż po 3 kampanii???"
   ]
  },
  {
   "cell_type": "code",
   "execution_count": null,
   "metadata": {},
   "outputs": [],
   "source": [
    "from sklearn.model_selection import train_test_split\n",
    "from sklearn.preprocessing import StandardScaler\n"
   ]
  },
  {
   "cell_type": "code",
   "execution_count": null,
   "metadata": {},
   "outputs": [],
   "source": [
    "X, Y= data.iloc[:, :-3], data.iloc[:, -3:]\n",
    "X_train, X_test, y_train, y_test=train_test_split(X, Y, test_size=0.33, stratify=Y, random_state=42)"
   ]
  },
  {
   "cell_type": "code",
   "execution_count": null,
   "metadata": {},
   "outputs": [],
   "source": [
    "sc=StandardScaler()\n",
    "X_train=sc.fit_transform(X_train)\n",
    "X_test=sc.transform(X_test)\n",
    "X_test"
   ]
  },
  {
   "cell_type": "markdown",
   "metadata": {},
   "source": [
    "#### 1. Decision Tree"
   ]
  },
  {
   "cell_type": "code",
   "execution_count": null,
   "metadata": {},
   "outputs": [],
   "source": [
    "from sklearn.tree import DecisionTreeClassifier\n",
    "from sklearn.metrics import classification_report,confusion_matrix\n",
    "from sklearn.metrics import precision_score\n",
    "from sklearn.metrics import accuracy_score\n",
    "from sklearn.metrics import roc_curve"
   ]
  },
  {
   "cell_type": "code",
   "execution_count": null,
   "metadata": {},
   "outputs": [],
   "source": [
    "dtree = DecisionTreeClassifier(max_depth=10, random_state=0)\n",
    "dtree.fit(X_train,y_train)"
   ]
  },
  {
   "cell_type": "code",
   "execution_count": null,
   "metadata": {},
   "outputs": [],
   "source": [
    "dt_prediction = dtree.predict(X_test)"
   ]
  },
  {
   "cell_type": "code",
   "execution_count": null,
   "metadata": {},
   "outputs": [],
   "source": []
  }
 ],
 "metadata": {
  "kernelspec": {
   "display_name": "Python 3",
   "language": "python",
   "name": "python3"
  },
  "language_info": {
   "codemirror_mode": {
    "name": "ipython",
    "version": 3
   },
   "file_extension": ".py",
   "mimetype": "text/x-python",
   "name": "python",
   "nbconvert_exporter": "python",
   "pygments_lexer": "ipython3",
   "version": "3.7.6"
  }
 },
 "nbformat": 4,
 "nbformat_minor": 4
}
